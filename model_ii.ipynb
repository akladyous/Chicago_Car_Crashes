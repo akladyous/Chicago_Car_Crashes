{
 "cells": [
  {
   "cell_type": "code",
   "execution_count": 5,
   "id": "biblical-copying",
   "metadata": {
    "execution": {
     "iopub.execute_input": "2021-04-20T21:45:01.246755Z",
     "iopub.status.busy": "2021-04-20T21:45:01.246369Z",
     "iopub.status.idle": "2021-04-20T21:45:01.266325Z",
     "shell.execute_reply": "2021-04-20T21:45:01.265308Z",
     "shell.execute_reply.started": "2021-04-20T21:45:01.246723Z"
    },
    "tags": []
   },
   "outputs": [],
   "source": [
    "import numpy as np\n",
    "import pandas as pd\n",
    "import matplotlib.pyplot as plt\n",
    "import seaborn as sns\n",
    "import joblib\n",
    "\n",
    "from sklearn.impute import SimpleImputer\n",
    "from sklearn.preprocessing import OneHotEncoder, LabelEncoder\n",
    "from sklearn.model_selection import train_test_split\n",
    "from sklearn.ensemble import RandomForestClassifier\n",
    "from sklearn.metrics import classification_report, accuracy_score, roc_auc_score\n",
    "from sklearn.pipeline import Pipeline\n",
    "from sklearn.compose import ColumnTransformer\n",
    "\n",
    "import os\n",
    "import sys\n",
    "module_path = os.getcwd()\n",
    "if module_path not in sys.path:\n",
    "    sys.path.append(module_path)\n",
    "%run './python/Chicago_Car_Crashes.py'"
   ]
  },
  {
   "cell_type": "markdown",
   "id": "prostate-lightweight",
   "metadata": {},
   "source": [
    "## DATA COLLECTION"
   ]
  },
  {
   "cell_type": "code",
   "execution_count": 6,
   "id": "supported-dover",
   "metadata": {
    "execution": {
     "iopub.execute_input": "2021-04-20T21:45:08.515421Z",
     "iopub.status.busy": "2021-04-20T21:45:08.515101Z",
     "iopub.status.idle": "2021-04-20T21:45:09.568441Z",
     "shell.execute_reply": "2021-04-20T21:45:09.568110Z",
     "shell.execute_reply.started": "2021-04-20T21:45:08.515390Z"
    },
    "tags": []
   },
   "outputs": [],
   "source": [
    "df = pd.read_csv('./data/Chicago_Traffic_Crashes_2020.csv.gz')"
   ]
  },
  {
   "cell_type": "code",
   "execution_count": 8,
   "id": "synthetic-auction",
   "metadata": {
    "execution": {
     "iopub.execute_input": "2021-04-20T21:26:03.075502Z",
     "iopub.status.busy": "2021-04-20T21:26:03.075401Z",
     "iopub.status.idle": "2021-04-20T21:26:03.104297Z",
     "shell.execute_reply": "2021-04-20T21:26:03.103909Z",
     "shell.execute_reply.started": "2021-04-20T21:26:03.075490Z"
    },
    "tags": []
   },
   "outputs": [],
   "source": [
    "target_column = joblib.load('./pkl/target_column.pkl')\n",
    "df.PRIM_CONTRIBUTORY_CAUSE = Target_Grouper().fit_transform(df.PRIM_CONTRIBUTORY_CAUSE)\n",
    "ohe_target = OneHotEncoder(handle_unknown='ignore', sparse=False)\n",
    "df_target  = pd.DataFrame(ohe_target.fit_transform(df[target_column].values.reshape(-1,1)),\n",
    "                         columns=ohe_target.categories_)\n",
    "df_target.columns = df_target.columns.get_level_values(0).str.replace(' ', '_')"
   ]
  },
  {
   "cell_type": "code",
   "execution_count": 4,
   "id": "outer-broadcasting",
   "metadata": {
    "execution": {
     "iopub.execute_input": "2021-04-20T21:26:03.104979Z",
     "iopub.status.busy": "2021-04-20T21:26:03.104879Z",
     "iopub.status.idle": "2021-04-20T21:26:03.204501Z",
     "shell.execute_reply": "2021-04-20T21:26:03.204117Z",
     "shell.execute_reply.started": "2021-04-20T21:26:03.104967Z"
    },
    "tags": []
   },
   "outputs": [],
   "source": [
    "X, y = df.drop(target_column, axis=1), df_target['DISREGARDING']\n",
    "x_train, x_test, y_train, y_test = train_test_split(X, y, test_size=.25, random_state=264, stratify=y)"
   ]
  },
  {
   "cell_type": "code",
   "execution_count": 5,
   "id": "grave-correction",
   "metadata": {
    "execution": {
     "iopub.execute_input": "2021-04-20T21:26:03.205164Z",
     "iopub.status.busy": "2021-04-20T21:26:03.205067Z",
     "iopub.status.idle": "2021-04-20T21:26:03.209139Z",
     "shell.execute_reply": "2021-04-20T21:26:03.208762Z",
     "shell.execute_reply.started": "2021-04-20T21:26:03.205151Z"
    },
    "tags": []
   },
   "outputs": [],
   "source": [
    "speed_column  = joblib.load('./pkl/speed_column.pkl')\n",
    "speed_transformer = Pipeline([\n",
    "    ('impute_speed',  SpeedTransformer()),\n",
    "    ('ohe_speed', OneHotEncoder(sparse=False)) ])\n",
    "\n",
    "categoric_columns    = joblib.load('./pkl/categoric_columns.pkl')\n",
    "categoric_transformer = Pipeline([\n",
    "    ('Imputer_cat', SimpleImputer(missing_values=np.nan, strategy='constant', fill_value='UNKNOWN')),\n",
    "    ('onehot', OneHotEncoder(sparse=False)) ])\n",
    "\n",
    "preprocessing = ColumnTransformer(\n",
    "    transformers = [\n",
    "        ('speed', speed_transformer, speed_column),\n",
    "        ('categoric', categoric_transformer, categoric_columns) ])\n",
    "\n",
    "rfc_pipeline = Pipeline(steps=[\n",
    "    ('transformer', preprocessing),\n",
    "    ('classifier', RandomForestClassifier(**joblib.load('./pkl/RF_Grid_Search_best_params.pkl')))\n",
    "])"
   ]
  },
  {
   "cell_type": "code",
   "execution_count": 8,
   "id": "coordinated-therapist",
   "metadata": {
    "execution": {
     "iopub.execute_input": "2021-04-20T21:26:03.210159Z",
     "iopub.status.busy": "2021-04-20T21:26:03.210039Z",
     "iopub.status.idle": "2021-04-20T21:27:37.819258Z",
     "shell.execute_reply": "2021-04-20T21:27:37.818758Z",
     "shell.execute_reply.started": "2021-04-20T21:26:03.210146Z"
    },
    "tags": []
   },
   "outputs": [
    {
     "name": "stdout",
     "output_type": "stream",
     "text": [
      "ROC_AUC SCORE   0.7896499226245586\n",
      "ACCURACY SCORE  0.9717384065210152\n"
     ]
    }
   ],
   "source": [
    "rfc_pipeline_obj = rfc_pipeline.fit(x_train, y_train)\n",
    "y_train_pred = model_metric(rfc_pipeline, x_train, y_train)"
   ]
  },
  {
   "cell_type": "code",
   "execution_count": 9,
   "id": "demonstrated-occasion",
   "metadata": {
    "execution": {
     "iopub.execute_input": "2021-04-20T21:27:37.820205Z",
     "iopub.status.busy": "2021-04-20T21:27:37.820108Z",
     "iopub.status.idle": "2021-04-20T21:28:02.335686Z",
     "shell.execute_reply": "2021-04-20T21:28:02.335297Z",
     "shell.execute_reply.started": "2021-04-20T21:27:37.820191Z"
    },
    "tags": []
   },
   "outputs": [
    {
     "name": "stdout",
     "output_type": "stream",
     "text": [
      "ROC_AUC SCORE   0.8107263347403139\n",
      "ACCURACY SCORE  0.9756330625895844\n"
     ]
    }
   ],
   "source": [
    "rfc_pipeline_obj = rfc_pipeline.fit(x_test, y_test)\n",
    "y_test_pred = model_metric(rfc_pipeline, x_test, y_test)"
   ]
  },
  {
   "cell_type": "code",
   "execution_count": 10,
   "id": "comparative-watch",
   "metadata": {
    "execution": {
     "iopub.execute_input": "2021-04-20T21:36:14.541293Z",
     "iopub.status.busy": "2021-04-20T21:36:14.540915Z",
     "iopub.status.idle": "2021-04-20T21:36:14.708330Z",
     "shell.execute_reply": "2021-04-20T21:36:14.707940Z",
     "shell.execute_reply.started": "2021-04-20T21:36:14.541255Z"
    },
    "tags": []
   },
   "outputs": [],
   "source": [
    "features_importance = rfc_pipeline.named_steps.classifier.feature_importances_\n",
    "\n",
    "speed_encoed_columns = rfc_pipeline.named_steps.transformer.named_transformers_.speed.named_steps.ohe_speed\\\n",
    ".get_feature_names(input_features=speed_column)\n",
    "\n",
    "features_encoded_columns = rfc_pipeline.named_steps.transformer.named_transformers_.categoric.named_steps.onehot\\\n",
    ".get_feature_names(input_features=categoric_columns)\n",
    "\n",
    "features_importance_cols = np.concatenate([speed_encoed_columns,features_encoded_columns])"
   ]
  },
  {
   "cell_type": "code",
   "execution_count": 11,
   "id": "lyric-vacation",
   "metadata": {
    "execution": {
     "iopub.execute_input": "2021-04-20T21:36:17.511137Z",
     "iopub.status.busy": "2021-04-20T21:36:17.510473Z",
     "iopub.status.idle": "2021-04-20T21:36:17.523192Z",
     "shell.execute_reply": "2021-04-20T21:36:17.522082Z",
     "shell.execute_reply.started": "2021-04-20T21:36:17.511070Z"
    },
    "tags": []
   },
   "outputs": [],
   "source": [
    "Features_importance_df = pd.DataFrame({'Features': features_importance_cols,\n",
    "                          'Ranking': features_importance}).sort_values(by='Ranking',ascending=False)\n",
    "\n",
    "Features_importance_df['Ranking'] = Features_importance_df['Ranking'].apply(lambda x: x*100)"
   ]
  },
  {
   "cell_type": "code",
   "execution_count": 12,
   "id": "organizational-vancouver",
   "metadata": {
    "execution": {
     "iopub.execute_input": "2021-04-20T21:36:18.023407Z",
     "iopub.status.busy": "2021-04-20T21:36:18.023024Z",
     "iopub.status.idle": "2021-04-20T21:36:18.212938Z",
     "shell.execute_reply": "2021-04-20T21:36:18.212630Z",
     "shell.execute_reply.started": "2021-04-20T21:36:18.023373Z"
    },
    "tags": []
   },
   "outputs": [
    {
     "data": {
      "image/png": "[encoded data removed]",
      "text/plain": [
       "<Figure size 720x432 with 1 Axes>"
      ]
     },
     "metadata": {
      "needs_background": "light"
     },
     "output_type": "display_data"
    }
   ],
   "source": [
    "fig, ax = plt.subplots(figsize=(10,6))\n",
    "g = sns.barplot(x='Ranking', y='Features', data=Features_importance_df.head(15))\n",
    "plt.xticks(rotation=90)\n",
    "ax.set_title(\"TOP 15 CONTRIBUTORY CAR CRASHES 'UNABLE TO DETERMINE'\", fontsize=15, weight='bold', ha='center', va='bottom')\n",
    "\n",
    "ax.set_xlabel('Features Percentage')\n",
    "ax.set_ylabel('Ranking')\n",
    "plt.show()"
   ]
  }
 ],
 "metadata": {
  "kernelspec": {
   "display_name": "conda_python3",
   "language": "python",
   "name": "conda_python3"
  },
  "language_info": {
   "codemirror_mode": {
    "name": "ipython",
    "version": 3
   },
   "file_extension": ".py",
   "mimetype": "text/x-python",
   "name": "python",
   "nbconvert_exporter": "python",
   "pygments_lexer": "ipython3",
   "version": "3.6.13"
  }
 },
 "nbformat": 4,
 "nbformat_minor": 5
}
