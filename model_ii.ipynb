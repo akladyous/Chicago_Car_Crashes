{
 "cells": [
  {
   "cell_type": "code",
   "execution_count": 1,
   "id": "directed-adolescent",
   "metadata": {
    "execution": {
     "iopub.execute_input": "2021-04-22T21:14:30.126088Z",
     "iopub.status.busy": "2021-04-22T21:14:30.125765Z",
     "iopub.status.idle": "2021-04-22T21:14:30.982498Z",
     "shell.execute_reply": "2021-04-22T21:14:30.982126Z",
     "shell.execute_reply.started": "2021-04-22T21:14:30.125996Z"
    },
    "tags": []
   },
   "outputs": [],
   "source": [
    "import numpy as np\n",
    "import pandas as pd\n",
    "import matplotlib.pyplot as plt\n",
    "import seaborn as sns\n",
    "import joblib\n",
    "from sklearn.impute import SimpleImputer\n",
    "from sklearn.preprocessing import OneHotEncoder, LabelEncoder\n",
    "from sklearn.model_selection import train_test_split\n",
    "from sklearn.ensemble import RandomForestClassifier\n",
    "from sklearn.metrics import classification_report, accuracy_score, roc_auc_score\n",
    "from sklearn.pipeline import Pipeline\n",
    "from sklearn.compose import ColumnTransformer\n",
    "import os\n",
    "import sys\n",
    "module_path = os.getcwd()\n",
    "if module_path not in sys.path:\n",
    "    sys.path.append(module_path)\n",
    "%run './python/Chicago_Car_Crashes.py'"
   ]
  },
  {
   "cell_type": "code",
   "execution_count": 2,
   "id": "perceived-small",
   "metadata": {
    "execution": {
     "iopub.execute_input": "2021-04-22T21:14:30.983794Z",
     "iopub.status.busy": "2021-04-22T21:14:30.983700Z",
     "iopub.status.idle": "2021-04-22T21:14:31.800531Z",
     "shell.execute_reply": "2021-04-22T21:14:31.800128Z",
     "shell.execute_reply.started": "2021-04-22T21:14:30.983781Z"
    },
    "tags": []
   },
   "outputs": [],
   "source": [
    "df = pd.read_csv('./data/Chicago_Traffic_Crashes_2020.csv.gz')"
   ]
  },
  {
   "cell_type": "code",
   "execution_count": 3,
   "id": "dress-anthropology",
   "metadata": {
    "execution": {
     "iopub.execute_input": "2021-04-22T21:14:31.801597Z",
     "iopub.status.busy": "2021-04-22T21:14:31.801494Z",
     "iopub.status.idle": "2021-04-22T21:14:31.955386Z",
     "shell.execute_reply": "2021-04-22T21:14:31.955027Z",
     "shell.execute_reply.started": "2021-04-22T21:14:31.801585Z"
    },
    "tags": []
   },
   "outputs": [],
   "source": [
    "target_column = joblib.load('./pkl/target_column.pkl')\n",
    "df.PRIM_CONTRIBUTORY_CAUSE = Target_Grouper().fit_transform(df.PRIM_CONTRIBUTORY_CAUSE)\n",
    "ohe_target = OneHotEncoder(handle_unknown='ignore', sparse=False)\n",
    "df_target  = pd.DataFrame(ohe_target.fit_transform(df[target_column].values.reshape(-1,1)),\n",
    "                         columns=ohe_target.categories_)\n",
    "df_target.columns = df_target.columns.get_level_values(0).str.replace(' ', '_')"
   ]
  },
  {
   "cell_type": "code",
   "execution_count": 4,
   "id": "demographic-official",
   "metadata": {
    "execution": {
     "iopub.execute_input": "2021-04-22T21:14:31.956022Z",
     "iopub.status.busy": "2021-04-22T21:14:31.955920Z",
     "iopub.status.idle": "2021-04-22T21:14:32.050556Z",
     "shell.execute_reply": "2021-04-22T21:14:32.050199Z",
     "shell.execute_reply.started": "2021-04-22T21:14:31.956010Z"
    },
    "tags": []
   },
   "outputs": [],
   "source": [
    "X, y = df.drop(target_column, axis=1), df_target['DISREGARDING']\n",
    "x_train, x_test, y_train, y_test = train_test_split(X, y, test_size=.25, random_state=264, stratify=y)"
   ]
  },
  {
   "cell_type": "code",
   "execution_count": 5,
   "id": "fewer-enterprise",
   "metadata": {
    "execution": {
     "iopub.execute_input": "2021-04-22T21:14:32.051257Z",
     "iopub.status.busy": "2021-04-22T21:14:32.051157Z",
     "iopub.status.idle": "2021-04-22T21:14:32.056274Z",
     "shell.execute_reply": "2021-04-22T21:14:32.055982Z",
     "shell.execute_reply.started": "2021-04-22T21:14:32.051244Z"
    },
    "tags": []
   },
   "outputs": [],
   "source": [
    "speed_column  = joblib.load('./pkl/speed_column.pkl')\n",
    "speed_transformer = Pipeline([\n",
    "    ('impute_speed',  SpeedTransformer()),\n",
    "    ('ohe_speed', OneHotEncoder(sparse=False)) ])\n",
    "categoric_columns    = joblib.load('./pkl/categoric_columns.pkl')\n",
    "categoric_transformer = Pipeline([\n",
    "    ('Imputer_cat', SimpleImputer(missing_values=np.nan, strategy='constant', fill_value='UNKNOWN')),\n",
    "    ('onehot', OneHotEncoder(sparse=False)) ])\n",
    "preprocessing = ColumnTransformer(\n",
    "    transformers = [\n",
    "        ('speed', speed_transformer, speed_column),\n",
    "        ('categoric', categoric_transformer, categoric_columns) ])\n",
    "rfc_pipeline = Pipeline(steps=[\n",
    "    ('transformer', preprocessing),\n",
    "    ('classifier', RandomForestClassifier(**joblib.load('./pkl/RF_Grid_Search_best_params.pkl'))) ])"
   ]
  },
  {
   "cell_type": "code",
   "execution_count": 6,
   "id": "matched-affair",
   "metadata": {
    "execution": {
     "iopub.execute_input": "2021-04-22T21:14:32.057112Z",
     "iopub.status.busy": "2021-04-22T21:14:32.057007Z",
     "iopub.status.idle": "2021-04-22T21:15:43.124077Z",
     "shell.execute_reply": "2021-04-22T21:15:43.123741Z",
     "shell.execute_reply.started": "2021-04-22T21:14:32.057099Z"
    },
    "tags": []
   },
   "outputs": [
    {
     "name": "stdout",
     "output_type": "stream",
     "text": [
      "ROC_AUC SCORE   0.7896499226245586\n",
      "ACCURACY SCORE  0.9717384065210152\n"
     ]
    }
   ],
   "source": [
    "rfc_pipeline_obj = rfc_pipeline.fit(x_train, y_train)\n",
    "y_train_pred = model_metric(rfc_pipeline, x_train, y_train)"
   ]
  },
  {
   "cell_type": "code",
   "execution_count": 7,
   "id": "vietnamese-germany",
   "metadata": {
    "execution": {
     "iopub.execute_input": "2021-04-22T21:15:43.124954Z",
     "iopub.status.busy": "2021-04-22T21:15:43.124846Z",
     "iopub.status.idle": "2021-04-22T21:15:58.507805Z",
     "shell.execute_reply": "2021-04-22T21:15:58.507389Z",
     "shell.execute_reply.started": "2021-04-22T21:15:43.124940Z"
    },
    "tags": []
   },
   "outputs": [
    {
     "name": "stdout",
     "output_type": "stream",
     "text": [
      "ROC_AUC SCORE   0.8107263347403139\n",
      "ACCURACY SCORE  0.9756330625895844\n"
     ]
    }
   ],
   "source": [
    "rfc_pipeline_obj = rfc_pipeline.fit(x_test, y_test)\n",
    "y_test_pred = model_metric(rfc_pipeline, x_test, y_test)"
   ]
  },
  {
   "cell_type": "code",
   "execution_count": 8,
   "id": "narrow-acquisition",
   "metadata": {
    "execution": {
     "iopub.execute_input": "2021-04-22T21:15:58.510298Z",
     "iopub.status.busy": "2021-04-22T21:15:58.510136Z",
     "iopub.status.idle": "2021-04-22T21:15:58.634669Z",
     "shell.execute_reply": "2021-04-22T21:15:58.634338Z",
     "shell.execute_reply.started": "2021-04-22T21:15:58.510284Z"
    },
    "tags": []
   },
   "outputs": [],
   "source": [
    "features_importance = rfc_pipeline.named_steps.classifier.feature_importances_\n",
    "speed_encoed_columns = rfc_pipeline.named_steps.transformer.named_transformers_.speed.named_steps.ohe_speed\\\n",
    ".get_feature_names(input_features=speed_column)\n",
    "features_encoded_columns = rfc_pipeline.named_steps.transformer.named_transformers_.categoric.named_steps.onehot\\\n",
    ".get_feature_names(input_features=categoric_columns)\n",
    "features_importance_cols = np.concatenate([speed_encoed_columns,features_encoded_columns])"
   ]
  },
  {
   "cell_type": "code",
   "execution_count": 9,
   "id": "urban-corpus",
   "metadata": {
    "execution": {
     "iopub.execute_input": "2021-04-22T21:15:58.635575Z",
     "iopub.status.busy": "2021-04-22T21:15:58.635467Z",
     "iopub.status.idle": "2021-04-22T21:15:58.802012Z",
     "shell.execute_reply": "2021-04-22T21:15:58.801688Z",
     "shell.execute_reply.started": "2021-04-22T21:15:58.635562Z"
    },
    "tags": []
   },
   "outputs": [
    {
     "data": {
      "image/png": "[encoded data removed]",
      "text/plain": [
       "<Figure size 720x432 with 1 Axes>"
      ]
     },
     "metadata": {
      "needs_background": "light"
     },
     "output_type": "display_data"
    }
   ],
   "source": [
    "Features_importance_df = pd.DataFrame({'Features': features_importance_cols,\n",
    "                          'Ranking': features_importance}).sort_values(by='Ranking',ascending=False)\n",
    "Features_importance_df['Ranking'] = Features_importance_df['Ranking'].apply(lambda x: x*100)\n",
    "\n",
    "fig, ax = plt.subplots(figsize=(10,6))\n",
    "g = sns.barplot(x='Ranking', y='Features', data=Features_importance_df.head(15))\n",
    "plt.xticks(rotation=90)\n",
    "ax.set_title(\"TOP 15 CONTRIBUTORY CAR CRASHES\", fontsize=15, ha='center', va='bottom')\n",
    "ax.set_xlabel('Percentage')\n",
    "ax.set_ylabel('Features')\n",
    "plt.show()"
   ]
  }
 ],
 "metadata": {
  "kernelspec": {
   "display_name": "Python 3",
   "language": "python",
   "name": "python3"
  },
  "language_info": {
   "codemirror_mode": {
    "name": "ipython",
    "version": 3
   },
   "file_extension": ".py",
   "mimetype": "text/x-python",
   "name": "python",
   "nbconvert_exporter": "python",
   "pygments_lexer": "ipython3",
   "version": "3.8.5"
  }
 },
 "nbformat": 4,
 "nbformat_minor": 5
}
