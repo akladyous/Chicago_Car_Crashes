{
 "cells": [
  {
   "cell_type": "code",
   "execution_count": 1,
   "id": "instructional-convertible",
   "metadata": {
    "execution": {
     "iopub.execute_input": "2021-04-22T02:14:33.209335Z",
     "iopub.status.busy": "2021-04-22T02:14:33.208858Z",
     "iopub.status.idle": "2021-04-22T02:14:34.252022Z",
     "shell.execute_reply": "2021-04-22T02:14:34.251650Z",
     "shell.execute_reply.started": "2021-04-22T02:14:33.209190Z"
    },
    "tags": []
   },
   "outputs": [],
   "source": [
    "import numpy as np\n",
    "import pandas as pd\n",
    "import matplotlib.pyplot as plt\n",
    "from matplotlib import rcParams\n",
    "rcParams.update({'figure.autolayout': True})\n",
    "import seaborn as sns\n",
    "import joblib\n",
    "from sklearn.feature_selection import SelectFromModel\n",
    "from sklearn.linear_model import LassoCV\n",
    "from sklearn.base import BaseEstimator, TransformerMixin\n",
    "from sklearn.impute import SimpleImputer\n",
    "from sklearn.preprocessing import FunctionTransformer, OneHotEncoder, LabelEncoder\n",
    "from sklearn.utils.multiclass import type_of_target\n",
    "from sklearn.utils import check_X_y\n",
    "from sklearn.model_selection import train_test_split, GridSearchCV, cross_val_score, RepeatedStratifiedKFold, KFold\n",
    "from sklearn.tree import DecisionTreeClassifier\n",
    "from sklearn.ensemble import RandomForestClassifier\n",
    "from sklearn.metrics import accuracy_score, roc_auc_score\n",
    "\n",
    "%run './python/Chicago_Car_Crashes.py'"
   ]
  },
  {
   "cell_type": "markdown",
   "id": "monthly-ordinary",
   "metadata": {},
   "source": [
    "## DATA COLLECTION"
   ]
  },
  {
   "cell_type": "code",
   "execution_count": 103,
   "id": "surprised-brand",
   "metadata": {
    "execution": {
     "iopub.execute_input": "2021-04-22T01:18:36.580205Z",
     "iopub.status.busy": "2021-04-22T01:18:36.579590Z",
     "iopub.status.idle": "2021-04-22T01:18:40.906327Z",
     "shell.execute_reply": "2021-04-22T01:18:40.906012Z",
     "shell.execute_reply.started": "2021-04-22T01:18:36.580139Z"
    },
    "tags": []
   },
   "outputs": [
    {
     "name": "stdout",
     "output_type": "stream",
     "text": [
      "Dataset contains shape\n",
      "Rows      490128\n",
      "Columns   49\n"
     ]
    }
   ],
   "source": [
    "crashes = pd.read_csv('./data/Traffic_Crashes_-_Crashes.csv.gz', index_col=0)\n",
    "print(f\"{'Dataset contains shape'}\\n{'Rows':10}{crashes.shape[0]}\\n{'Columns':10}{crashes.shape[1]}\")"
   ]
  },
  {
   "cell_type": "code",
   "execution_count": 4,
   "id": "advised-ethiopia",
   "metadata": {
    "execution": {
     "iopub.execute_input": "2021-04-15T01:38:29.016162Z",
     "iopub.status.busy": "2021-04-15T01:38:29.015781Z",
     "iopub.status.idle": "2021-04-15T01:38:57.863093Z",
     "shell.execute_reply": "2021-04-15T01:38:57.862718Z",
     "shell.execute_reply.started": "2021-04-15T01:38:29.016127Z"
    },
    "tags": []
   },
   "outputs": [],
   "source": [
    "crashes.CRASH_DATE = pd.to_datetime(crashes.CRASH_DATE)\n",
    "df = crashes[(crashes.CRASH_DATE.dt.year == 2020)].drop('Unnamed: 0', axis=1).copy()\n",
    "df.to_csv('./data/Chicago_Traffic_Crashes_2020.csv.gz',index=False, compression='gzip')"
   ]
  },
  {
   "cell_type": "code",
   "execution_count": 2,
   "id": "timely-sigma",
   "metadata": {
    "execution": {
     "iopub.execute_input": "2021-04-22T02:14:34.252945Z",
     "iopub.status.busy": "2021-04-22T02:14:34.252849Z",
     "iopub.status.idle": "2021-04-22T02:14:35.324487Z",
     "shell.execute_reply": "2021-04-22T02:14:35.324060Z",
     "shell.execute_reply.started": "2021-04-22T02:14:34.252933Z"
    },
    "tags": []
   },
   "outputs": [],
   "source": [
    "df = pd.read_csv('./data/Chicago_Traffic_Crashes_2020.csv.gz', low_memory=False)"
   ]
  },
  {
   "cell_type": "markdown",
   "id": "residential-private",
   "metadata": {
    "tags": []
   },
   "source": [
    "####  DESCRIPTIVE STATISTICS"
   ]
  },
  {
   "cell_type": "code",
   "execution_count": 3,
   "id": "raised-steel",
   "metadata": {
    "execution": {
     "iopub.execute_input": "2021-04-22T02:14:35.325432Z",
     "iopub.status.busy": "2021-04-22T02:14:35.325339Z",
     "iopub.status.idle": "2021-04-22T02:14:35.344719Z",
     "shell.execute_reply": "2021-04-22T02:14:35.343410Z",
     "shell.execute_reply.started": "2021-04-22T02:14:35.325420Z"
    },
    "tags": []
   },
   "outputs": [
    {
     "data": {
      "text/html": [
       "<div>\n",
       "<style scoped>\n",
       "    .dataframe tbody tr th:only-of-type {\n",
       "        vertical-align: middle;\n",
       "    }\n",
       "\n",
       "    .dataframe tbody tr th {\n",
       "        vertical-align: top;\n",
       "    }\n",
       "\n",
       "    .dataframe thead th {\n",
       "        text-align: right;\n",
       "    }\n",
       "</style>\n",
       "<table border=\"1\" class=\"dataframe\">\n",
       "  <thead>\n",
       "    <tr style=\"text-align: right;\">\n",
       "      <th></th>\n",
       "      <th>CRASH_RECORD_ID</th>\n",
       "      <th>RD_NO</th>\n",
       "      <th>CRASH_DATE_EST_I</th>\n",
       "      <th>CRASH_DATE</th>\n",
       "      <th>POSTED_SPEED_LIMIT</th>\n",
       "      <th>TRAFFIC_CONTROL_DEVICE</th>\n",
       "      <th>DEVICE_CONDITION</th>\n",
       "      <th>WEATHER_CONDITION</th>\n",
       "      <th>LIGHTING_CONDITION</th>\n",
       "      <th>FIRST_CRASH_TYPE</th>\n",
       "      <th>...</th>\n",
       "      <th>INJURIES_NON_INCAPACITATING</th>\n",
       "      <th>INJURIES_REPORTED_NOT_EVIDENT</th>\n",
       "      <th>INJURIES_NO_INDICATION</th>\n",
       "      <th>INJURIES_UNKNOWN</th>\n",
       "      <th>CRASH_HOUR</th>\n",
       "      <th>CRASH_DAY_OF_WEEK</th>\n",
       "      <th>CRASH_MONTH</th>\n",
       "      <th>LATITUDE</th>\n",
       "      <th>LONGITUDE</th>\n",
       "      <th>LOCATION</th>\n",
       "    </tr>\n",
       "  </thead>\n",
       "  <tbody>\n",
       "    <tr>\n",
       "      <th>0</th>\n",
       "      <td>ee9283eff3a55ac50ee58f3d9528ce1d689b1c4180b4c4...</td>\n",
       "      <td>JD292400</td>\n",
       "      <td>NaN</td>\n",
       "      <td>2020-07-10 10:25:00</td>\n",
       "      <td>30</td>\n",
       "      <td>TRAFFIC SIGNAL</td>\n",
       "      <td>FUNCTIONING PROPERLY</td>\n",
       "      <td>CLEAR</td>\n",
       "      <td>DAYLIGHT</td>\n",
       "      <td>REAR END</td>\n",
       "      <td>...</td>\n",
       "      <td>0.0</td>\n",
       "      <td>0.0</td>\n",
       "      <td>3.0</td>\n",
       "      <td>0.0</td>\n",
       "      <td>10</td>\n",
       "      <td>6</td>\n",
       "      <td>7</td>\n",
       "      <td>41.773456</td>\n",
       "      <td>-87.585022</td>\n",
       "      <td>POINT (-87.585022352022 41.773455972008)</td>\n",
       "    </tr>\n",
       "    <tr>\n",
       "      <th>1</th>\n",
       "      <td>f8960f698e870ebdc60b521b2a141a5395556bc3704191...</td>\n",
       "      <td>JD293602</td>\n",
       "      <td>NaN</td>\n",
       "      <td>2020-07-11 01:00:00</td>\n",
       "      <td>30</td>\n",
       "      <td>NO CONTROLS</td>\n",
       "      <td>NO CONTROLS</td>\n",
       "      <td>CLEAR</td>\n",
       "      <td>DARKNESS</td>\n",
       "      <td>PARKED MOTOR VEHICLE</td>\n",
       "      <td>...</td>\n",
       "      <td>0.0</td>\n",
       "      <td>0.0</td>\n",
       "      <td>3.0</td>\n",
       "      <td>0.0</td>\n",
       "      <td>1</td>\n",
       "      <td>7</td>\n",
       "      <td>7</td>\n",
       "      <td>41.802119</td>\n",
       "      <td>-87.622115</td>\n",
       "      <td>POINT (-87.622114914961 41.802118543011)</td>\n",
       "    </tr>\n",
       "    <tr>\n",
       "      <th>2</th>\n",
       "      <td>8eaa2678d1a127804ee9b8c35ddf7d63d913c14eda61d6...</td>\n",
       "      <td>JD290451</td>\n",
       "      <td>NaN</td>\n",
       "      <td>2020-07-08 14:00:00</td>\n",
       "      <td>20</td>\n",
       "      <td>NO CONTROLS</td>\n",
       "      <td>NO CONTROLS</td>\n",
       "      <td>CLEAR</td>\n",
       "      <td>DAYLIGHT</td>\n",
       "      <td>PARKED MOTOR VEHICLE</td>\n",
       "      <td>...</td>\n",
       "      <td>0.0</td>\n",
       "      <td>0.0</td>\n",
       "      <td>1.0</td>\n",
       "      <td>0.0</td>\n",
       "      <td>14</td>\n",
       "      <td>4</td>\n",
       "      <td>7</td>\n",
       "      <td>NaN</td>\n",
       "      <td>NaN</td>\n",
       "      <td>NaN</td>\n",
       "    </tr>\n",
       "    <tr>\n",
       "      <th>3</th>\n",
       "      <td>f636d4a51a88015ac89031159b1f1952b8d92e49d11aeb...</td>\n",
       "      <td>JD293237</td>\n",
       "      <td>NaN</td>\n",
       "      <td>2020-07-10 22:20:00</td>\n",
       "      <td>30</td>\n",
       "      <td>NO CONTROLS</td>\n",
       "      <td>NO CONTROLS</td>\n",
       "      <td>CLEAR</td>\n",
       "      <td>DARKNESS, LIGHTED ROAD</td>\n",
       "      <td>SIDESWIPE OPPOSITE DIRECTION</td>\n",
       "      <td>...</td>\n",
       "      <td>1.0</td>\n",
       "      <td>0.0</td>\n",
       "      <td>1.0</td>\n",
       "      <td>0.0</td>\n",
       "      <td>22</td>\n",
       "      <td>6</td>\n",
       "      <td>7</td>\n",
       "      <td>41.880386</td>\n",
       "      <td>-87.725807</td>\n",
       "      <td>POINT (-87.725807044026 41.880385884998)</td>\n",
       "    </tr>\n",
       "    <tr>\n",
       "      <th>4</th>\n",
       "      <td>76aabcf7c2219a5c90259c96fe94b33834ddb53e0dbcd3...</td>\n",
       "      <td>JD291826</td>\n",
       "      <td>NaN</td>\n",
       "      <td>2020-07-09 17:06:00</td>\n",
       "      <td>10</td>\n",
       "      <td>NO CONTROLS</td>\n",
       "      <td>NO CONTROLS</td>\n",
       "      <td>CLEAR</td>\n",
       "      <td>DAYLIGHT</td>\n",
       "      <td>PARKED MOTOR VEHICLE</td>\n",
       "      <td>...</td>\n",
       "      <td>0.0</td>\n",
       "      <td>0.0</td>\n",
       "      <td>1.0</td>\n",
       "      <td>0.0</td>\n",
       "      <td>17</td>\n",
       "      <td>5</td>\n",
       "      <td>7</td>\n",
       "      <td>NaN</td>\n",
       "      <td>NaN</td>\n",
       "      <td>NaN</td>\n",
       "    </tr>\n",
       "  </tbody>\n",
       "</table>\n",
       "<p>5 rows × 49 columns</p>\n",
       "</div>"
      ],
      "text/plain": [
       "                                     CRASH_RECORD_ID     RD_NO  \\\n",
       "0  ee9283eff3a55ac50ee58f3d9528ce1d689b1c4180b4c4...  JD292400   \n",
       "1  f8960f698e870ebdc60b521b2a141a5395556bc3704191...  JD293602   \n",
       "2  8eaa2678d1a127804ee9b8c35ddf7d63d913c14eda61d6...  JD290451   \n",
       "3  f636d4a51a88015ac89031159b1f1952b8d92e49d11aeb...  JD293237   \n",
       "4  76aabcf7c2219a5c90259c96fe94b33834ddb53e0dbcd3...  JD291826   \n",
       "\n",
       "  CRASH_DATE_EST_I           CRASH_DATE  POSTED_SPEED_LIMIT  \\\n",
       "0              NaN  2020-07-10 10:25:00                  30   \n",
       "1              NaN  2020-07-11 01:00:00                  30   \n",
       "2              NaN  2020-07-08 14:00:00                  20   \n",
       "3              NaN  2020-07-10 22:20:00                  30   \n",
       "4              NaN  2020-07-09 17:06:00                  10   \n",
       "\n",
       "  TRAFFIC_CONTROL_DEVICE      DEVICE_CONDITION WEATHER_CONDITION  \\\n",
       "0         TRAFFIC SIGNAL  FUNCTIONING PROPERLY             CLEAR   \n",
       "1            NO CONTROLS           NO CONTROLS             CLEAR   \n",
       "2            NO CONTROLS           NO CONTROLS             CLEAR   \n",
       "3            NO CONTROLS           NO CONTROLS             CLEAR   \n",
       "4            NO CONTROLS           NO CONTROLS             CLEAR   \n",
       "\n",
       "       LIGHTING_CONDITION              FIRST_CRASH_TYPE  ...  \\\n",
       "0                DAYLIGHT                      REAR END  ...   \n",
       "1                DARKNESS          PARKED MOTOR VEHICLE  ...   \n",
       "2                DAYLIGHT          PARKED MOTOR VEHICLE  ...   \n",
       "3  DARKNESS, LIGHTED ROAD  SIDESWIPE OPPOSITE DIRECTION  ...   \n",
       "4                DAYLIGHT          PARKED MOTOR VEHICLE  ...   \n",
       "\n",
       "  INJURIES_NON_INCAPACITATING  INJURIES_REPORTED_NOT_EVIDENT  \\\n",
       "0                         0.0                            0.0   \n",
       "1                         0.0                            0.0   \n",
       "2                         0.0                            0.0   \n",
       "3                         1.0                            0.0   \n",
       "4                         0.0                            0.0   \n",
       "\n",
       "  INJURIES_NO_INDICATION INJURIES_UNKNOWN CRASH_HOUR CRASH_DAY_OF_WEEK  \\\n",
       "0                    3.0              0.0         10                 6   \n",
       "1                    3.0              0.0          1                 7   \n",
       "2                    1.0              0.0         14                 4   \n",
       "3                    1.0              0.0         22                 6   \n",
       "4                    1.0              0.0         17                 5   \n",
       "\n",
       "  CRASH_MONTH   LATITUDE  LONGITUDE                                  LOCATION  \n",
       "0           7  41.773456 -87.585022  POINT (-87.585022352022 41.773455972008)  \n",
       "1           7  41.802119 -87.622115  POINT (-87.622114914961 41.802118543011)  \n",
       "2           7        NaN        NaN                                       NaN  \n",
       "3           7  41.880386 -87.725807  POINT (-87.725807044026 41.880385884998)  \n",
       "4           7        NaN        NaN                                       NaN  \n",
       "\n",
       "[5 rows x 49 columns]"
      ]
     },
     "execution_count": 3,
     "metadata": {},
     "output_type": "execute_result"
    }
   ],
   "source": [
    "df.head()"
   ]
  },
  {
   "cell_type": "code",
   "execution_count": 4,
   "id": "imposed-travel",
   "metadata": {
    "execution": {
     "iopub.execute_input": "2021-04-22T02:14:35.348209Z",
     "iopub.status.busy": "2021-04-22T02:14:35.348052Z",
     "iopub.status.idle": "2021-04-22T02:14:35.422701Z",
     "shell.execute_reply": "2021-04-22T02:14:35.422316Z",
     "shell.execute_reply.started": "2021-04-22T02:14:35.348195Z"
    },
    "tags": []
   },
   "outputs": [
    {
     "data": {
      "text/html": [
       "<div>\n",
       "<style scoped>\n",
       "    .dataframe tbody tr th:only-of-type {\n",
       "        vertical-align: middle;\n",
       "    }\n",
       "\n",
       "    .dataframe tbody tr th {\n",
       "        vertical-align: top;\n",
       "    }\n",
       "\n",
       "    .dataframe thead th {\n",
       "        text-align: right;\n",
       "    }\n",
       "</style>\n",
       "<table border=\"1\" class=\"dataframe\">\n",
       "  <thead>\n",
       "    <tr style=\"text-align: right;\">\n",
       "      <th></th>\n",
       "      <th>POSTED_SPEED_LIMIT</th>\n",
       "      <th>LANE_CNT</th>\n",
       "      <th>STREET_NO</th>\n",
       "      <th>BEAT_OF_OCCURRENCE</th>\n",
       "      <th>NUM_UNITS</th>\n",
       "      <th>INJURIES_TOTAL</th>\n",
       "      <th>INJURIES_FATAL</th>\n",
       "      <th>INJURIES_INCAPACITATING</th>\n",
       "      <th>INJURIES_NON_INCAPACITATING</th>\n",
       "      <th>INJURIES_REPORTED_NOT_EVIDENT</th>\n",
       "      <th>INJURIES_NO_INDICATION</th>\n",
       "      <th>INJURIES_UNKNOWN</th>\n",
       "      <th>CRASH_HOUR</th>\n",
       "      <th>CRASH_DAY_OF_WEEK</th>\n",
       "      <th>CRASH_MONTH</th>\n",
       "      <th>LATITUDE</th>\n",
       "      <th>LONGITUDE</th>\n",
       "    </tr>\n",
       "  </thead>\n",
       "  <tbody>\n",
       "    <tr>\n",
       "      <th>count</th>\n",
       "      <td>92092.000000</td>\n",
       "      <td>12.000000</td>\n",
       "      <td>92092.000000</td>\n",
       "      <td>92092.000000</td>\n",
       "      <td>92092.00000</td>\n",
       "      <td>91858.000000</td>\n",
       "      <td>91858.000000</td>\n",
       "      <td>91858.000000</td>\n",
       "      <td>91858.000000</td>\n",
       "      <td>91858.00000</td>\n",
       "      <td>91858.000000</td>\n",
       "      <td>91858.0</td>\n",
       "      <td>92092.000000</td>\n",
       "      <td>92092.000000</td>\n",
       "      <td>92092.000000</td>\n",
       "      <td>91504.000000</td>\n",
       "      <td>91504.000000</td>\n",
       "    </tr>\n",
       "    <tr>\n",
       "      <th>mean</th>\n",
       "      <td>28.532793</td>\n",
       "      <td>2.250000</td>\n",
       "      <td>3860.405985</td>\n",
       "      <td>1216.832732</td>\n",
       "      <td>2.04831</td>\n",
       "      <td>0.215060</td>\n",
       "      <td>0.001698</td>\n",
       "      <td>0.024407</td>\n",
       "      <td>0.124714</td>\n",
       "      <td>0.06424</td>\n",
       "      <td>1.949563</td>\n",
       "      <td>0.0</td>\n",
       "      <td>13.411730</td>\n",
       "      <td>4.150513</td>\n",
       "      <td>6.533076</td>\n",
       "      <td>41.847012</td>\n",
       "      <td>-87.675642</td>\n",
       "    </tr>\n",
       "    <tr>\n",
       "      <th>std</th>\n",
       "      <td>5.761715</td>\n",
       "      <td>0.965307</td>\n",
       "      <td>2905.455298</td>\n",
       "      <td>697.276831</td>\n",
       "      <td>0.50948</td>\n",
       "      <td>0.600362</td>\n",
       "      <td>0.044480</td>\n",
       "      <td>0.182377</td>\n",
       "      <td>0.458035</td>\n",
       "      <td>0.32037</td>\n",
       "      <td>1.123697</td>\n",
       "      <td>0.0</td>\n",
       "      <td>5.635321</td>\n",
       "      <td>1.992724</td>\n",
       "      <td>3.469571</td>\n",
       "      <td>0.290151</td>\n",
       "      <td>0.582834</td>\n",
       "    </tr>\n",
       "    <tr>\n",
       "      <th>min</th>\n",
       "      <td>0.000000</td>\n",
       "      <td>1.000000</td>\n",
       "      <td>0.000000</td>\n",
       "      <td>111.000000</td>\n",
       "      <td>1.00000</td>\n",
       "      <td>0.000000</td>\n",
       "      <td>0.000000</td>\n",
       "      <td>0.000000</td>\n",
       "      <td>0.000000</td>\n",
       "      <td>0.00000</td>\n",
       "      <td>0.000000</td>\n",
       "      <td>0.0</td>\n",
       "      <td>0.000000</td>\n",
       "      <td>1.000000</td>\n",
       "      <td>1.000000</td>\n",
       "      <td>0.000000</td>\n",
       "      <td>-87.934763</td>\n",
       "    </tr>\n",
       "    <tr>\n",
       "      <th>25%</th>\n",
       "      <td>30.000000</td>\n",
       "      <td>2.000000</td>\n",
       "      <td>1401.000000</td>\n",
       "      <td>633.000000</td>\n",
       "      <td>2.00000</td>\n",
       "      <td>0.000000</td>\n",
       "      <td>0.000000</td>\n",
       "      <td>0.000000</td>\n",
       "      <td>0.000000</td>\n",
       "      <td>0.00000</td>\n",
       "      <td>1.000000</td>\n",
       "      <td>0.0</td>\n",
       "      <td>10.000000</td>\n",
       "      <td>2.000000</td>\n",
       "      <td>3.000000</td>\n",
       "      <td>41.773154</td>\n",
       "      <td>-87.723524</td>\n",
       "    </tr>\n",
       "    <tr>\n",
       "      <th>50%</th>\n",
       "      <td>30.000000</td>\n",
       "      <td>2.000000</td>\n",
       "      <td>3407.000000</td>\n",
       "      <td>1121.000000</td>\n",
       "      <td>2.00000</td>\n",
       "      <td>0.000000</td>\n",
       "      <td>0.000000</td>\n",
       "      <td>0.000000</td>\n",
       "      <td>0.000000</td>\n",
       "      <td>0.00000</td>\n",
       "      <td>2.000000</td>\n",
       "      <td>0.0</td>\n",
       "      <td>14.000000</td>\n",
       "      <td>4.000000</td>\n",
       "      <td>7.000000</td>\n",
       "      <td>41.865686</td>\n",
       "      <td>-87.676296</td>\n",
       "    </tr>\n",
       "    <tr>\n",
       "      <th>75%</th>\n",
       "      <td>30.000000</td>\n",
       "      <td>2.250000</td>\n",
       "      <td>5749.000000</td>\n",
       "      <td>1731.000000</td>\n",
       "      <td>2.00000</td>\n",
       "      <td>0.000000</td>\n",
       "      <td>0.000000</td>\n",
       "      <td>0.000000</td>\n",
       "      <td>0.000000</td>\n",
       "      <td>0.00000</td>\n",
       "      <td>2.000000</td>\n",
       "      <td>0.0</td>\n",
       "      <td>17.000000</td>\n",
       "      <td>6.000000</td>\n",
       "      <td>9.000000</td>\n",
       "      <td>41.917273</td>\n",
       "      <td>-87.633251</td>\n",
       "    </tr>\n",
       "    <tr>\n",
       "      <th>max</th>\n",
       "      <td>70.000000</td>\n",
       "      <td>4.000000</td>\n",
       "      <td>13799.000000</td>\n",
       "      <td>6100.000000</td>\n",
       "      <td>15.00000</td>\n",
       "      <td>19.000000</td>\n",
       "      <td>3.000000</td>\n",
       "      <td>6.000000</td>\n",
       "      <td>18.000000</td>\n",
       "      <td>11.00000</td>\n",
       "      <td>37.000000</td>\n",
       "      <td>0.0</td>\n",
       "      <td>23.000000</td>\n",
       "      <td>7.000000</td>\n",
       "      <td>12.000000</td>\n",
       "      <td>42.022780</td>\n",
       "      <td>0.000000</td>\n",
       "    </tr>\n",
       "  </tbody>\n",
       "</table>\n",
       "</div>"
      ],
      "text/plain": [
       "       POSTED_SPEED_LIMIT   LANE_CNT     STREET_NO  BEAT_OF_OCCURRENCE  \\\n",
       "count        92092.000000  12.000000  92092.000000        92092.000000   \n",
       "mean            28.532793   2.250000   3860.405985         1216.832732   \n",
       "std              5.761715   0.965307   2905.455298          697.276831   \n",
       "min              0.000000   1.000000      0.000000          111.000000   \n",
       "25%             30.000000   2.000000   1401.000000          633.000000   \n",
       "50%             30.000000   2.000000   3407.000000         1121.000000   \n",
       "75%             30.000000   2.250000   5749.000000         1731.000000   \n",
       "max             70.000000   4.000000  13799.000000         6100.000000   \n",
       "\n",
       "         NUM_UNITS  INJURIES_TOTAL  INJURIES_FATAL  INJURIES_INCAPACITATING  \\\n",
       "count  92092.00000    91858.000000    91858.000000             91858.000000   \n",
       "mean       2.04831        0.215060        0.001698                 0.024407   \n",
       "std        0.50948        0.600362        0.044480                 0.182377   \n",
       "min        1.00000        0.000000        0.000000                 0.000000   \n",
       "25%        2.00000        0.000000        0.000000                 0.000000   \n",
       "50%        2.00000        0.000000        0.000000                 0.000000   \n",
       "75%        2.00000        0.000000        0.000000                 0.000000   \n",
       "max       15.00000       19.000000        3.000000                 6.000000   \n",
       "\n",
       "       INJURIES_NON_INCAPACITATING  INJURIES_REPORTED_NOT_EVIDENT  \\\n",
       "count                 91858.000000                    91858.00000   \n",
       "mean                      0.124714                        0.06424   \n",
       "std                       0.458035                        0.32037   \n",
       "min                       0.000000                        0.00000   \n",
       "25%                       0.000000                        0.00000   \n",
       "50%                       0.000000                        0.00000   \n",
       "75%                       0.000000                        0.00000   \n",
       "max                      18.000000                       11.00000   \n",
       "\n",
       "       INJURIES_NO_INDICATION  INJURIES_UNKNOWN    CRASH_HOUR  \\\n",
       "count            91858.000000           91858.0  92092.000000   \n",
       "mean                 1.949563               0.0     13.411730   \n",
       "std                  1.123697               0.0      5.635321   \n",
       "min                  0.000000               0.0      0.000000   \n",
       "25%                  1.000000               0.0     10.000000   \n",
       "50%                  2.000000               0.0     14.000000   \n",
       "75%                  2.000000               0.0     17.000000   \n",
       "max                 37.000000               0.0     23.000000   \n",
       "\n",
       "       CRASH_DAY_OF_WEEK   CRASH_MONTH      LATITUDE     LONGITUDE  \n",
       "count       92092.000000  92092.000000  91504.000000  91504.000000  \n",
       "mean            4.150513      6.533076     41.847012    -87.675642  \n",
       "std             1.992724      3.469571      0.290151      0.582834  \n",
       "min             1.000000      1.000000      0.000000    -87.934763  \n",
       "25%             2.000000      3.000000     41.773154    -87.723524  \n",
       "50%             4.000000      7.000000     41.865686    -87.676296  \n",
       "75%             6.000000      9.000000     41.917273    -87.633251  \n",
       "max             7.000000     12.000000     42.022780      0.000000  "
      ]
     },
     "execution_count": 4,
     "metadata": {},
     "output_type": "execute_result"
    }
   ],
   "source": [
    "df.describe()"
   ]
  },
  {
   "cell_type": "markdown",
   "id": "spectacular-debate",
   "metadata": {},
   "source": [
    "## DATA SCRUBBING"
   ]
  },
  {
   "cell_type": "markdown",
   "id": "virtual-arbitration",
   "metadata": {},
   "source": [
    "prima di inziare ad esplorare i dati dobbiamo individuare le variable da escludere in particolare quelli con i dati mancanti e quelli che hanno poca rilevanza per il nostro modello.\n"
   ]
  },
  {
   "cell_type": "code",
   "execution_count": 5,
   "id": "exciting-employee",
   "metadata": {
    "execution": {
     "iopub.execute_input": "2021-04-22T02:14:36.051182Z",
     "iopub.status.busy": "2021-04-22T02:14:36.050713Z",
     "iopub.status.idle": "2021-04-22T02:14:36.057373Z",
     "shell.execute_reply": "2021-04-22T02:14:36.055785Z",
     "shell.execute_reply.started": "2021-04-22T02:14:36.051146Z"
    },
    "tags": []
   },
   "outputs": [],
   "source": [
    "dfi = Dframe(df)"
   ]
  },
  {
   "cell_type": "code",
   "execution_count": 6,
   "id": "selected-remark",
   "metadata": {
    "execution": {
     "iopub.execute_input": "2021-04-22T02:14:36.432980Z",
     "iopub.status.busy": "2021-04-22T02:14:36.432547Z",
     "iopub.status.idle": "2021-04-22T02:14:36.742887Z",
     "shell.execute_reply": "2021-04-22T02:14:36.742552Z",
     "shell.execute_reply.started": "2021-04-22T02:14:36.432944Z"
    },
    "tags": []
   },
   "outputs": [
    {
     "name": "stdout",
     "output_type": "stream",
     "text": [
      "Data Entries                       92092\n",
      "Data Columns                       49\n",
      "DataFrame items                    4,512,508\n",
      "DataFrame Null                     948953  Null values\n",
      "DataFrame contain                  21.03% Null Values \n",
      "\n",
      " #   Column                        Null Count &  Percent   Dtype\n",
      "---  ------                        ---------------------   -------\n",
      "0    CRASH_RECORD_ID               0                   0.00    % object\n",
      "1    RD_NO                         0                   0.00    % object\n",
      "2    CRASH_DATE_EST_I              85,157              92.47   % object\n",
      "3    CRASH_DATE                    0                   0.00    % object\n",
      "4    POSTED_SPEED_LIMIT            0                   0.00    % int64\n",
      "5    TRAFFIC_CONTROL_DEVICE        0                   0.00    % object\n",
      "6    DEVICE_CONDITION              0                   0.00    % object\n",
      "7    WEATHER_CONDITION             0                   0.00    % object\n",
      "8    LIGHTING_CONDITION            0                   0.00    % object\n",
      "9    FIRST_CRASH_TYPE              0                   0.00    % object\n",
      "10   TRAFFICWAY_TYPE               0                   0.00    % object\n",
      "11   LANE_CNT                      92,080              99.99   % float64\n",
      "12   ALIGNMENT                     0                   0.00    % object\n",
      "13   ROADWAY_SURFACE_COND          0                   0.00    % object\n",
      "14   ROAD_DEFECT                   0                   0.00    % object\n",
      "15   REPORT_TYPE                   2,623               2.85    % object\n",
      "16   CRASH_TYPE                    0                   0.00    % object\n",
      "17   INTERSECTION_RELATED_I        69,300              75.25   % object\n",
      "18   NOT_RIGHT_OF_WAY_I            87,489              95.00   % object\n",
      "19   HIT_AND_RUN_I                 60,165              65.33   % object\n",
      "20   DAMAGE                        0                   0.00    % object\n",
      "21   DATE_POLICE_NOTIFIED          0                   0.00    % object\n",
      "22   PRIM_CONTRIBUTORY_CAUSE       0                   0.00    % object\n",
      "23   SEC_CONTRIBUTORY_CAUSE        0                   0.00    % object\n",
      "24   STREET_NO                     0                   0.00    % int64\n",
      "25   STREET_DIRECTION              0                   0.00    % object\n",
      "26   STREET_NAME                   0                   0.00    % object\n",
      "27   BEAT_OF_OCCURRENCE            0                   0.00    % float64\n",
      "28   PHOTOS_TAKEN_I                90,961              98.77   % object\n",
      "29   STATEMENTS_TAKEN_I            90,310              98.06   % object\n",
      "30   DOORING_I                     91,834              99.72   % object\n",
      "31   WORK_ZONE_I                   91,662              99.53   % object\n",
      "32   WORK_ZONE_TYPE                91,760              99.64   % object\n",
      "33   WORKERS_PRESENT_I             91,975              99.87   % object\n",
      "34   NUM_UNITS                     0                   0.00    % int64\n",
      "35   MOST_SEVERE_INJURY            235                 0.26    % object\n",
      "36   INJURIES_TOTAL                234                 0.25    % float64\n",
      "37   INJURIES_FATAL                234                 0.25    % float64\n",
      "38   INJURIES_INCAPACITATING       234                 0.25    % float64\n",
      "39   INJURIES_NON_INCAPACITATING   234                 0.25    % float64\n",
      "40   INJURIES_REPORTED_NOT_EVIDENT 234                 0.25    % float64\n",
      "41   INJURIES_NO_INDICATION        234                 0.25    % float64\n",
      "42   INJURIES_UNKNOWN              234                 0.25    % float64\n",
      "43   CRASH_HOUR                    0                   0.00    % int64\n",
      "44   CRASH_DAY_OF_WEEK             0                   0.00    % int64\n",
      "45   CRASH_MONTH                   0                   0.00    % int64\n",
      "46   LATITUDE                      588                 0.64    % float64\n",
      "47   LONGITUDE                     588                 0.64    % float64\n",
      "48   LOCATION                      588                 0.64    % object\n"
     ]
    }
   ],
   "source": [
    "dfi.df_info()"
   ]
  },
  {
   "cell_type": "code",
   "execution_count": 7,
   "id": "discrete-intersection",
   "metadata": {
    "execution": {
     "iopub.execute_input": "2021-04-22T02:14:36.743806Z",
     "iopub.status.busy": "2021-04-22T02:14:36.743707Z",
     "iopub.status.idle": "2021-04-22T02:14:36.746183Z",
     "shell.execute_reply": "2021-04-22T02:14:36.745777Z",
     "shell.execute_reply.started": "2021-04-22T02:14:36.743793Z"
    },
    "tags": []
   },
   "outputs": [],
   "source": [
    "to_drop_cols    = set()\n",
    "excluded_cols   = set()\n",
    "category_cols   = set()\n",
    "numeric_cols    = set()\n",
    "encoding_cols   = set()\n",
    "features_cols   = set()\n",
    "statistic_cols  = set()"
   ]
  },
  {
   "cell_type": "code",
   "execution_count": 8,
   "id": "fifteen-lodge",
   "metadata": {
    "execution": {
     "iopub.execute_input": "2021-04-22T02:14:39.489635Z",
     "iopub.status.busy": "2021-04-22T02:14:39.488870Z",
     "iopub.status.idle": "2021-04-22T02:14:39.497011Z",
     "shell.execute_reply": "2021-04-22T02:14:39.496017Z",
     "shell.execute_reply.started": "2021-04-22T02:14:39.489561Z"
    },
    "tags": []
   },
   "outputs": [],
   "source": [
    "excluded_cols.update([\n",
    "    'Unnamed: 0','Unnamed: 0.1','CRASH_RECORD_ID','RD_NO','CRASH_DATE_EST_I','LANE_CNT',\n",
    "    'REPORT_TYPE','DAMAGE','PHOTOS_TAKEN_I','STATEMENTS_TAKEN_I','LOCATION',\n",
    "    'WORK_ZONE_TYPE', 'BEAT_OF_OCCURRENCE', 'DATE_POLICE_NOTIFIED', 'CRASH_TYPE', 'SEC_CONTRIBUTORY_CAUSE'])\n",
    "# df.drop(labels=cols_to_drop, axis=1, inplace=True)"
   ]
  },
  {
   "cell_type": "code",
   "execution_count": 9,
   "id": "marine-oxide",
   "metadata": {
    "execution": {
     "iopub.execute_input": "2021-04-22T02:14:39.684990Z",
     "iopub.status.busy": "2021-04-22T02:14:39.684670Z",
     "iopub.status.idle": "2021-04-22T02:14:39.734799Z",
     "shell.execute_reply": "2021-04-22T02:14:39.734320Z",
     "shell.execute_reply.started": "2021-04-22T02:14:39.684959Z"
    },
    "tags": []
   },
   "outputs": [],
   "source": [
    "TransformerDate = DateTransformer()\n",
    "df.CRASH_DATE =  TransformerDate.fit_transform(df.CRASH_DATE)"
   ]
  },
  {
   "cell_type": "code",
   "execution_count": 10,
   "id": "corresponding-forwarding",
   "metadata": {
    "execution": {
     "iopub.execute_input": "2021-04-22T02:14:40.138127Z",
     "iopub.status.busy": "2021-04-22T02:14:40.137766Z",
     "iopub.status.idle": "2021-04-22T02:14:40.557854Z",
     "shell.execute_reply": "2021-04-22T02:14:40.557463Z",
     "shell.execute_reply.started": "2021-04-22T02:14:40.138093Z"
    },
    "tags": []
   },
   "outputs": [],
   "source": [
    "ImputerCat_with_Unknown  = SimpleImputer(missing_values=np.nan, strategy='constant', fill_value='unknown')\n",
    "df.loc[:,dfi.NaN_obj_colmns] = ImputerCat_with_Unknown.fit_transform(df.loc[:,dfi.NaN_obj_colmns] )"
   ]
  },
  {
   "cell_type": "code",
   "execution_count": 11,
   "id": "combined-alloy",
   "metadata": {
    "execution": {
     "iopub.execute_input": "2021-04-22T02:14:40.558705Z",
     "iopub.status.busy": "2021-04-22T02:14:40.558609Z",
     "iopub.status.idle": "2021-04-22T02:14:40.694103Z",
     "shell.execute_reply": "2021-04-22T02:14:40.693674Z",
     "shell.execute_reply.started": "2021-04-22T02:14:40.558693Z"
    },
    "tags": []
   },
   "outputs": [],
   "source": [
    "ImputerMostFrequent = SimpleImputer(missing_values=np.NaN, strategy='most_frequent')\n",
    "df.loc[:,dfi.NaN_num_columns] = ImputerMostFrequent.fit_transform(df.loc[:,dfi.NaN_num_columns])"
   ]
  },
  {
   "cell_type": "markdown",
   "id": "stainless-authentication",
   "metadata": {},
   "source": [
    "## FEATURES ENGINEERING"
   ]
  },
  {
   "cell_type": "markdown",
   "id": "brutal-delay",
   "metadata": {},
   "source": [
    "#### POSTED_SPEED_LIMIT\n",
    "\n",
    "Acceleration is a major cause of car accidents, which is why we consider it a very important factor for our model.\n",
    "\n",
    "unfortunately the information provided in the dataset relating to the variable \"POSTED_SPEED_LIMIT\" is somewhat confused and anomalous for this reason we refer to the official Illinois statute section Vehicle Code no. (625 ILCS 5 /) as a reliable source to sort our data as appropriately as possible.\n",
    "\n",
    "    70 mph - Rural interstates and tollways.\n",
    "    65 mph - Highways with four lanes.\n",
    "    55 mph - Other highways and rural areas.\n",
    "    45 mph - Urban freeways and interstates through downtown Chicago.\n",
    "    30 mph - Urban Districts - City/Town Areas.\n",
    "    20 mph - School Zones (on school days between 7 a.m. and 4 p.m.\n",
    "    15 mph - Urban Alleys.\n",
    "\n",
    "For more info: [Illinois Compiled Statutes](https://www.ilga.gov/legislation/ilcs/ilcs4.asp?DocName=062500050HCh%2E+11+Art%2E+IX&ActID=1815&ChapterID=49&SeqStart=122500000&SeqEnd=123600000)"
   ]
  },
  {
   "cell_type": "code",
   "execution_count": 12,
   "id": "infrared-japan",
   "metadata": {
    "execution": {
     "iopub.execute_input": "2021-04-22T02:14:41.885583Z",
     "iopub.status.busy": "2021-04-22T02:14:41.884999Z",
     "iopub.status.idle": "2021-04-22T02:14:41.895559Z",
     "shell.execute_reply": "2021-04-22T02:14:41.894881Z",
     "shell.execute_reply.started": "2021-04-22T02:14:41.885519Z"
    },
    "tags": []
   },
   "outputs": [
    {
     "data": {
      "text/plain": [
       "array([30, 20, 10, 15, 25, 35, 55, 45,  5, 50,  0, 40, 39, 65,  1, 34,  3,\n",
       "       12, 60,  9, 26, 33, 49, 70, 11, 36, 32, 24,  2, 14, 31, 29])"
      ]
     },
     "execution_count": 12,
     "metadata": {},
     "output_type": "execute_result"
    }
   ],
   "source": [
    "df.POSTED_SPEED_LIMIT.unique()"
   ]
  },
  {
   "cell_type": "code",
   "execution_count": 13,
   "id": "popular-arthur",
   "metadata": {
    "execution": {
     "iopub.execute_input": "2021-04-22T02:14:42.507591Z",
     "iopub.status.busy": "2021-04-22T02:14:42.506826Z",
     "iopub.status.idle": "2021-04-22T02:14:42.897848Z",
     "shell.execute_reply": "2021-04-22T02:14:42.897420Z",
     "shell.execute_reply.started": "2021-04-22T02:14:42.507517Z"
    },
    "tags": []
   },
   "outputs": [],
   "source": [
    "TransformSpeed = SpeedTransformer()\n",
    "df['POSTED_SPEED_LIMIT'] = TransformSpeed.fit_transform(df['POSTED_SPEED_LIMIT'])"
   ]
  },
  {
   "cell_type": "code",
   "execution_count": 14,
   "id": "professional-struggle",
   "metadata": {
    "execution": {
     "iopub.execute_input": "2021-04-22T02:14:42.898900Z",
     "iopub.status.busy": "2021-04-22T02:14:42.898786Z",
     "iopub.status.idle": "2021-04-22T02:14:42.960242Z",
     "shell.execute_reply": "2021-04-22T02:14:42.959899Z",
     "shell.execute_reply.started": "2021-04-22T02:14:42.898887Z"
    },
    "tags": []
   },
   "outputs": [
    {
     "data": {
      "text/plain": [
       "array(['15', '20', '30', '45', '55', '65', '70'], dtype=object)"
      ]
     },
     "execution_count": 14,
     "metadata": {},
     "output_type": "execute_result"
    }
   ],
   "source": [
    "df.POSTED_SPEED_LIMIT.sort_values().unique()"
   ]
  },
  {
   "cell_type": "markdown",
   "id": "retained-console",
   "metadata": {},
   "source": [
    "## PRIM CONTRIBUTORY CAUSE"
   ]
  },
  {
   "cell_type": "code",
   "execution_count": 15,
   "id": "sixth-configuration",
   "metadata": {
    "execution": {
     "iopub.execute_input": "2021-04-21T02:07:49.316335Z",
     "iopub.status.busy": "2021-04-21T02:07:49.315443Z",
     "iopub.status.idle": "2021-04-21T02:07:49.339850Z",
     "shell.execute_reply": "2021-04-21T02:07:49.339314Z",
     "shell.execute_reply.started": "2021-04-21T02:07:49.316269Z"
    },
    "tags": []
   },
   "outputs": [
    {
     "data": {
      "text/plain": [
       "array(['FAILING TO YIELD RIGHT-OF-WAY', 'UNABLE TO DETERMINE',\n",
       "       'OPERATING VEHICLE IN ERRATIC, RECKLESS, CARELESS, NEGLIGENT OR AGGRESSIVE MANNER',\n",
       "       'IMPROPER BACKING', 'IMPROPER OVERTAKING/PASSING',\n",
       "       'IMPROPER LANE USAGE', 'DISREGARDING TRAFFIC SIGNALS',\n",
       "       'NOT APPLICABLE', 'IMPROPER TURNING/NO SIGNAL',\n",
       "       'FOLLOWING TOO CLOSELY', 'DRIVING SKILLS/KNOWLEDGE/EXPERIENCE',\n",
       "       'ROAD CONSTRUCTION/MAINTENANCE', 'WEATHER',\n",
       "       'PHYSICAL CONDITION OF DRIVER',\n",
       "       'FAILING TO REDUCE SPEED TO AVOID CRASH',\n",
       "       'EVASIVE ACTION DUE TO ANIMAL, OBJECT, NONMOTORIST',\n",
       "       'HAD BEEN DRINKING (USE WHEN ARREST IS NOT MADE)',\n",
       "       'DISTRACTION - FROM INSIDE VEHICLE',\n",
       "       'DRIVING ON WRONG SIDE/WRONG WAY',\n",
       "       'VISION OBSCURED (SIGNS, TREE LIMBS, BUILDINGS, ETC.)',\n",
       "       'EQUIPMENT - VEHICLE CONDITION', 'DISREGARDING STOP SIGN',\n",
       "       'TEXTING', 'DISTRACTION - FROM OUTSIDE VEHICLE',\n",
       "       'DISREGARDING YIELD SIGN', 'CELL PHONE USE OTHER THAN TEXTING',\n",
       "       'UNDER THE INFLUENCE OF ALCOHOL/DRUGS (USE WHEN ARREST IS EFFECTED)',\n",
       "       'TURNING RIGHT ON RED', 'DISREGARDING ROAD MARKINGS',\n",
       "       'DISREGARDING OTHER TRAFFIC SIGNS', 'ANIMAL',\n",
       "       'RELATED TO BUS STOP', 'ROAD ENGINEERING/SURFACE/MARKING DEFECTS',\n",
       "       'OBSTRUCTED CROSSWALKS',\n",
       "       'DISTRACTION - OTHER ELECTRONIC DEVICE (NAVIGATION DEVICE, DVD PLAYER, ETC.)',\n",
       "       'PASSING STOPPED SCHOOL BUS',\n",
       "       'BICYCLE ADVANCING LEGALLY ON RED LIGHT',\n",
       "       'MOTORCYCLE ADVANCING LEGALLY ON RED LIGHT'], dtype=object)"
      ]
     },
     "execution_count": 15,
     "metadata": {},
     "output_type": "execute_result"
    }
   ],
   "source": [
    "df.PRIM_CONTRIBUTORY_CAUSE.unique()"
   ]
  },
  {
   "cell_type": "code",
   "execution_count": 17,
   "id": "european-fitting",
   "metadata": {
    "execution": {
     "iopub.execute_input": "2021-04-18T18:33:22.954269Z",
     "iopub.status.busy": "2021-04-18T18:33:22.953901Z",
     "iopub.status.idle": "2021-04-18T18:33:23.031432Z",
     "shell.execute_reply": "2021-04-18T18:33:23.031031Z",
     "shell.execute_reply.started": "2021-04-18T18:33:22.954232Z"
    },
    "tags": []
   },
   "outputs": [],
   "source": [
    "df.PRIM_CONTRIBUTORY_CAUSE = df.PRIM_CONTRIBUTORY_CAUSE.apply(target_grouper)"
   ]
  },
  {
   "cell_type": "code",
   "execution_count": 18,
   "id": "finnish-civilian",
   "metadata": {
    "execution": {
     "iopub.execute_input": "2021-04-18T18:33:23.378454Z",
     "iopub.status.busy": "2021-04-18T18:33:23.377823Z",
     "iopub.status.idle": "2021-04-18T18:33:23.403290Z",
     "shell.execute_reply": "2021-04-18T18:33:23.402837Z",
     "shell.execute_reply.started": "2021-04-18T18:33:23.378388Z"
    },
    "tags": []
   },
   "outputs": [
    {
     "data": {
      "text/plain": [
       "array(['IMPROPER_MANEUVER', 'UNABLE TO DETERMINE',\n",
       "       'OPERATING VEHICLE IN ERRATIC, RECKLESS, CARELESS, NEGLIGENT OR AGGRESSIVE MANNER',\n",
       "       'DISREGARDING', 'NOT APPLICABLE',\n",
       "       'DRIVING_SKILLS/KNOWLEDGE/EXPERIENCE', 'ROAD_CONDITION', 'WEATHER',\n",
       "       'PHYSICAL CONDITION OF DRIVER', 'ANIMAL', 'ALCOHOL_DRUGS',\n",
       "       'DISTRACTION', 'EQUIPMENT - VEHICLE CONDITION',\n",
       "       'RELATED TO BUS STOP', 'PASSING STOPPED SCHOOL BUS',\n",
       "       'BICYCLE ADVANCING LEGALLY ON RED LIGHT',\n",
       "       'MOTORCYCLE ADVANCING LEGALLY ON RED LIGHT'], dtype=object)"
      ]
     },
     "execution_count": 18,
     "metadata": {},
     "output_type": "execute_result"
    }
   ],
   "source": [
    "df.PRIM_CONTRIBUTORY_CAUSE.unique()"
   ]
  },
  {
   "cell_type": "code",
   "execution_count": 15,
   "id": "present-creation",
   "metadata": {
    "execution": {
     "iopub.execute_input": "2021-04-22T02:14:46.717358Z",
     "iopub.status.busy": "2021-04-22T02:14:46.716668Z",
     "iopub.status.idle": "2021-04-22T02:14:46.864286Z",
     "shell.execute_reply": "2021-04-22T02:14:46.863876Z",
     "shell.execute_reply.started": "2021-04-22T02:14:46.717292Z"
    },
    "tags": []
   },
   "outputs": [
    {
     "name": "stdout",
     "output_type": "stream",
     "text": [
      "<class 'pandas.core.frame.DataFrame'>\n",
      "RangeIndex: 92092 entries, 0 to 92091\n",
      "Data columns (total 35 columns):\n",
      " #   Column                         Non-Null Count  Dtype         \n",
      "---  ------                         --------------  -----         \n",
      " 0   ALIGNMENT                      92092 non-null  object        \n",
      " 1   CRASH_DATE                     92092 non-null  datetime64[ns]\n",
      " 2   CRASH_DAY_OF_WEEK              92092 non-null  int64         \n",
      " 3   CRASH_HOUR                     92092 non-null  int64         \n",
      " 4   CRASH_MONTH                    92092 non-null  int64         \n",
      " 5   DEVICE_CONDITION               92092 non-null  object        \n",
      " 6   DOORING_I                      92092 non-null  object        \n",
      " 7   FIRST_CRASH_TYPE               92092 non-null  object        \n",
      " 8   HIT_AND_RUN_I                  92092 non-null  object        \n",
      " 9   INJURIES_FATAL                 92092 non-null  float64       \n",
      " 10  INJURIES_INCAPACITATING        92092 non-null  float64       \n",
      " 11  INJURIES_NON_INCAPACITATING    92092 non-null  float64       \n",
      " 12  INJURIES_NO_INDICATION         92092 non-null  float64       \n",
      " 13  INJURIES_REPORTED_NOT_EVIDENT  92092 non-null  float64       \n",
      " 14  INJURIES_TOTAL                 92092 non-null  float64       \n",
      " 15  INJURIES_UNKNOWN               92092 non-null  float64       \n",
      " 16  INTERSECTION_RELATED_I         92092 non-null  object        \n",
      " 17  LATITUDE                       92092 non-null  float64       \n",
      " 18  LIGHTING_CONDITION             92092 non-null  object        \n",
      " 19  LONGITUDE                      92092 non-null  float64       \n",
      " 20  MOST_SEVERE_INJURY             92092 non-null  object        \n",
      " 21  NOT_RIGHT_OF_WAY_I             92092 non-null  object        \n",
      " 22  NUM_UNITS                      92092 non-null  int64         \n",
      " 23  POSTED_SPEED_LIMIT             92092 non-null  object        \n",
      " 24  PRIM_CONTRIBUTORY_CAUSE        92092 non-null  object        \n",
      " 25  ROADWAY_SURFACE_COND           92092 non-null  object        \n",
      " 26  ROAD_DEFECT                    92092 non-null  object        \n",
      " 27  STREET_DIRECTION               92092 non-null  object        \n",
      " 28  STREET_NAME                    92092 non-null  object        \n",
      " 29  STREET_NO                      92092 non-null  int64         \n",
      " 30  TRAFFICWAY_TYPE                92092 non-null  object        \n",
      " 31  TRAFFIC_CONTROL_DEVICE         92092 non-null  object        \n",
      " 32  WEATHER_CONDITION              92092 non-null  object        \n",
      " 33  WORKERS_PRESENT_I              92092 non-null  object        \n",
      " 34  WORK_ZONE_I                    92092 non-null  object        \n",
      "dtypes: datetime64[ns](1), float64(9), int64(5), object(20)\n",
      "memory usage: 24.6+ MB\n"
     ]
    }
   ],
   "source": [
    "df[sorted(set(df.columns)-excluded_cols)].info()"
   ]
  },
  {
   "cell_type": "code",
   "execution_count": 16,
   "id": "aquatic-february",
   "metadata": {
    "execution": {
     "iopub.execute_input": "2021-04-22T02:14:48.776994Z",
     "iopub.status.busy": "2021-04-22T02:14:48.776372Z",
     "iopub.status.idle": "2021-04-22T02:14:48.785464Z",
     "shell.execute_reply": "2021-04-22T02:14:48.784272Z",
     "shell.execute_reply.started": "2021-04-22T02:14:48.776930Z"
    },
    "tags": []
   },
   "outputs": [],
   "source": [
    "statistic_cols.update(['CRASH_DATE','CRASH_DAY_OF_WEEK','CRASH_HOUR','CRASH_MONTH', 'DOORING_I',\n",
    "                       'HIT_AND_RUN_I','INJURIES_FATAL','INJURIES_INCAPACITATING',\n",
    "                       'INJURIES_NON_INCAPACITATING','INJURIES_NO_INDICATION','INJURIES_REPORTED_NOT_EVIDENT',\n",
    "                       'INJURIES_TOTAL','INJURIES_UNKNOWN','LATITUDE','LONGITUDE','MOST_SEVERE_INJURY',\n",
    "                       'NUM_UNITS','STREET_DIRECTION','STREET_NAME','STREET_NO'])"
   ]
  },
  {
   "cell_type": "code",
   "execution_count": 17,
   "id": "surprising-window",
   "metadata": {
    "execution": {
     "iopub.execute_input": "2021-04-22T02:14:48.925080Z",
     "iopub.status.busy": "2021-04-22T02:14:48.924514Z",
     "iopub.status.idle": "2021-04-22T02:14:48.931935Z",
     "shell.execute_reply": "2021-04-22T02:14:48.930284Z",
     "shell.execute_reply.started": "2021-04-22T02:14:48.925017Z"
    },
    "tags": []
   },
   "outputs": [],
   "source": [
    "features_cols.update(set(df.columns)-excluded_cols.union(statistic_cols))"
   ]
  },
  {
   "cell_type": "code",
   "execution_count": 18,
   "id": "southern-bruce",
   "metadata": {
    "execution": {
     "iopub.execute_input": "2021-04-22T02:14:49.065576Z",
     "iopub.status.busy": "2021-04-22T02:14:49.065134Z",
     "iopub.status.idle": "2021-04-22T02:14:49.140047Z",
     "shell.execute_reply": "2021-04-22T02:14:49.139683Z",
     "shell.execute_reply.started": "2021-04-22T02:14:49.065541Z"
    },
    "tags": []
   },
   "outputs": [
    {
     "name": "stdout",
     "output_type": "stream",
     "text": [
      "<class 'pandas.core.frame.DataFrame'>\n",
      "RangeIndex: 92092 entries, 0 to 92091\n",
      "Data columns (total 15 columns):\n",
      " #   Column                   Non-Null Count  Dtype \n",
      "---  ------                   --------------  ----- \n",
      " 0   ALIGNMENT                92092 non-null  object\n",
      " 1   DEVICE_CONDITION         92092 non-null  object\n",
      " 2   FIRST_CRASH_TYPE         92092 non-null  object\n",
      " 3   INTERSECTION_RELATED_I   92092 non-null  object\n",
      " 4   LIGHTING_CONDITION       92092 non-null  object\n",
      " 5   NOT_RIGHT_OF_WAY_I       92092 non-null  object\n",
      " 6   POSTED_SPEED_LIMIT       92092 non-null  object\n",
      " 7   PRIM_CONTRIBUTORY_CAUSE  92092 non-null  object\n",
      " 8   ROADWAY_SURFACE_COND     92092 non-null  object\n",
      " 9   ROAD_DEFECT              92092 non-null  object\n",
      " 10  TRAFFICWAY_TYPE          92092 non-null  object\n",
      " 11  TRAFFIC_CONTROL_DEVICE   92092 non-null  object\n",
      " 12  WEATHER_CONDITION        92092 non-null  object\n",
      " 13  WORKERS_PRESENT_I        92092 non-null  object\n",
      " 14  WORK_ZONE_I              92092 non-null  object\n",
      "dtypes: object(15)\n",
      "memory usage: 10.5+ MB\n"
     ]
    }
   ],
   "source": [
    "df[sorted(features_cols)].info()"
   ]
  },
  {
   "cell_type": "markdown",
   "id": "fifty-receptor",
   "metadata": {},
   "source": [
    "## EXPLORATORY DATA ANALYSIS\n"
   ]
  },
  {
   "cell_type": "markdown",
   "id": "tracked-tonight",
   "metadata": {},
   "source": [
    "## CRASH TYPE"
   ]
  },
  {
   "cell_type": "code",
   "execution_count": 19,
   "id": "chief-communications",
   "metadata": {
    "execution": {
     "iopub.execute_input": "2021-04-22T02:14:51.283278Z",
     "iopub.status.busy": "2021-04-22T02:14:51.282525Z",
     "iopub.status.idle": "2021-04-22T02:14:51.469647Z",
     "shell.execute_reply": "2021-04-22T02:14:51.469325Z",
     "shell.execute_reply.started": "2021-04-22T02:14:51.283160Z"
    },
    "tags": []
   },
   "outputs": [
    {
     "data": {
      "image/png": "[encoded data removed]",
      "text/plain": [
       "<Figure size 576x360 with 1 Axes>"
      ]
     },
     "metadata": {
      "needs_background": "light"
     },
     "output_type": "display_data"
    }
   ],
   "source": [
    "fig, ax = plt.subplots(figsize=(8,5))\n",
    "sns_crach_type = sns.countplot(x=df.CRASH_TYPE, ax=ax)\n",
    "ax.set_title(\"Type of first collision in crash\", fontsize=15, weight='bold', ha='center', va='bottom')\n",
    "ax.set_xlabel('Crash Type')\n",
    "ax.set_ylabel('Count')\n",
    "plt.savefig('./img/crach_type.jpg',format=\"jpg\")\n",
    "plt.show()"
   ]
  },
  {
   "cell_type": "markdown",
   "id": "demonstrated-niagara",
   "metadata": {},
   "source": [
    "## ESTIMATED DAMAGE"
   ]
  },
  {
   "cell_type": "code",
   "execution_count": 122,
   "id": "grateful-trinidad",
   "metadata": {
    "execution": {
     "iopub.execute_input": "2021-04-22T01:19:11.715857Z",
     "iopub.status.busy": "2021-04-22T01:19:11.715017Z",
     "iopub.status.idle": "2021-04-22T01:19:11.901122Z",
     "shell.execute_reply": "2021-04-22T01:19:11.900740Z",
     "shell.execute_reply.started": "2021-04-22T01:19:11.715787Z"
    },
    "tags": []
   },
   "outputs": [
    {
     "data": {
      "image/png": "[encoded data removed]",
      "text/plain": [
       "<Figure size 576x360 with 1 Axes>"
      ]
     },
     "metadata": {
      "needs_background": "light"
     },
     "output_type": "display_data"
    }
   ],
   "source": [
    "fig, ax = plt.subplots(figsize=(8,5))\n",
    "sns_crach_type = sns.countplot(x=df.DAMAGE, ax=ax)\n",
    "ax.set_title(\"Observation of Estimated Damage\", fontsize=15, weight='bold', ha='center', va='bottom')\n",
    "ax.set_xlabel('Damage')\n",
    "ax.set_ylabel('Count')\n",
    "plt.savefig('./img/damage.jpg',format=\"jpg\")\n",
    "plt.show()"
   ]
  },
  {
   "cell_type": "markdown",
   "id": "grateful-tattoo",
   "metadata": {},
   "source": [
    "## MOST SEVERE INGURY"
   ]
  },
  {
   "cell_type": "code",
   "execution_count": 20,
   "id": "tested-danger",
   "metadata": {
    "execution": {
     "iopub.execute_input": "2021-04-22T02:15:10.278444Z",
     "iopub.status.busy": "2021-04-22T02:15:10.277761Z",
     "iopub.status.idle": "2021-04-22T02:15:10.457987Z",
     "shell.execute_reply": "2021-04-22T02:15:10.457683Z",
     "shell.execute_reply.started": "2021-04-22T02:15:10.278375Z"
    },
    "tags": []
   },
   "outputs": [
    {
     "data": {
      "image/png": "[encoded data removed]",
      "text/plain": [
       "<Figure size 576x360 with 1 Axes>"
      ]
     },
     "metadata": {
      "needs_background": "light"
     },
     "output_type": "display_data"
    }
   ],
   "source": [
    "fig, ax = plt.subplots(figsize=(8,5))\n",
    "sns.barplot(x=df.MOST_SEVERE_INJURY.value_counts().values, y= df.MOST_SEVERE_INJURY.value_counts().index, ax=ax)\n",
    "ax.set_title(\"Most severe injury sustained by any person\", fontsize=15, weight='bold', ha='center', va='bottom')\n",
    "ax.set_xlabel('Most Severe Injury')\n",
    "ax.set_ylabel('Count')\n",
    "plt.xticks(rotation=90)\n",
    "plt.savefig('./img/Most_Severe_Injury.jpg',format=\"jpg\")\n",
    "plt.show()"
   ]
  },
  {
   "cell_type": "markdown",
   "id": "detailed-campus",
   "metadata": {},
   "source": [
    "## WEATHER CONDITION"
   ]
  },
  {
   "cell_type": "code",
   "execution_count": 124,
   "id": "formal-garage",
   "metadata": {
    "execution": {
     "iopub.execute_input": "2021-04-22T01:19:16.786517Z",
     "iopub.status.busy": "2021-04-22T01:19:16.786009Z",
     "iopub.status.idle": "2021-04-22T01:19:17.057107Z",
     "shell.execute_reply": "2021-04-22T01:19:17.056762Z",
     "shell.execute_reply.started": "2021-04-22T01:19:16.786480Z"
    },
    "tags": []
   },
   "outputs": [
    {
     "data": {
      "image/png": "[encoded data removed]",
      "text/plain": [
       "<Figure size 576x360 with 1 Axes>"
      ]
     },
     "metadata": {
      "needs_background": "light"
     },
     "output_type": "display_data"
    }
   ],
   "source": [
    "fig, ax = plt.subplots(figsize=(8,5))\n",
    "sns_crach_type = sns.countplot(y=df.WEATHER_CONDITION, data=df, ax=ax)\n",
    "ax.set_title(\"Weather condition at time of crash\", fontsize=15, weight='bold', ha='center', va='bottom')\n",
    "ax.set_xlabel('Weather condition')\n",
    "ax.set_ylabel('Count')\n",
    "plt.savefig('./img/Weathercondition.jpg',format=\"jpg\")\n",
    "plt.show()"
   ]
  },
  {
   "cell_type": "markdown",
   "id": "changing-poland",
   "metadata": {},
   "source": [
    "## ROAD SURFACE CONDITION"
   ]
  },
  {
   "cell_type": "code",
   "execution_count": 125,
   "id": "civilian-sociology",
   "metadata": {
    "execution": {
     "iopub.execute_input": "2021-04-22T01:19:18.101818Z",
     "iopub.status.busy": "2021-04-22T01:19:18.101242Z",
     "iopub.status.idle": "2021-04-22T01:19:18.293071Z",
     "shell.execute_reply": "2021-04-22T01:19:18.292692Z",
     "shell.execute_reply.started": "2021-04-22T01:19:18.101752Z"
    },
    "tags": []
   },
   "outputs": [
    {
     "data": {
      "image/png": "[encoded data removed]",
      "text/plain": [
       "<Figure size 576x360 with 1 Axes>"
      ]
     },
     "metadata": {
      "needs_background": "light"
     },
     "output_type": "display_data"
    }
   ],
   "source": [
    "fig, ax = plt.subplots(figsize=(8,5))\n",
    "sns_crach_type = sns.countplot(x=df.ROADWAY_SURFACE_COND, ax=ax)\n",
    "ax.set_title(\"Road surface condition\", fontsize=15, weight='bold', ha='center', va='bottom')\n",
    "ax.set_xlabel('Road surface condition\"')\n",
    "ax.set_ylabel('Count')\n",
    "plt.xticks(rotation=45)\n",
    "plt.savefig('./img/road_surface_condition.jpg',format=\"jpg\")\n",
    "plt.show()"
   ]
  },
  {
   "cell_type": "markdown",
   "id": "conditional-planner",
   "metadata": {},
   "source": [
    "<H1>Posted Speed Limit Analysis<H/>"
   ]
  },
  {
   "cell_type": "code",
   "execution_count": 22,
   "id": "fifteen-colorado",
   "metadata": {
    "execution": {
     "iopub.execute_input": "2021-04-22T02:23:05.222622Z",
     "iopub.status.busy": "2021-04-22T02:23:05.222263Z",
     "iopub.status.idle": "2021-04-22T02:23:05.408337Z",
     "shell.execute_reply": "2021-04-22T02:23:05.408025Z",
     "shell.execute_reply.started": "2021-04-22T02:23:05.222588Z"
    },
    "tags": []
   },
   "outputs": [
    {
     "data": {
      "image/png": "[encoded data removed]",
      "text/plain": [
       "<Figure size 576x360 with 1 Axes>"
      ]
     },
     "metadata": {
      "needs_background": "light"
     },
     "output_type": "display_data"
    }
   ],
   "source": [
    "fig, ax = plt.subplots(figsize=(8,5))\n",
    "sns.barplot(x=df.POSTED_SPEED_LIMIT.value_counts().index, y=df.POSTED_SPEED_LIMIT.value_counts(), ax=ax)\n",
    "ax.set_title(\"Car Crashes Vs. Posted Speed Limit\", fontsize=15, weight='bold', ha='center', va='bottom')\n",
    "ax.set_xlabel('Posted Speed Limit')\n",
    "ax.set_ylabel('Number of crashes')\n",
    "plt.savefig('./img/speed_number_of_crashes.jpg',format=\"jpg\")\n",
    "plt.show()"
   ]
  },
  {
   "cell_type": "markdown",
   "id": "returning-potential",
   "metadata": {},
   "source": [
    "## Speed Limit by Number of units-related"
   ]
  },
  {
   "cell_type": "code",
   "execution_count": 127,
   "id": "signed-nothing",
   "metadata": {
    "execution": {
     "iopub.execute_input": "2021-04-22T01:19:19.705120Z",
     "iopub.status.busy": "2021-04-22T01:19:19.704742Z",
     "iopub.status.idle": "2021-04-22T01:19:19.895664Z",
     "shell.execute_reply": "2021-04-22T01:19:19.895305Z",
     "shell.execute_reply.started": "2021-04-22T01:19:19.705084Z"
    },
    "tags": []
   },
   "outputs": [
    {
     "data": {
      "image/png": "[encoded data removed]",
      "text/plain": [
       "<Figure size 576x360 with 1 Axes>"
      ]
     },
     "metadata": {
      "needs_background": "light"
     },
     "output_type": "display_data"
    }
   ],
   "source": [
    "speed_unit = df.groupby('POSTED_SPEED_LIMIT', as_index=False).agg({'NUM_UNITS': 'sum'})\n",
    "\n",
    "fig, ax = plt.subplots(figsize=(8,5))\n",
    "sns_speed_unit=sns.barplot(x='POSTED_SPEED_LIMIT', y='NUM_UNITS', data=speed_unit, ax=ax)\n",
    "for index, row in speed_unit.iterrows():\n",
    "    sns_speed_unit.text(x=row.name,\n",
    "                        y=row.NUM_UNITS,\n",
    "                        s=round(row.NUM_UNITS),\n",
    "                        color='black', va='bottom',  ha=\"center\", fontsize=10)\n",
    "ax.set_title(\"Number of units involved in the crash\", fontsize=15, weight='bold', ha='center', va='bottom')\n",
    "ax.set_xlabel('Posted Speed Limit')\n",
    "ax.set_ylabel('Number of Units')\n",
    "plt.savefig('./img/speed_unit.jpg',format=\"jpg\")\n",
    "plt.show()"
   ]
  },
  {
   "cell_type": "markdown",
   "id": "beneficial-correlation",
   "metadata": {},
   "source": [
    "## INJURIES ANALYSIS"
   ]
  },
  {
   "cell_type": "markdown",
   "id": "suffering-exposure",
   "metadata": {},
   "source": [
    "## Number of injuries by Speed Limit-related"
   ]
  },
  {
   "cell_type": "code",
   "execution_count": 128,
   "id": "pretty-holder",
   "metadata": {
    "execution": {
     "iopub.execute_input": "2021-04-22T01:19:21.949762Z",
     "iopub.status.busy": "2021-04-22T01:19:21.949134Z",
     "iopub.status.idle": "2021-04-22T01:19:22.143739Z",
     "shell.execute_reply": "2021-04-22T01:19:22.143407Z",
     "shell.execute_reply.started": "2021-04-22T01:19:21.949693Z"
    },
    "tags": []
   },
   "outputs": [
    {
     "data": {
      "image/png": "[encoded data removed]",
      "text/plain": [
       "<Figure size 576x360 with 1 Axes>"
      ]
     },
     "metadata": {
      "needs_background": "light"
     },
     "output_type": "display_data"
    }
   ],
   "source": [
    "speed_injuries = df.groupby('POSTED_SPEED_LIMIT', as_index=False).agg({'INJURIES_TOTAL': 'sum'})\n",
    "\n",
    "fig, ax = plt.subplots(figsize=(8,5))\n",
    "sns_speed_injured=sns.barplot(x='POSTED_SPEED_LIMIT', y='INJURIES_TOTAL', data=speed_injuries, ax=ax)\n",
    "for index, row in speed_injuries.iterrows():\n",
    "    sns_speed_injured.text(x=row.name,\n",
    "                           y=row.INJURIES_TOTAL,\n",
    "                           s=round(row.INJURIES_TOTAL),\n",
    "                           color='black', va='bottom',  ha=\"center\", fontsize=10)\n",
    "ax.set_title(\"Number of injuries related Speed Limit\", fontsize=15, weight='bold', ha='center', va='bottom')\n",
    "ax.set_xlabel('Posted Speed Limit')\n",
    "ax.set_ylabel('Total Injuries')\n",
    "plt.savefig('./img/speed_injures.jpg',format=\"jpg\")\n",
    "plt.show()"
   ]
  },
  {
   "cell_type": "markdown",
   "id": "threatened-compensation",
   "metadata": {},
   "source": [
    "## Number of injuries by Month-related"
   ]
  },
  {
   "cell_type": "code",
   "execution_count": 129,
   "id": "alleged-history",
   "metadata": {
    "execution": {
     "iopub.execute_input": "2021-04-22T01:19:24.293100Z",
     "iopub.status.busy": "2021-04-22T01:19:24.292476Z",
     "iopub.status.idle": "2021-04-22T01:19:24.520921Z",
     "shell.execute_reply": "2021-04-22T01:19:24.520581Z",
     "shell.execute_reply.started": "2021-04-22T01:19:24.293033Z"
    },
    "tags": []
   },
   "outputs": [
    {
     "data": {
      "image/png": "[encoded data removed]",
      "text/plain": [
       "<Figure size 576x360 with 1 Axes>"
      ]
     },
     "metadata": {
      "needs_background": "light"
     },
     "output_type": "display_data"
    }
   ],
   "source": [
    "injuries_month = df.groupby('CRASH_MONTH', as_index=False).agg({'INJURIES_TOTAL': 'sum'})\n",
    "\n",
    "fig, ax = plt.subplots(figsize=(8,5))\n",
    "sns_injuries_month=sns.barplot(x='CRASH_MONTH', y='INJURIES_TOTAL', data=injuries_month, ax=ax)\n",
    "for index, row in injuries_month.iterrows():\n",
    "    sns_injuries_month.text(x=row.name,\n",
    "                            y=row.INJURIES_TOTAL,\n",
    "                            s=round(row.INJURIES_TOTAL),\n",
    "                            color='black', va='bottom',  ha=\"center\", fontsize=10)\n",
    "ax.set_title(\"The month component of CRASH_DATE\", fontsize=15, weight='bold', ha='center', va='bottom')\n",
    "ax.set_xlabel('Month')\n",
    "ax.set_ylabel('Total Injuries')\n",
    "plt.savefig('./img/injuries_month.jpg',format=\"jpg\")\n",
    "plt.show()"
   ]
  },
  {
   "cell_type": "markdown",
   "id": "prerequisite-market",
   "metadata": {},
   "source": [
    "##  Number of injuries by Day of Week-related"
   ]
  },
  {
   "cell_type": "code",
   "execution_count": 130,
   "id": "wireless-philosophy",
   "metadata": {
    "execution": {
     "iopub.execute_input": "2021-04-22T01:19:25.865023Z",
     "iopub.status.busy": "2021-04-22T01:19:25.864381Z",
     "iopub.status.idle": "2021-04-22T01:19:26.047919Z",
     "shell.execute_reply": "2021-04-22T01:19:26.047571Z",
     "shell.execute_reply.started": "2021-04-22T01:19:25.864953Z"
    },
    "tags": []
   },
   "outputs": [
    {
     "data": {
      "image/png": "[encoded data removed]",
      "text/plain": [
       "<Figure size 576x360 with 1 Axes>"
      ]
     },
     "metadata": {
      "needs_background": "light"
     },
     "output_type": "display_data"
    }
   ],
   "source": [
    "injuries_week = df.groupby('CRASH_DAY_OF_WEEK', as_index=False).agg({'INJURIES_TOTAL': 'sum'})\n",
    "fig, ax = plt.subplots(figsize=(8,5))\n",
    "sns_injuries_week=sns.barplot(x='CRASH_DAY_OF_WEEK', y='INJURIES_TOTAL', data=injuries_week, ax=ax)\n",
    "for index, row in injuries_week.iterrows():\n",
    "    sns_injuries_week.text(x=row.name,\n",
    "                           y=row.INJURIES_TOTAL,\n",
    "                           s=round(row.INJURIES_TOTAL),\n",
    "                           color='black', va='bottom',  ha=\"center\", fontsize=10)\n",
    "ax.set_title(\"The day of the week component of CRASH_DATE\", fontsize=15, weight='bold', ha='center', va='bottom')\n",
    "ax.set_xlabel('Week')\n",
    "ax.set_ylabel('Total Injuries')\n",
    "plt.savefig('./img/injuries_week.jpg',format=\"jpg\")\n",
    "plt.show()"
   ]
  },
  {
   "cell_type": "markdown",
   "id": "disciplinary-front",
   "metadata": {},
   "source": [
    "##  Number of injuries by Hour-related"
   ]
  },
  {
   "cell_type": "code",
   "execution_count": 131,
   "id": "liable-newark",
   "metadata": {
    "execution": {
     "iopub.execute_input": "2021-04-22T01:19:27.493181Z",
     "iopub.status.busy": "2021-04-22T01:19:27.492552Z",
     "iopub.status.idle": "2021-04-22T01:19:27.979726Z",
     "shell.execute_reply": "2021-04-22T01:19:27.979371Z",
     "shell.execute_reply.started": "2021-04-22T01:19:27.493112Z"
    },
    "tags": []
   },
   "outputs": [
    {
     "data": {
      "image/png": "[encoded data removed]",
      "text/plain": [
       "<Figure size 576x360 with 1 Axes>"
      ]
     },
     "metadata": {
      "needs_background": "light"
     },
     "output_type": "display_data"
    }
   ],
   "source": [
    "injuries_hour = df.groupby('CRASH_HOUR', as_index=False).agg({'INJURIES_TOTAL': 'sum'})\n",
    "\n",
    "fig, ax = plt.subplots(figsize=(8,5))\n",
    "sns_injuries_hour=sns.barplot(x='CRASH_HOUR', y='INJURIES_TOTAL', data=injuries_hour, ax=ax)\n",
    "\n",
    "for index, row in injuries_hour.iterrows():\n",
    "    sns_injuries_hour.text(x=row.name,\n",
    "                           y=row.INJURIES_TOTAL,\n",
    "                           s=round(row.INJURIES_TOTAL),\n",
    "                           color='black', va='bottom',  ha=\"center\", fontsize=10)\n",
    "ax.set_title(\"The hour of the day component of CRASH_DATE\", fontsize=15, weight='bold', ha='center', va='bottom')\n",
    "ax.set_xlabel('Hour')\n",
    "ax.set_ylabel('Total Injuries')\n",
    "plt.savefig('./img/injuries_hour.jpg',format=\"jpg\")\n",
    "plt.show()"
   ]
  },
  {
   "cell_type": "markdown",
   "id": "egyptian-washer",
   "metadata": {},
   "source": [
    "## Number of injuries by Roadway Condition-related"
   ]
  },
  {
   "cell_type": "code",
   "execution_count": 132,
   "id": "employed-cornell",
   "metadata": {
    "execution": {
     "iopub.execute_input": "2021-04-22T01:19:29.138602Z",
     "iopub.status.busy": "2021-04-22T01:19:29.137986Z",
     "iopub.status.idle": "2021-04-22T01:19:29.435187Z",
     "shell.execute_reply": "2021-04-22T01:19:29.434883Z",
     "shell.execute_reply.started": "2021-04-22T01:19:29.138534Z"
    },
    "tags": []
   },
   "outputs": [
    {
     "data": {
      "image/png": "[encoded data removed]",
      "text/plain": [
       "<Figure size 576x360 with 1 Axes>"
      ]
     },
     "metadata": {
      "needs_background": "light"
     },
     "output_type": "display_data"
    }
   ],
   "source": [
    "injuries_road = df.groupby('ROADWAY_SURFACE_COND', as_index=False).agg({'INJURIES_TOTAL': 'sum'})\n",
    "\n",
    "fig, ax = plt.subplots(figsize=(8,5))\n",
    "sns_injuries_road=sns.barplot(x='ROADWAY_SURFACE_COND', y='INJURIES_TOTAL', data=injuries_road, ax=ax)\n",
    "\n",
    "for index, row in injuries_road.iterrows():\n",
    "    sns_injuries_road.text(x=row.name,\n",
    "                           y=row.INJURIES_TOTAL,\n",
    "                           s=round(row.INJURIES_TOTAL),\n",
    "                           color='black', va='bottom', ha=\"center\", fontsize=10)\n",
    "    sns.barplot(x='ROADWAY_SURFACE_COND', y='INJURIES_TOTAL', data=injuries_road, ax=ax)\n",
    "plt.xticks(rotation=45)\n",
    "ax.set_title(\"Road surface condition\", fontsize=15, weight='bold', ha='center', va='bottom')\n",
    "ax.set_xlabel('Road condition')\n",
    "ax.set_ylabel('Total Injuries')\n",
    "plt.savefig('./img/Road_surface_condition.jpg', format=\"jpg\")\n",
    "plt.show()"
   ]
  },
  {
   "cell_type": "markdown",
   "id": "coupled-papua",
   "metadata": {
    "tags": []
   },
   "source": [
    "## PREPROCESSING"
   ]
  },
  {
   "cell_type": "code",
   "execution_count": 133,
   "id": "answering-reynolds",
   "metadata": {
    "execution": {
     "iopub.execute_input": "2021-04-22T01:19:33.922393Z",
     "iopub.status.busy": "2021-04-22T01:19:33.921720Z",
     "iopub.status.idle": "2021-04-22T01:19:33.962097Z",
     "shell.execute_reply": "2021-04-22T01:19:33.961547Z",
     "shell.execute_reply.started": "2021-04-22T01:19:33.922324Z"
    },
    "tags": []
   },
   "outputs": [],
   "source": [
    "df_features = df[sorted(features_cols)].copy()"
   ]
  },
  {
   "cell_type": "code",
   "execution_count": 134,
   "id": "major-bikini",
   "metadata": {
    "execution": {
     "iopub.execute_input": "2021-04-22T01:19:34.229328Z",
     "iopub.status.busy": "2021-04-22T01:19:34.228660Z",
     "iopub.status.idle": "2021-04-22T01:19:34.235479Z",
     "shell.execute_reply": "2021-04-22T01:19:34.234138Z",
     "shell.execute_reply.started": "2021-04-22T01:19:34.229260Z"
    },
    "tags": []
   },
   "outputs": [],
   "source": [
    "df_features_info = Dframe(df_features)"
   ]
  },
  {
   "cell_type": "code",
   "execution_count": 135,
   "id": "changing-blake",
   "metadata": {
    "execution": {
     "iopub.execute_input": "2021-04-22T01:19:35.055705Z",
     "iopub.status.busy": "2021-04-22T01:19:35.055244Z",
     "iopub.status.idle": "2021-04-22T01:19:35.136134Z",
     "shell.execute_reply": "2021-04-22T01:19:35.135609Z",
     "shell.execute_reply.started": "2021-04-22T01:19:35.055668Z"
    },
    "tags": []
   },
   "outputs": [
    {
     "name": "stdout",
     "output_type": "stream",
     "text": [
      "<class 'pandas.core.frame.DataFrame'>\n",
      "RangeIndex: 92092 entries, 0 to 92091\n",
      "Data columns (total 15 columns):\n",
      " #   Column                   Non-Null Count  Dtype \n",
      "---  ------                   --------------  ----- \n",
      " 0   ALIGNMENT                92092 non-null  object\n",
      " 1   DEVICE_CONDITION         92092 non-null  object\n",
      " 2   FIRST_CRASH_TYPE         92092 non-null  object\n",
      " 3   INTERSECTION_RELATED_I   92092 non-null  object\n",
      " 4   LIGHTING_CONDITION       92092 non-null  object\n",
      " 5   NOT_RIGHT_OF_WAY_I       92092 non-null  object\n",
      " 6   POSTED_SPEED_LIMIT       92092 non-null  object\n",
      " 7   PRIM_CONTRIBUTORY_CAUSE  92092 non-null  object\n",
      " 8   ROADWAY_SURFACE_COND     92092 non-null  object\n",
      " 9   ROAD_DEFECT              92092 non-null  object\n",
      " 10  TRAFFICWAY_TYPE          92092 non-null  object\n",
      " 11  TRAFFIC_CONTROL_DEVICE   92092 non-null  object\n",
      " 12  WEATHER_CONDITION        92092 non-null  object\n",
      " 13  WORKERS_PRESENT_I        92092 non-null  object\n",
      " 14  WORK_ZONE_I              92092 non-null  object\n",
      "dtypes: object(15)\n",
      "memory usage: 10.5+ MB\n"
     ]
    }
   ],
   "source": [
    "df_features.info()"
   ]
  },
  {
   "cell_type": "code",
   "execution_count": 136,
   "id": "criminal-child",
   "metadata": {
    "execution": {
     "iopub.execute_input": "2021-04-22T01:19:45.121009Z",
     "iopub.status.busy": "2021-04-22T01:19:45.120173Z",
     "iopub.status.idle": "2021-04-22T01:19:45.128553Z",
     "shell.execute_reply": "2021-04-22T01:19:45.127366Z",
     "shell.execute_reply.started": "2021-04-22T01:19:45.120932Z"
    },
    "tags": []
   },
   "outputs": [],
   "source": [
    "category_cols.update(('TRAFFIC_CONTROL_DEVICE', 'DEVICE_CONDITION', 'WEATHER_CONDITION', 'LIGHTING_CONDITION',\n",
    "                    'FIRST_CRASH_TYPE', 'TRAFFICWAY_TYPE', 'ALIGNMENT', 'ROADWAY_SURFACE_COND', 'ROAD_DEFECT',\n",
    "                     'INTERSECTION_RELATED_I', 'NOT_RIGHT_OF_WAY_I','WORK_ZONE_I', 'WORKERS_PRESENT_I'))"
   ]
  },
  {
   "cell_type": "markdown",
   "id": "funny-rally",
   "metadata": {},
   "source": [
    "## Features Transformation using OneHotEncoder"
   ]
  },
  {
   "cell_type": "code",
   "execution_count": 137,
   "id": "treated-boulder",
   "metadata": {
    "execution": {
     "iopub.execute_input": "2021-04-22T01:19:47.015282Z",
     "iopub.status.busy": "2021-04-22T01:19:47.014594Z",
     "iopub.status.idle": "2021-04-22T01:19:47.406087Z",
     "shell.execute_reply": "2021-04-22T01:19:47.405674Z",
     "shell.execute_reply.started": "2021-04-22T01:19:47.015215Z"
    },
    "tags": []
   },
   "outputs": [],
   "source": [
    "ohe_features = OneHotEncoder(sparse=False, drop='first')\n",
    "ohe_features.fit(df_features[category_cols])\n",
    "\n",
    "df_features_ohe = pd.concat([df_features.drop(labels=category_cols, axis=1),\n",
    "                             pd.DataFrame(ohe_features.transform(df_features[category_cols]),\n",
    "                                          columns=ohe_features.get_feature_names(list(category_cols)))],\n",
    "                            axis=1)\n",
    "df_features_ohe.drop(labels=['PRIM_CONTRIBUTORY_CAUSE'], axis=1, inplace=True)"
   ]
  },
  {
   "cell_type": "markdown",
   "id": "royal-opera",
   "metadata": {},
   "source": [
    "## Target Transformation using OneHotEncoder"
   ]
  },
  {
   "cell_type": "code",
   "execution_count": 138,
   "id": "direct-thought",
   "metadata": {
    "execution": {
     "iopub.execute_input": "2021-04-22T01:19:47.406992Z",
     "iopub.status.busy": "2021-04-22T01:19:47.406897Z",
     "iopub.status.idle": "2021-04-22T01:19:47.440540Z",
     "shell.execute_reply": "2021-04-22T01:19:47.440072Z",
     "shell.execute_reply.started": "2021-04-22T01:19:47.406979Z"
    },
    "tags": []
   },
   "outputs": [],
   "source": [
    "ohe_target     = OneHotEncoder(handle_unknown='ignore', sparse=False)\n",
    "df_target_ohe  = pd.DataFrame(ohe_target.fit_transform(df_features.PRIM_CONTRIBUTORY_CAUSE.values.reshape(-1,1)),\n",
    "                         columns=ohe_target.categories_)\n",
    "df_target_ohe.columns = df_target_ohe.columns.get_level_values(0).str.replace(' ', '_')"
   ]
  },
  {
   "cell_type": "code",
   "execution_count": 139,
   "id": "naughty-entertainment",
   "metadata": {
    "execution": {
     "iopub.execute_input": "2021-04-22T01:19:47.441665Z",
     "iopub.status.busy": "2021-04-22T01:19:47.441548Z",
     "iopub.status.idle": "2021-04-22T01:19:47.457126Z",
     "shell.execute_reply": "2021-04-22T01:19:47.456608Z",
     "shell.execute_reply.started": "2021-04-22T01:19:47.441651Z"
    },
    "tags": []
   },
   "outputs": [],
   "source": [
    "lc_prim_contributory_cause =  LabelEncoder()\n",
    "df_target_encoded = pd.DataFrame(lc_prim_contributory_cause.fit_transform(df_features['PRIM_CONTRIBUTORY_CAUSE']),\n",
    "                                columns=['PRIM_CONTRIBUTORY_CAUSE'])\n",
    "\n",
    "y_encoded_dict = dict(zip(lc_prim_contributory_cause.classes_,\n",
    "                          lc_prim_contributory_cause.transform(lc_prim_contributory_cause.classes_)))"
   ]
  },
  {
   "cell_type": "markdown",
   "id": "wound-seven",
   "metadata": {},
   "source": [
    "## MODELING"
   ]
  },
  {
   "cell_type": "markdown",
   "id": "aggressive-toronto",
   "metadata": {},
   "source": [
    "it's broad clear we're dealing with a multi-class & multi-label imbalanced dataset with 99% of categorical data except for POSTED_SPEED_LIMIT. we end up with 102 features\n",
    "our goal is to validate one of the main features of car crashes which is \"UNABLE_TO_DETERMINE\", that rappresents about 40% of \"PRIM_CONTRIBUTORY_CAUSE\". the dataset."
   ]
  },
  {
   "cell_type": "code",
   "execution_count": 141,
   "id": "endless-brunswick",
   "metadata": {
    "execution": {
     "iopub.execute_input": "2021-04-22T01:20:04.383462Z",
     "iopub.status.busy": "2021-04-22T01:20:04.382831Z",
     "iopub.status.idle": "2021-04-22T01:20:04.604808Z",
     "shell.execute_reply": "2021-04-22T01:20:04.604439Z",
     "shell.execute_reply.started": "2021-04-22T01:20:04.383393Z"
    },
    "tags": []
   },
   "outputs": [
    {
     "data": {
      "text/plain": [
       "Text(0, 0.5, 'COUNT')"
      ]
     },
     "execution_count": 141,
     "metadata": {},
     "output_type": "execute_result"
    },
    {
     "data": {
      "image/png": "[encoded data removed]",
      "text/plain": [
       "<Figure size 216x216 with 1 Axes>"
      ]
     },
     "metadata": {
      "needs_background": "light"
     },
     "output_type": "display_data"
    }
   ],
   "source": [
    "fig, ax = plt.subplots(figsize=(3,3))\n",
    "sns.countplot(x=df_target_ohe.UNABLE_TO_DETERMINE.value_counts())\n",
    "ax.set_xlabel('CLASS')\n",
    "ax.set_ylabel('COUNT')"
   ]
  },
  {
   "cell_type": "markdown",
   "id": "latest-revision",
   "metadata": {
    "tags": []
   },
   "source": [
    "## FEATURE SELECTION"
   ]
  },
  {
   "cell_type": "markdown",
   "id": "sticky-oxford",
   "metadata": {},
   "source": [
    "Since we're dealing with a remarkably large dataset with 102 features, we're going to process our features\n",
    "by removing irrelevant and redundant data in order to reduce computation time and improve learning accuracy."
   ]
  },
  {
   "cell_type": "code",
   "execution_count": 432,
   "id": "upper-passion",
   "metadata": {
    "execution": {
     "iopub.execute_input": "2021-04-19T04:34:41.813880Z",
     "iopub.status.busy": "2021-04-19T04:34:41.813516Z",
     "iopub.status.idle": "2021-04-19T04:34:42.477958Z",
     "shell.execute_reply": "2021-04-19T04:34:42.477283Z",
     "shell.execute_reply.started": "2021-04-19T04:34:41.813846Z"
    },
    "tags": []
   },
   "outputs": [],
   "source": [
    "alphas = np.logspace(-3, -1, 100)\n",
    "lasso = LassoCV(alphas=alphas, max_iter=100_000, n_jobs=6, random_state=264, cv=5)\n",
    "sfm = SelectFromModel(lasso, threshold=0.0001)\n",
    "sfm.fit_transform(df_features_ohe, np.ravel(np.array(df_target_ohe['UNABLE_TO_DETERMINE'])))\n",
    "feature_selection_col = df_features_ohe.columns[sfm.get_support()]"
   ]
  },
  {
   "cell_type": "code",
   "execution_count": 142,
   "id": "bacterial-tragedy",
   "metadata": {
    "execution": {
     "iopub.execute_input": "2021-04-22T01:20:13.634182Z",
     "iopub.status.busy": "2021-04-22T01:20:13.633490Z",
     "iopub.status.idle": "2021-04-22T01:20:13.650175Z",
     "shell.execute_reply": "2021-04-22T01:20:13.649197Z",
     "shell.execute_reply.started": "2021-04-22T01:20:13.634113Z"
    },
    "tags": []
   },
   "outputs": [
    {
     "name": "stdout",
     "output_type": "stream",
     "text": [
      "Type of Target : binary\n"
     ]
    }
   ],
   "source": [
    "X = df_features_ohe #[feature_selection_col]\n",
    "y = np.ravel(np.array(df_target_ohe['UNABLE_TO_DETERMINE']))\n",
    "print(f\"Type of Target : {type_of_target(y)}\")"
   ]
  },
  {
   "cell_type": "code",
   "execution_count": 143,
   "id": "joined-verse",
   "metadata": {
    "execution": {
     "iopub.execute_input": "2021-04-22T01:20:13.869659Z",
     "iopub.status.busy": "2021-04-22T01:20:13.869054Z",
     "iopub.status.idle": "2021-04-22T01:20:13.944933Z",
     "shell.execute_reply": "2021-04-22T01:20:13.944567Z",
     "shell.execute_reply.started": "2021-04-22T01:20:13.869592Z"
    },
    "tags": []
   },
   "outputs": [
    {
     "data": {
      "text/plain": [
       "((69069, 102), (23023, 102), (69069,), (23023,))"
      ]
     },
     "execution_count": 143,
     "metadata": {},
     "output_type": "execute_result"
    }
   ],
   "source": [
    "x_train, x_test, y_train, y_test = train_test_split(X, y,test_size=.25, random_state=264, stratify=y)\n",
    "x_train.shape, x_test.shape, y_train.shape, y_test.shape"
   ]
  },
  {
   "cell_type": "code",
   "execution_count": 112,
   "id": "spread-translation",
   "metadata": {
    "execution": {
     "iopub.execute_input": "2021-04-17T19:20:14.221490Z",
     "iopub.status.busy": "2021-04-17T19:20:14.220729Z",
     "iopub.status.idle": "2021-04-17T19:20:14.235939Z",
     "shell.execute_reply": "2021-04-17T19:20:14.235023Z",
     "shell.execute_reply.started": "2021-04-17T19:20:14.221401Z"
    },
    "tags": []
   },
   "outputs": [],
   "source": [
    "x_train, y_train = check_X_y(x_train, y_train)"
   ]
  },
  {
   "cell_type": "markdown",
   "id": "surprised-exemption",
   "metadata": {},
   "source": [
    "## Decision Tree"
   ]
  },
  {
   "cell_type": "code",
   "execution_count": 272,
   "id": "organized-championship",
   "metadata": {
    "execution": {
     "iopub.execute_input": "2021-04-21T05:16:57.371362Z",
     "iopub.status.busy": "2021-04-21T05:16:57.370969Z",
     "iopub.status.idle": "2021-04-21T05:16:57.408942Z",
     "shell.execute_reply": "2021-04-21T05:16:57.408178Z",
     "shell.execute_reply.started": "2021-04-21T05:16:57.371328Z"
    },
    "tags": []
   },
   "outputs": [],
   "source": [
    "class_weight = get_class_weight(x_train, y_train)"
   ]
  },
  {
   "cell_type": "code",
   "execution_count": 273,
   "id": "biblical-wright",
   "metadata": {
    "execution": {
     "iopub.execute_input": "2021-04-21T05:16:57.668429Z",
     "iopub.status.busy": "2021-04-21T05:16:57.667818Z",
     "iopub.status.idle": "2021-04-21T05:16:57.675667Z",
     "shell.execute_reply": "2021-04-21T05:16:57.674381Z",
     "shell.execute_reply.started": "2021-04-21T05:16:57.668364Z"
    },
    "tags": []
   },
   "outputs": [],
   "source": [
    "dc_param={\n",
    "    'criterion': 'entropy',\n",
    "    'class_weight': class_weight,\n",
    "    'random_state': 264\n",
    "}"
   ]
  },
  {
   "cell_type": "code",
   "execution_count": 199,
   "id": "subsequent-syntax",
   "metadata": {
    "execution": {
     "iopub.execute_input": "2021-04-21T04:39:47.731648Z",
     "iopub.status.busy": "2021-04-21T04:39:47.731552Z",
     "iopub.status.idle": "2021-04-21T04:39:47.735347Z",
     "shell.execute_reply": "2021-04-21T04:39:47.734966Z",
     "shell.execute_reply.started": "2021-04-21T04:39:47.731635Z"
    },
    "tags": []
   },
   "outputs": [
    {
     "data": {
      "text/plain": [
       "['./pkl/DecisionTree_params.pkl']"
      ]
     },
     "execution_count": 199,
     "metadata": {},
     "output_type": "execute_result"
    }
   ],
   "source": [
    "joblib.dump(dc_param, './pkl/DecisionTree_params.pkl')"
   ]
  },
  {
   "cell_type": "code",
   "execution_count": 274,
   "id": "systematic-newton",
   "metadata": {
    "execution": {
     "iopub.execute_input": "2021-04-21T05:16:58.250112Z",
     "iopub.status.busy": "2021-04-21T05:16:58.249486Z",
     "iopub.status.idle": "2021-04-21T05:16:58.256568Z",
     "shell.execute_reply": "2021-04-21T05:16:58.255300Z",
     "shell.execute_reply.started": "2021-04-21T05:16:58.250047Z"
    },
    "tags": []
   },
   "outputs": [],
   "source": [
    "cls_tree = DecisionTreeClassifier(**dc_param)"
   ]
  },
  {
   "cell_type": "code",
   "execution_count": 278,
   "id": "convinced-narrow",
   "metadata": {
    "execution": {
     "iopub.execute_input": "2021-04-21T05:18:20.694243Z",
     "iopub.status.busy": "2021-04-21T05:18:20.693620Z",
     "iopub.status.idle": "2021-04-21T05:18:21.482819Z",
     "shell.execute_reply": "2021-04-21T05:18:21.482494Z",
     "shell.execute_reply.started": "2021-04-21T05:18:20.694177Z"
    },
    "tags": []
   },
   "outputs": [
    {
     "data": {
      "text/plain": [
       "DecisionTreeClassifier(class_weight={0.0: 0.8258088428704656,\n",
       "                                     1.0: 1.2673211009174312},\n",
       "                       criterion='entropy', random_state=264)"
      ]
     },
     "execution_count": 278,
     "metadata": {},
     "output_type": "execute_result"
    }
   ],
   "source": [
    "cls_tree.fit(x_train, y_train)"
   ]
  },
  {
   "cell_type": "code",
   "execution_count": 297,
   "id": "sapphire-gabriel",
   "metadata": {
    "execution": {
     "iopub.execute_input": "2021-04-21T05:24:37.326666Z",
     "iopub.status.busy": "2021-04-21T05:24:37.326222Z",
     "iopub.status.idle": "2021-04-21T05:24:37.662208Z",
     "shell.execute_reply": "2021-04-21T05:24:37.661866Z",
     "shell.execute_reply.started": "2021-04-21T05:24:37.326633Z"
    },
    "tags": []
   },
   "outputs": [
    {
     "name": "stdout",
     "output_type": "stream",
     "text": [
      "ROC_AUC SCORE   0.7376198010166575\n",
      "ACCURACY SCORE  0.7403610881871752\n"
     ]
    }
   ],
   "source": [
    "model1_y_train_pred = model_metric(cls_tree, x_train, y_train)"
   ]
  },
  {
   "cell_type": "markdown",
   "id": "outstanding-stewart",
   "metadata": {},
   "source": [
    "## Random Forest"
   ]
  },
  {
   "cell_type": "code",
   "execution_count": 298,
   "id": "cellular-canberra",
   "metadata": {
    "execution": {
     "iopub.execute_input": "2021-04-21T05:25:00.996886Z",
     "iopub.status.busy": "2021-04-21T05:25:00.996268Z",
     "iopub.status.idle": "2021-04-21T05:25:01.003556Z",
     "shell.execute_reply": "2021-04-21T05:25:01.002135Z",
     "shell.execute_reply.started": "2021-04-21T05:25:00.996822Z"
    },
    "tags": []
   },
   "outputs": [],
   "source": [
    "cls_rf = RandomForestClassifier(class_weight=class_weight, n_jobs=6, random_state=264)"
   ]
  },
  {
   "cell_type": "code",
   "execution_count": 299,
   "id": "catholic-matrix",
   "metadata": {
    "execution": {
     "iopub.execute_input": "2021-04-21T05:25:02.406499Z",
     "iopub.status.busy": "2021-04-21T05:25:02.405889Z",
     "iopub.status.idle": "2021-04-21T05:25:04.832431Z",
     "shell.execute_reply": "2021-04-21T05:25:04.832119Z",
     "shell.execute_reply.started": "2021-04-21T05:25:02.406434Z"
    },
    "tags": []
   },
   "outputs": [
    {
     "data": {
      "text/plain": [
       "RandomForestClassifier(class_weight={0.0: 0.8258088428704656,\n",
       "                                     1.0: 1.2673211009174312},\n",
       "                       n_jobs=6, random_state=264)"
      ]
     },
     "execution_count": 299,
     "metadata": {},
     "output_type": "execute_result"
    }
   ],
   "source": [
    "cls_rf.fit(x_train, np.ravel(np.array(y_train)))"
   ]
  },
  {
   "cell_type": "code",
   "execution_count": 300,
   "id": "sporting-entity",
   "metadata": {
    "execution": {
     "iopub.execute_input": "2021-04-21T05:25:35.847051Z",
     "iopub.status.busy": "2021-04-21T05:25:35.846329Z",
     "iopub.status.idle": "2021-04-21T05:25:36.459996Z",
     "shell.execute_reply": "2021-04-21T05:25:36.459671Z",
     "shell.execute_reply.started": "2021-04-21T05:25:35.846978Z"
    },
    "tags": []
   },
   "outputs": [
    {
     "name": "stdout",
     "output_type": "stream",
     "text": [
      "ROC_AUC SCORE   0.7360246988386605\n",
      "ACCURACY SCORE  0.7416496546931329\n"
     ]
    }
   ],
   "source": [
    "model2_y_train_pred = model_metric(cls_rf, x_train, y_train)"
   ]
  },
  {
   "cell_type": "markdown",
   "id": "general-ensemble",
   "metadata": {},
   "source": [
    "## RandomForestClassifier: Hyperparameters with GridSearchCV"
   ]
  },
  {
   "cell_type": "code",
   "execution_count": 146,
   "id": "satisfied-penalty",
   "metadata": {
    "execution": {
     "iopub.execute_input": "2021-04-21T01:40:38.587859Z",
     "iopub.status.busy": "2021-04-21T01:40:38.587517Z",
     "iopub.status.idle": "2021-04-21T01:40:38.593100Z",
     "shell.execute_reply": "2021-04-21T01:40:38.591985Z",
     "shell.execute_reply.started": "2021-04-21T01:40:38.587827Z"
    },
    "tags": []
   },
   "outputs": [],
   "source": [
    "rfc_params = {\n",
    "    'n_estimators': [2000],\n",
    "    'criterion': ['gini', 'entropy'],\n",
    "    'max_depth': [150],\n",
    "    'max_features': [30],\n",
    "    'bootstrap': [True],\n",
    "    'oob_score': [True],\n",
    "    'n_jobs': [6],\n",
    "    'class_weight': [class_weight],\n",
    "    'random_state': [264]\n",
    "}"
   ]
  },
  {
   "cell_type": "code",
   "execution_count": 147,
   "id": "disciplinary-drilling",
   "metadata": {
    "execution": {
     "iopub.execute_input": "2021-04-21T01:40:45.704044Z",
     "iopub.status.busy": "2021-04-21T01:40:45.703698Z",
     "iopub.status.idle": "2021-04-21T01:40:45.711185Z",
     "shell.execute_reply": "2021-04-21T01:40:45.710310Z",
     "shell.execute_reply.started": "2021-04-21T01:40:45.704011Z"
    },
    "tags": []
   },
   "outputs": [
    {
     "data": {
      "text/plain": [
       "['./pkl/RandomForest_params.pkl']"
      ]
     },
     "execution_count": 147,
     "metadata": {},
     "output_type": "execute_result"
    }
   ],
   "source": [
    "joblib.dump(rfc_params, './pkl/RandomForest_params.pkl')"
   ]
  },
  {
   "cell_type": "code",
   "execution_count": 585,
   "id": "similar-cricket",
   "metadata": {
    "execution": {
     "iopub.execute_input": "2021-04-19T05:47:12.715530Z",
     "iopub.status.busy": "2021-04-19T05:47:12.714876Z",
     "iopub.status.idle": "2021-04-19T05:47:12.720207Z",
     "shell.execute_reply": "2021-04-19T05:47:12.718831Z",
     "shell.execute_reply.started": "2021-04-19T05:47:12.715426Z"
    },
    "tags": []
   },
   "outputs": [],
   "source": [
    "cv = RepeatedStratifiedKFold(n_splits=10, n_repeats=1, random_state=264)"
   ]
  },
  {
   "cell_type": "code",
   "execution_count": 588,
   "id": "passing-simpson",
   "metadata": {
    "execution": {
     "iopub.execute_input": "2021-04-19T05:47:31.578626Z",
     "iopub.status.busy": "2021-04-19T05:47:31.578034Z",
     "iopub.status.idle": "2021-04-19T05:47:31.585077Z",
     "shell.execute_reply": "2021-04-19T05:47:31.584033Z",
     "shell.execute_reply.started": "2021-04-19T05:47:31.578561Z"
    },
    "tags": []
   },
   "outputs": [],
   "source": [
    "grid_search = GridSearchCV(cls_rf, param_grid=rfc_params, scoring='roc_auc', n_jobs=6, cv=cv)"
   ]
  },
  {
   "cell_type": "code",
   "execution_count": 589,
   "id": "naughty-boating",
   "metadata": {
    "execution": {
     "iopub.execute_input": "2021-04-19T05:47:32.236607Z",
     "iopub.status.busy": "2021-04-19T05:47:32.236242Z",
     "iopub.status.idle": "2021-04-19T06:15:39.743050Z",
     "shell.execute_reply": "2021-04-19T06:15:39.741248Z",
     "shell.execute_reply.started": "2021-04-19T05:47:32.236574Z"
    },
    "tags": []
   },
   "outputs": [
    {
     "data": {
      "text/plain": [
       "GridSearchCV(cv=RepeatedStratifiedKFold(n_repeats=1, n_splits=10, random_state=264),\n",
       "             estimator=RandomForestClassifier(class_weight={0.0: 0.8258088428704656,\n",
       "                                                            1.0: 1.2673211009174312},\n",
       "                                              n_jobs=6, random_state=264),\n",
       "             n_jobs=6,\n",
       "             param_grid={'bootstrap': [True],\n",
       "                         'class_weight': [{0.0: 0.8258088428704656,\n",
       "                                           1.0: 1.2673211009174312}],\n",
       "                         'criterion': ['gini', 'entropy'], 'max_depth': [150],\n",
       "                         'max_features': [30], 'n_estimators': [2000],\n",
       "                         'n_jobs': [6], 'oob_score': [True],\n",
       "                         'random_state': [264]},\n",
       "             scoring='roc_auc')"
      ]
     },
     "execution_count": 589,
     "metadata": {},
     "output_type": "execute_result"
    }
   ],
   "source": [
    "grid_search.fit(x_train, np.ravel(np.array(y_train)))"
   ]
  },
  {
   "cell_type": "code",
   "execution_count": 698,
   "id": "functioning-astrology",
   "metadata": {
    "execution": {
     "iopub.execute_input": "2021-04-19T20:16:31.382336Z",
     "iopub.status.busy": "2021-04-19T20:16:31.381984Z",
     "iopub.status.idle": "2021-04-19T20:16:31.390749Z",
     "shell.execute_reply": "2021-04-19T20:16:31.389362Z",
     "shell.execute_reply.started": "2021-04-19T20:16:31.382303Z"
    },
    "tags": []
   },
   "outputs": [],
   "source": [
    "rf_best_params=grid_search.best_params_"
   ]
  },
  {
   "cell_type": "code",
   "execution_count": 204,
   "id": "after-cooler",
   "metadata": {
    "execution": {
     "iopub.execute_input": "2021-04-21T04:40:00.921378Z",
     "iopub.status.busy": "2021-04-21T04:40:00.920727Z",
     "iopub.status.idle": "2021-04-21T04:40:00.933134Z",
     "shell.execute_reply": "2021-04-21T04:40:00.932208Z",
     "shell.execute_reply.started": "2021-04-21T04:40:00.921314Z"
    },
    "tags": []
   },
   "outputs": [
    {
     "data": {
      "text/plain": [
       "['./pkl/RF_Grid_Search_best_params.pkl']"
      ]
     },
     "execution_count": 204,
     "metadata": {},
     "output_type": "execute_result"
    }
   ],
   "source": [
    "joblib.dump(rf_best_params, './pkl/RF_Grid_Search_best_params.pkl', compress=9)"
   ]
  },
  {
   "cell_type": "code",
   "execution_count": 144,
   "id": "numerous-september",
   "metadata": {
    "execution": {
     "iopub.execute_input": "2021-04-22T01:20:31.599930Z",
     "iopub.status.busy": "2021-04-22T01:20:31.599405Z",
     "iopub.status.idle": "2021-04-22T01:20:31.608550Z",
     "shell.execute_reply": "2021-04-22T01:20:31.607729Z",
     "shell.execute_reply.started": "2021-04-22T01:20:31.599847Z"
    },
    "tags": []
   },
   "outputs": [],
   "source": [
    "rf_best_params = joblib.load('./pkl/RF_Grid_Search_best_params.pkl')"
   ]
  },
  {
   "cell_type": "code",
   "execution_count": 148,
   "id": "literary-testimony",
   "metadata": {
    "execution": {
     "iopub.execute_input": "2021-04-22T01:22:49.275697Z",
     "iopub.status.busy": "2021-04-22T01:22:49.275014Z",
     "iopub.status.idle": "2021-04-22T01:22:49.283075Z",
     "shell.execute_reply": "2021-04-22T01:22:49.281940Z",
     "shell.execute_reply.started": "2021-04-22T01:22:49.275627Z"
    },
    "tags": []
   },
   "outputs": [],
   "source": [
    "cls_rf = RandomForestClassifier(**rf_best_params)"
   ]
  },
  {
   "cell_type": "code",
   "execution_count": 149,
   "id": "major-soundtrack",
   "metadata": {
    "execution": {
     "iopub.execute_input": "2021-04-22T01:22:50.170014Z",
     "iopub.status.busy": "2021-04-22T01:22:50.169344Z",
     "iopub.status.idle": "2021-04-22T01:24:23.822105Z",
     "shell.execute_reply": "2021-04-22T01:24:23.821653Z",
     "shell.execute_reply.started": "2021-04-22T01:22:50.169946Z"
    },
    "tags": []
   },
   "outputs": [],
   "source": [
    "model3_train = cls_rf.fit(x_train, y_train)"
   ]
  },
  {
   "cell_type": "code",
   "execution_count": 150,
   "id": "demonstrated-islam",
   "metadata": {
    "execution": {
     "iopub.execute_input": "2021-04-22T01:24:25.576711Z",
     "iopub.status.busy": "2021-04-22T01:24:25.576236Z",
     "iopub.status.idle": "2021-04-22T01:24:32.040982Z",
     "shell.execute_reply": "2021-04-22T01:24:32.040658Z",
     "shell.execute_reply.started": "2021-04-22T01:24:25.576618Z"
    },
    "tags": []
   },
   "outputs": [
    {
     "name": "stdout",
     "output_type": "stream",
     "text": [
      "ROC_AUC SCORE   0.7365930367018547\n",
      "ACCURACY SCORE  0.7423301336344814\n"
     ]
    }
   ],
   "source": [
    "model3_y_train_pred = model_metric(cls_rf, x_train, y_train)"
   ]
  },
  {
   "cell_type": "code",
   "execution_count": 309,
   "id": "polish-scholarship",
   "metadata": {
    "execution": {
     "iopub.execute_input": "2021-04-21T05:33:44.636974Z",
     "iopub.status.busy": "2021-04-21T05:33:44.636614Z",
     "iopub.status.idle": "2021-04-21T05:33:44.643763Z",
     "shell.execute_reply": "2021-04-21T05:33:44.642916Z",
     "shell.execute_reply.started": "2021-04-21T05:33:44.636940Z"
    }
   },
   "outputs": [
    {
     "data": {
      "text/plain": [
       "['./pkl/model3_y_train_predicted.pkl']"
      ]
     },
     "execution_count": 309,
     "metadata": {},
     "output_type": "execute_result"
    }
   ],
   "source": [
    "joblib.dump(model3_y_train_pred, './pkl/model3_y_train_predicted.pkl')"
   ]
  },
  {
   "cell_type": "markdown",
   "id": "flexible-lebanon",
   "metadata": {},
   "source": [
    "### TARGET PREDICTION"
   ]
  },
  {
   "cell_type": "code",
   "execution_count": 151,
   "id": "vocal-trinidad",
   "metadata": {
    "execution": {
     "iopub.execute_input": "2021-04-22T01:24:50.807103Z",
     "iopub.status.busy": "2021-04-22T01:24:50.806444Z",
     "iopub.status.idle": "2021-04-22T01:25:12.959396Z",
     "shell.execute_reply": "2021-04-22T01:25:12.958942Z",
     "shell.execute_reply.started": "2021-04-22T01:24:50.807034Z"
    },
    "tags": []
   },
   "outputs": [],
   "source": [
    "model3_test = cls_rf.fit(x_test, y_test)"
   ]
  },
  {
   "cell_type": "code",
   "execution_count": 307,
   "id": "violent-zoning",
   "metadata": {
    "execution": {
     "iopub.execute_input": "2021-04-21T05:29:17.826929Z",
     "iopub.status.busy": "2021-04-21T05:29:17.826531Z",
     "iopub.status.idle": "2021-04-21T05:29:19.738301Z",
     "shell.execute_reply": "2021-04-21T05:29:19.737964Z",
     "shell.execute_reply.started": "2021-04-21T05:29:17.826895Z"
    }
   },
   "outputs": [
    {
     "name": "stdout",
     "output_type": "stream",
     "text": [
      "ROC_AUC SCORE   0.7728139273851178\n",
      "ACCURACY SCORE  0.7803500846979108\n"
     ]
    }
   ],
   "source": [
    "model3_y_test_pred = model_metric(cls_rf, x_test, y_test)"
   ]
  },
  {
   "cell_type": "code",
   "execution_count": 308,
   "id": "metallic-breeding",
   "metadata": {
    "execution": {
     "iopub.execute_input": "2021-04-21T05:31:48.533702Z",
     "iopub.status.busy": "2021-04-21T05:31:48.533353Z",
     "iopub.status.idle": "2021-04-21T05:31:48.542370Z",
     "shell.execute_reply": "2021-04-21T05:31:48.541629Z",
     "shell.execute_reply.started": "2021-04-21T05:31:48.533670Z"
    }
   },
   "outputs": [
    {
     "data": {
      "text/plain": [
       "['./pkl/model3_y_test_predicted.pkl']"
      ]
     },
     "execution_count": 308,
     "metadata": {},
     "output_type": "execute_result"
    }
   ],
   "source": [
    "joblib.dump(model3_y_test_pred, './pkl/model3_y_test_predicted.pkl')"
   ]
  },
  {
   "cell_type": "code",
   "execution_count": 152,
   "id": "instrumental-greensboro",
   "metadata": {
    "execution": {
     "iopub.execute_input": "2021-04-22T01:25:38.793571Z",
     "iopub.status.busy": "2021-04-22T01:25:38.793145Z",
     "iopub.status.idle": "2021-04-22T01:25:38.980875Z",
     "shell.execute_reply": "2021-04-22T01:25:38.980486Z",
     "shell.execute_reply.started": "2021-04-22T01:25:38.793527Z"
    },
    "tags": []
   },
   "outputs": [],
   "source": [
    "Features_importance_df = pd.DataFrame({'Features': x_train.columns,\n",
    "                          'Ranking':cls_rf.feature_importances_}).sort_values(by='Ranking',ascending=False)\n",
    "\n",
    "Features_importance_df['Ranking'] = Features_importance_df['Ranking'].apply(lambda x: x*100)"
   ]
  },
  {
   "cell_type": "code",
   "execution_count": 154,
   "id": "provincial-netherlands",
   "metadata": {
    "execution": {
     "iopub.execute_input": "2021-04-22T01:27:06.145293Z",
     "iopub.status.busy": "2021-04-22T01:27:06.144946Z",
     "iopub.status.idle": "2021-04-22T01:27:06.396538Z",
     "shell.execute_reply": "2021-04-22T01:27:06.396166Z",
     "shell.execute_reply.started": "2021-04-22T01:27:06.145259Z"
    },
    "tags": []
   },
   "outputs": [
    {
     "data": {
      "image/png": "[encoded data removed]",
      "text/plain": [
       "<Figure size 720x432 with 1 Axes>"
      ]
     },
     "metadata": {
      "needs_background": "light"
     },
     "output_type": "display_data"
    }
   ],
   "source": [
    "fig, ax = plt.subplots(figsize=(10,6))\n",
    "g = sns.barplot(x='Ranking', y='Features', data=Features_importance_df.head(15))\n",
    "plt.xticks(rotation=90)\n",
    "ax.set_title(\"Top 15 Primary Contributory Car Crashes\", fontsize=15, weight='bold', ha='center', va='bottom')\n",
    "\n",
    "ax.set_xlabel('Features Percentage')\n",
    "ax.set_ylabel('Ranking')\n",
    "plt.savefig('./img/Y_primary_contributory_crashes.jpg',format=\"jpg\")\n",
    "plt.show()"
   ]
  },
  {
   "cell_type": "code",
   "execution_count": 159,
   "id": "challenging-pizza",
   "metadata": {
    "execution": {
     "iopub.execute_input": "2021-04-22T01:28:15.864004Z",
     "iopub.status.busy": "2021-04-22T01:28:15.863611Z",
     "iopub.status.idle": "2021-04-22T01:28:16.212320Z",
     "shell.execute_reply": "2021-04-22T01:28:16.211984Z",
     "shell.execute_reply.started": "2021-04-22T01:28:15.863970Z"
    },
    "tags": []
   },
   "outputs": [
    {
     "data": {
      "image/png": "[encoded data removed]",
      "text/plain": [
       "<Figure size 1080x720 with 1 Axes>"
      ]
     },
     "metadata": {},
     "output_type": "display_data"
    }
   ],
   "source": [
    "pcc = df_features.PRIM_CONTRIBUTORY_CAUSE.value_counts(normalize=True).apply(lambda x:x*100).sort_values(ascending=False)\n",
    "pcc=pcc[pcc>=2]\n",
    "\n",
    "labels = pcc.index\n",
    "sizes  = pcc.values\n",
    "explode = pcc.apply(lambda x:0.05)\n",
    "explode[0]=0.1\n",
    "# explode = pcc.apply(lambda x:0.2 if x > 20 else 0)\n",
    "plt.style.use('ggplot')\n",
    "fig1, ax1 = plt.subplots(figsize=(15,10))\n",
    "ax1.pie(x=sizes, explode=explode,\n",
    "        autopct=lambda v:'{p:.2f}%'.format(p=round(v/100*sizes.sum(),2)),\n",
    "        shadow=True,\n",
    "        startangle=180,\n",
    "        textprops={'fontsize': 15})\n",
    "ax1.axis('equal')  \n",
    "plt.legend(labels, loc='upper left', bbox_to_anchor=(1, 1), fontsize=15)\n",
    "ax1.set_title(\"PRIMARY CONTRIBUTORY CAR CRASHES\", fontsize=30, weight='bold', ha='center', va='bottom')\n",
    "plt.savefig('./img/top_15_contributory.jpg', format=\"jpg\")\n",
    "plt.show()"
   ]
  },
  {
   "cell_type": "markdown",
   "id": "sunset-plaza",
   "metadata": {},
   "source": [
    "## Interpreting Data"
   ]
  },
  {
   "cell_type": "markdown",
   "id": "vanilla-sentence",
   "metadata": {},
   "source": [
    "Based on the data, 40% of accidents in the year 2020 are \"UN ABLE TO DETERMINE\", followed by \"FAILING TO YIELD THE RIGHT-OF-WAY\" and \"FOLLOWING TO CLOSELY\" which represent 10% and 9% respectively.\n",
    "\n",
    "According to our classification model, the road accidents that seem to occur the most are caused by the speeding where the posted speed limit is 30mph.\n",
    "\n",
    "Random Forest Model predicts car crashes with 78% accuracy even dealing with a multiclass imbalanced dataset. the accuracy score between the 2 models (training model 74.23% - test model 78.03%)  are too close which indicates that we avoided over-fitting "
   ]
  }
 ],
 "metadata": {
  "kernelspec": {
   "display_name": "Python 3",
   "language": "python",
   "name": "python3"
  },
  "language_info": {
   "codemirror_mode": {
    "name": "ipython",
    "version": 3
   },
   "file_extension": ".py",
   "mimetype": "text/x-python",
   "name": "python",
   "nbconvert_exporter": "python",
   "pygments_lexer": "ipython3",
   "version": "3.8.8"
  }
 },
 "nbformat": 4,
 "nbformat_minor": 5
}
