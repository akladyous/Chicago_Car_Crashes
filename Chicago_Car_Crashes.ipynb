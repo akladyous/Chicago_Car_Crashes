{
 "cells": [
  {
   "cell_type": "code",
   "execution_count": 170,
   "id": "grateful-employment",
   "metadata": {
    "execution": {
     "iopub.execute_input": "2021-04-13T21:00:50.557990Z",
     "iopub.status.busy": "2021-04-13T21:00:50.557424Z",
     "iopub.status.idle": "2021-04-13T21:00:50.623275Z",
     "shell.execute_reply": "2021-04-13T21:00:50.622351Z",
     "shell.execute_reply.started": "2021-04-13T21:00:50.557955Z"
    },
    "tags": []
   },
   "outputs": [],
   "source": [
    "import numpy as np\n",
    "import pandas as pd\n",
    "import matplotlib.pyplot as plt\n",
    "import seaborn as sns\n",
    "from imblearn.over_sampling import SMOTEN\n",
    "\n",
    "from sklearn.base import BaseEstimator, TransformerMixin\n",
    "from sklearn.impute import SimpleImputer\n",
    "from sklearn.preprocessing import FunctionTransformer, OneHotEncoder, LabelEncoder\n",
    "from sklearn.utils.class_weight import compute_class_weight\n",
    "\n",
    "from sklearn.model_selection import train_test_split, GridSearchCV, cross_val_score, RepeatedStratifiedKFold\n",
    "\n",
    "from sklearn.tree import DecisionTreeClassifier\n",
    "from sklearn.ensemble import BaggingClassifier, RandomForestClassifier,StackingClassifier,GradientBoostingClassifier\n",
    "\n",
    "from sklearn.naive_bayes import GaussianNB\n",
    "from sklearn.neighbors import KNeighborsClassifier\n",
    "\n",
    "from sklearn.metrics import (confusion_matrix, plot_confusion_matrix,classification_report,\n",
    "                             accuracy_score, roc_auc_score)\n",
    "import sys\n",
    "# sys.path.insert(0, './lib/')\n",
    "# from Chicago_Car_Crashes import Dframe, ColumnSelectorTransformer, DateTransformer, SpeedTransformer, y_classes\n",
    "#del sys.modules['Chicago_Car_Crashes']\n",
    "%run './lib/Chicago_Car_Crashes.py'\n",
    "\n",
    "# np.seterr(divide = 'ignore') "
   ]
  },
  {
   "cell_type": "markdown",
   "id": "attached-arabic",
   "metadata": {},
   "source": [
    "## DATA COLLECTION"
   ]
  },
  {
   "cell_type": "code",
   "execution_count": 33,
   "id": "coordinated-gathering",
   "metadata": {
    "execution": {
     "iopub.execute_input": "2021-04-13T20:06:15.050752Z",
     "iopub.status.busy": "2021-04-13T20:06:15.050389Z",
     "iopub.status.idle": "2021-04-13T20:06:19.233184Z",
     "shell.execute_reply": "2021-04-13T20:06:19.232844Z",
     "shell.execute_reply.started": "2021-04-13T20:06:15.050719Z"
    },
    "tags": []
   },
   "outputs": [
    {
     "data": {
      "text/plain": [
       "(490128, 50)"
      ]
     },
     "execution_count": 33,
     "metadata": {},
     "output_type": "execute_result"
    }
   ],
   "source": [
    "crashes = pd.read_csv('./data/Traffic_Crashes_-_Crashes.csv.gz')\n",
    "crashes.shape"
   ]
  },
  {
   "cell_type": "markdown",
   "id": "adolescent-greeting",
   "metadata": {},
   "source": [
    "the dataset contains 490,128 rows and 49 columns"
   ]
  },
  {
   "cell_type": "code",
   "execution_count": 34,
   "id": "violent-profile",
   "metadata": {
    "execution": {
     "iopub.execute_input": "2021-04-13T20:06:19.234125Z",
     "iopub.status.busy": "2021-04-13T20:06:19.234034Z",
     "iopub.status.idle": "2021-04-13T20:06:48.284395Z",
     "shell.execute_reply": "2021-04-13T20:06:48.284065Z",
     "shell.execute_reply.started": "2021-04-13T20:06:19.234113Z"
    },
    "tags": []
   },
   "outputs": [],
   "source": [
    "crashes.CRASH_DATE = pd.to_datetime(crashes.CRASH_DATE)\n",
    "\n",
    "df = crashes[(crashes.CRASH_DATE.dt.year == 2020)].drop('Unnamed: 0', axis=1).copy()\n",
    "\n",
    "df.to_csv('./data/Chicago_Traffic_Crashes_2019_2020.csv.gz',index=False, compression='gzip')"
   ]
  },
  {
   "cell_type": "code",
   "execution_count": 35,
   "id": "coupled-paragraph",
   "metadata": {
    "execution": {
     "iopub.execute_input": "2021-04-13T20:06:48.285382Z",
     "iopub.status.busy": "2021-04-13T20:06:48.285285Z",
     "iopub.status.idle": "2021-04-13T20:06:49.330991Z",
     "shell.execute_reply": "2021-04-13T20:06:49.330588Z",
     "shell.execute_reply.started": "2021-04-13T20:06:48.285370Z"
    },
    "tags": []
   },
   "outputs": [],
   "source": [
    "df = pd.read_csv('./data/Chicago_Traffic_Crashes_2019_2020.csv.gz', low_memory=False)"
   ]
  },
  {
   "cell_type": "markdown",
   "id": "liked-bosnia",
   "metadata": {
    "tags": []
   },
   "source": [
    "####  DESCRIPTIVE STATISTICS"
   ]
  },
  {
   "cell_type": "code",
   "execution_count": 36,
   "id": "affected-chess",
   "metadata": {
    "execution": {
     "iopub.execute_input": "2021-04-13T20:06:51.409691Z",
     "iopub.status.busy": "2021-04-13T20:06:51.409055Z",
     "iopub.status.idle": "2021-04-13T20:06:51.444213Z",
     "shell.execute_reply": "2021-04-13T20:06:51.442965Z",
     "shell.execute_reply.started": "2021-04-13T20:06:51.409623Z"
    },
    "tags": []
   },
   "outputs": [
    {
     "data": {
      "text/html": [
       "<div>\n",
       "<style scoped>\n",
       "    .dataframe tbody tr th:only-of-type {\n",
       "        vertical-align: middle;\n",
       "    }\n",
       "\n",
       "    .dataframe tbody tr th {\n",
       "        vertical-align: top;\n",
       "    }\n",
       "\n",
       "    .dataframe thead th {\n",
       "        text-align: right;\n",
       "    }\n",
       "</style>\n",
       "<table border=\"1\" class=\"dataframe\">\n",
       "  <thead>\n",
       "    <tr style=\"text-align: right;\">\n",
       "      <th></th>\n",
       "      <th>CRASH_RECORD_ID</th>\n",
       "      <th>RD_NO</th>\n",
       "      <th>CRASH_DATE_EST_I</th>\n",
       "      <th>CRASH_DATE</th>\n",
       "      <th>POSTED_SPEED_LIMIT</th>\n",
       "      <th>TRAFFIC_CONTROL_DEVICE</th>\n",
       "      <th>DEVICE_CONDITION</th>\n",
       "      <th>WEATHER_CONDITION</th>\n",
       "      <th>LIGHTING_CONDITION</th>\n",
       "      <th>FIRST_CRASH_TYPE</th>\n",
       "      <th>...</th>\n",
       "      <th>INJURIES_NON_INCAPACITATING</th>\n",
       "      <th>INJURIES_REPORTED_NOT_EVIDENT</th>\n",
       "      <th>INJURIES_NO_INDICATION</th>\n",
       "      <th>INJURIES_UNKNOWN</th>\n",
       "      <th>CRASH_HOUR</th>\n",
       "      <th>CRASH_DAY_OF_WEEK</th>\n",
       "      <th>CRASH_MONTH</th>\n",
       "      <th>LATITUDE</th>\n",
       "      <th>LONGITUDE</th>\n",
       "      <th>LOCATION</th>\n",
       "    </tr>\n",
       "  </thead>\n",
       "  <tbody>\n",
       "    <tr>\n",
       "      <th>0</th>\n",
       "      <td>ee9283eff3a55ac50ee58f3d9528ce1d689b1c4180b4c4...</td>\n",
       "      <td>JD292400</td>\n",
       "      <td>NaN</td>\n",
       "      <td>2020-07-10 10:25:00</td>\n",
       "      <td>30</td>\n",
       "      <td>TRAFFIC SIGNAL</td>\n",
       "      <td>FUNCTIONING PROPERLY</td>\n",
       "      <td>CLEAR</td>\n",
       "      <td>DAYLIGHT</td>\n",
       "      <td>REAR END</td>\n",
       "      <td>...</td>\n",
       "      <td>0.0</td>\n",
       "      <td>0.0</td>\n",
       "      <td>3.0</td>\n",
       "      <td>0.0</td>\n",
       "      <td>10</td>\n",
       "      <td>6</td>\n",
       "      <td>7</td>\n",
       "      <td>41.773456</td>\n",
       "      <td>-87.585022</td>\n",
       "      <td>POINT (-87.585022352022 41.773455972008)</td>\n",
       "    </tr>\n",
       "    <tr>\n",
       "      <th>1</th>\n",
       "      <td>f8960f698e870ebdc60b521b2a141a5395556bc3704191...</td>\n",
       "      <td>JD293602</td>\n",
       "      <td>NaN</td>\n",
       "      <td>2020-07-11 01:00:00</td>\n",
       "      <td>30</td>\n",
       "      <td>NO CONTROLS</td>\n",
       "      <td>NO CONTROLS</td>\n",
       "      <td>CLEAR</td>\n",
       "      <td>DARKNESS</td>\n",
       "      <td>PARKED MOTOR VEHICLE</td>\n",
       "      <td>...</td>\n",
       "      <td>0.0</td>\n",
       "      <td>0.0</td>\n",
       "      <td>3.0</td>\n",
       "      <td>0.0</td>\n",
       "      <td>1</td>\n",
       "      <td>7</td>\n",
       "      <td>7</td>\n",
       "      <td>41.802119</td>\n",
       "      <td>-87.622115</td>\n",
       "      <td>POINT (-87.622114914961 41.802118543011)</td>\n",
       "    </tr>\n",
       "    <tr>\n",
       "      <th>2</th>\n",
       "      <td>8eaa2678d1a127804ee9b8c35ddf7d63d913c14eda61d6...</td>\n",
       "      <td>JD290451</td>\n",
       "      <td>NaN</td>\n",
       "      <td>2020-07-08 14:00:00</td>\n",
       "      <td>20</td>\n",
       "      <td>NO CONTROLS</td>\n",
       "      <td>NO CONTROLS</td>\n",
       "      <td>CLEAR</td>\n",
       "      <td>DAYLIGHT</td>\n",
       "      <td>PARKED MOTOR VEHICLE</td>\n",
       "      <td>...</td>\n",
       "      <td>0.0</td>\n",
       "      <td>0.0</td>\n",
       "      <td>1.0</td>\n",
       "      <td>0.0</td>\n",
       "      <td>14</td>\n",
       "      <td>4</td>\n",
       "      <td>7</td>\n",
       "      <td>NaN</td>\n",
       "      <td>NaN</td>\n",
       "      <td>NaN</td>\n",
       "    </tr>\n",
       "    <tr>\n",
       "      <th>3</th>\n",
       "      <td>f636d4a51a88015ac89031159b1f1952b8d92e49d11aeb...</td>\n",
       "      <td>JD293237</td>\n",
       "      <td>NaN</td>\n",
       "      <td>2020-07-10 22:20:00</td>\n",
       "      <td>30</td>\n",
       "      <td>NO CONTROLS</td>\n",
       "      <td>NO CONTROLS</td>\n",
       "      <td>CLEAR</td>\n",
       "      <td>DARKNESS, LIGHTED ROAD</td>\n",
       "      <td>SIDESWIPE OPPOSITE DIRECTION</td>\n",
       "      <td>...</td>\n",
       "      <td>1.0</td>\n",
       "      <td>0.0</td>\n",
       "      <td>1.0</td>\n",
       "      <td>0.0</td>\n",
       "      <td>22</td>\n",
       "      <td>6</td>\n",
       "      <td>7</td>\n",
       "      <td>41.880386</td>\n",
       "      <td>-87.725807</td>\n",
       "      <td>POINT (-87.725807044026 41.880385884998)</td>\n",
       "    </tr>\n",
       "    <tr>\n",
       "      <th>4</th>\n",
       "      <td>76aabcf7c2219a5c90259c96fe94b33834ddb53e0dbcd3...</td>\n",
       "      <td>JD291826</td>\n",
       "      <td>NaN</td>\n",
       "      <td>2020-07-09 17:06:00</td>\n",
       "      <td>10</td>\n",
       "      <td>NO CONTROLS</td>\n",
       "      <td>NO CONTROLS</td>\n",
       "      <td>CLEAR</td>\n",
       "      <td>DAYLIGHT</td>\n",
       "      <td>PARKED MOTOR VEHICLE</td>\n",
       "      <td>...</td>\n",
       "      <td>0.0</td>\n",
       "      <td>0.0</td>\n",
       "      <td>1.0</td>\n",
       "      <td>0.0</td>\n",
       "      <td>17</td>\n",
       "      <td>5</td>\n",
       "      <td>7</td>\n",
       "      <td>NaN</td>\n",
       "      <td>NaN</td>\n",
       "      <td>NaN</td>\n",
       "    </tr>\n",
       "  </tbody>\n",
       "</table>\n",
       "<p>5 rows × 49 columns</p>\n",
       "</div>"
      ],
      "text/plain": [
       "                                     CRASH_RECORD_ID     RD_NO  \\\n",
       "0  ee9283eff3a55ac50ee58f3d9528ce1d689b1c4180b4c4...  JD292400   \n",
       "1  f8960f698e870ebdc60b521b2a141a5395556bc3704191...  JD293602   \n",
       "2  8eaa2678d1a127804ee9b8c35ddf7d63d913c14eda61d6...  JD290451   \n",
       "3  f636d4a51a88015ac89031159b1f1952b8d92e49d11aeb...  JD293237   \n",
       "4  76aabcf7c2219a5c90259c96fe94b33834ddb53e0dbcd3...  JD291826   \n",
       "\n",
       "  CRASH_DATE_EST_I           CRASH_DATE  POSTED_SPEED_LIMIT  \\\n",
       "0              NaN  2020-07-10 10:25:00                  30   \n",
       "1              NaN  2020-07-11 01:00:00                  30   \n",
       "2              NaN  2020-07-08 14:00:00                  20   \n",
       "3              NaN  2020-07-10 22:20:00                  30   \n",
       "4              NaN  2020-07-09 17:06:00                  10   \n",
       "\n",
       "  TRAFFIC_CONTROL_DEVICE      DEVICE_CONDITION WEATHER_CONDITION  \\\n",
       "0         TRAFFIC SIGNAL  FUNCTIONING PROPERLY             CLEAR   \n",
       "1            NO CONTROLS           NO CONTROLS             CLEAR   \n",
       "2            NO CONTROLS           NO CONTROLS             CLEAR   \n",
       "3            NO CONTROLS           NO CONTROLS             CLEAR   \n",
       "4            NO CONTROLS           NO CONTROLS             CLEAR   \n",
       "\n",
       "       LIGHTING_CONDITION              FIRST_CRASH_TYPE  ...  \\\n",
       "0                DAYLIGHT                      REAR END  ...   \n",
       "1                DARKNESS          PARKED MOTOR VEHICLE  ...   \n",
       "2                DAYLIGHT          PARKED MOTOR VEHICLE  ...   \n",
       "3  DARKNESS, LIGHTED ROAD  SIDESWIPE OPPOSITE DIRECTION  ...   \n",
       "4                DAYLIGHT          PARKED MOTOR VEHICLE  ...   \n",
       "\n",
       "  INJURIES_NON_INCAPACITATING  INJURIES_REPORTED_NOT_EVIDENT  \\\n",
       "0                         0.0                            0.0   \n",
       "1                         0.0                            0.0   \n",
       "2                         0.0                            0.0   \n",
       "3                         1.0                            0.0   \n",
       "4                         0.0                            0.0   \n",
       "\n",
       "  INJURIES_NO_INDICATION INJURIES_UNKNOWN CRASH_HOUR CRASH_DAY_OF_WEEK  \\\n",
       "0                    3.0              0.0         10                 6   \n",
       "1                    3.0              0.0          1                 7   \n",
       "2                    1.0              0.0         14                 4   \n",
       "3                    1.0              0.0         22                 6   \n",
       "4                    1.0              0.0         17                 5   \n",
       "\n",
       "  CRASH_MONTH   LATITUDE  LONGITUDE                                  LOCATION  \n",
       "0           7  41.773456 -87.585022  POINT (-87.585022352022 41.773455972008)  \n",
       "1           7  41.802119 -87.622115  POINT (-87.622114914961 41.802118543011)  \n",
       "2           7        NaN        NaN                                       NaN  \n",
       "3           7  41.880386 -87.725807  POINT (-87.725807044026 41.880385884998)  \n",
       "4           7        NaN        NaN                                       NaN  \n",
       "\n",
       "[5 rows x 49 columns]"
      ]
     },
     "execution_count": 36,
     "metadata": {},
     "output_type": "execute_result"
    }
   ],
   "source": [
    "df.head()"
   ]
  },
  {
   "cell_type": "code",
   "execution_count": 37,
   "id": "sudden-debate",
   "metadata": {
    "execution": {
     "iopub.execute_input": "2021-04-13T20:06:54.347731Z",
     "iopub.status.busy": "2021-04-13T20:06:54.347003Z",
     "iopub.status.idle": "2021-04-13T20:06:54.437865Z",
     "shell.execute_reply": "2021-04-13T20:06:54.437507Z",
     "shell.execute_reply.started": "2021-04-13T20:06:54.347667Z"
    },
    "tags": []
   },
   "outputs": [
    {
     "data": {
      "text/html": [
       "<div>\n",
       "<style scoped>\n",
       "    .dataframe tbody tr th:only-of-type {\n",
       "        vertical-align: middle;\n",
       "    }\n",
       "\n",
       "    .dataframe tbody tr th {\n",
       "        vertical-align: top;\n",
       "    }\n",
       "\n",
       "    .dataframe thead th {\n",
       "        text-align: right;\n",
       "    }\n",
       "</style>\n",
       "<table border=\"1\" class=\"dataframe\">\n",
       "  <thead>\n",
       "    <tr style=\"text-align: right;\">\n",
       "      <th></th>\n",
       "      <th>POSTED_SPEED_LIMIT</th>\n",
       "      <th>LANE_CNT</th>\n",
       "      <th>STREET_NO</th>\n",
       "      <th>BEAT_OF_OCCURRENCE</th>\n",
       "      <th>NUM_UNITS</th>\n",
       "      <th>INJURIES_TOTAL</th>\n",
       "      <th>INJURIES_FATAL</th>\n",
       "      <th>INJURIES_INCAPACITATING</th>\n",
       "      <th>INJURIES_NON_INCAPACITATING</th>\n",
       "      <th>INJURIES_REPORTED_NOT_EVIDENT</th>\n",
       "      <th>INJURIES_NO_INDICATION</th>\n",
       "      <th>INJURIES_UNKNOWN</th>\n",
       "      <th>CRASH_HOUR</th>\n",
       "      <th>CRASH_DAY_OF_WEEK</th>\n",
       "      <th>CRASH_MONTH</th>\n",
       "      <th>LATITUDE</th>\n",
       "      <th>LONGITUDE</th>\n",
       "    </tr>\n",
       "  </thead>\n",
       "  <tbody>\n",
       "    <tr>\n",
       "      <th>count</th>\n",
       "      <td>92092.000000</td>\n",
       "      <td>12.000000</td>\n",
       "      <td>92092.000000</td>\n",
       "      <td>92092.000000</td>\n",
       "      <td>92092.00000</td>\n",
       "      <td>91858.000000</td>\n",
       "      <td>91858.000000</td>\n",
       "      <td>91858.000000</td>\n",
       "      <td>91858.000000</td>\n",
       "      <td>91858.00000</td>\n",
       "      <td>91858.000000</td>\n",
       "      <td>91858.0</td>\n",
       "      <td>92092.000000</td>\n",
       "      <td>92092.000000</td>\n",
       "      <td>92092.000000</td>\n",
       "      <td>91504.000000</td>\n",
       "      <td>91504.000000</td>\n",
       "    </tr>\n",
       "    <tr>\n",
       "      <th>mean</th>\n",
       "      <td>28.532793</td>\n",
       "      <td>2.250000</td>\n",
       "      <td>3860.405985</td>\n",
       "      <td>1216.832732</td>\n",
       "      <td>2.04831</td>\n",
       "      <td>0.215060</td>\n",
       "      <td>0.001698</td>\n",
       "      <td>0.024407</td>\n",
       "      <td>0.124714</td>\n",
       "      <td>0.06424</td>\n",
       "      <td>1.949563</td>\n",
       "      <td>0.0</td>\n",
       "      <td>13.411730</td>\n",
       "      <td>4.150513</td>\n",
       "      <td>6.533076</td>\n",
       "      <td>41.847012</td>\n",
       "      <td>-87.675642</td>\n",
       "    </tr>\n",
       "    <tr>\n",
       "      <th>std</th>\n",
       "      <td>5.761715</td>\n",
       "      <td>0.965307</td>\n",
       "      <td>2905.455298</td>\n",
       "      <td>697.276831</td>\n",
       "      <td>0.50948</td>\n",
       "      <td>0.600362</td>\n",
       "      <td>0.044480</td>\n",
       "      <td>0.182377</td>\n",
       "      <td>0.458035</td>\n",
       "      <td>0.32037</td>\n",
       "      <td>1.123697</td>\n",
       "      <td>0.0</td>\n",
       "      <td>5.635321</td>\n",
       "      <td>1.992724</td>\n",
       "      <td>3.469571</td>\n",
       "      <td>0.290151</td>\n",
       "      <td>0.582834</td>\n",
       "    </tr>\n",
       "    <tr>\n",
       "      <th>min</th>\n",
       "      <td>0.000000</td>\n",
       "      <td>1.000000</td>\n",
       "      <td>0.000000</td>\n",
       "      <td>111.000000</td>\n",
       "      <td>1.00000</td>\n",
       "      <td>0.000000</td>\n",
       "      <td>0.000000</td>\n",
       "      <td>0.000000</td>\n",
       "      <td>0.000000</td>\n",
       "      <td>0.00000</td>\n",
       "      <td>0.000000</td>\n",
       "      <td>0.0</td>\n",
       "      <td>0.000000</td>\n",
       "      <td>1.000000</td>\n",
       "      <td>1.000000</td>\n",
       "      <td>0.000000</td>\n",
       "      <td>-87.934763</td>\n",
       "    </tr>\n",
       "    <tr>\n",
       "      <th>25%</th>\n",
       "      <td>30.000000</td>\n",
       "      <td>2.000000</td>\n",
       "      <td>1401.000000</td>\n",
       "      <td>633.000000</td>\n",
       "      <td>2.00000</td>\n",
       "      <td>0.000000</td>\n",
       "      <td>0.000000</td>\n",
       "      <td>0.000000</td>\n",
       "      <td>0.000000</td>\n",
       "      <td>0.00000</td>\n",
       "      <td>1.000000</td>\n",
       "      <td>0.0</td>\n",
       "      <td>10.000000</td>\n",
       "      <td>2.000000</td>\n",
       "      <td>3.000000</td>\n",
       "      <td>41.773154</td>\n",
       "      <td>-87.723524</td>\n",
       "    </tr>\n",
       "    <tr>\n",
       "      <th>50%</th>\n",
       "      <td>30.000000</td>\n",
       "      <td>2.000000</td>\n",
       "      <td>3407.000000</td>\n",
       "      <td>1121.000000</td>\n",
       "      <td>2.00000</td>\n",
       "      <td>0.000000</td>\n",
       "      <td>0.000000</td>\n",
       "      <td>0.000000</td>\n",
       "      <td>0.000000</td>\n",
       "      <td>0.00000</td>\n",
       "      <td>2.000000</td>\n",
       "      <td>0.0</td>\n",
       "      <td>14.000000</td>\n",
       "      <td>4.000000</td>\n",
       "      <td>7.000000</td>\n",
       "      <td>41.865686</td>\n",
       "      <td>-87.676296</td>\n",
       "    </tr>\n",
       "    <tr>\n",
       "      <th>75%</th>\n",
       "      <td>30.000000</td>\n",
       "      <td>2.250000</td>\n",
       "      <td>5749.000000</td>\n",
       "      <td>1731.000000</td>\n",
       "      <td>2.00000</td>\n",
       "      <td>0.000000</td>\n",
       "      <td>0.000000</td>\n",
       "      <td>0.000000</td>\n",
       "      <td>0.000000</td>\n",
       "      <td>0.00000</td>\n",
       "      <td>2.000000</td>\n",
       "      <td>0.0</td>\n",
       "      <td>17.000000</td>\n",
       "      <td>6.000000</td>\n",
       "      <td>9.000000</td>\n",
       "      <td>41.917273</td>\n",
       "      <td>-87.633251</td>\n",
       "    </tr>\n",
       "    <tr>\n",
       "      <th>max</th>\n",
       "      <td>70.000000</td>\n",
       "      <td>4.000000</td>\n",
       "      <td>13799.000000</td>\n",
       "      <td>6100.000000</td>\n",
       "      <td>15.00000</td>\n",
       "      <td>19.000000</td>\n",
       "      <td>3.000000</td>\n",
       "      <td>6.000000</td>\n",
       "      <td>18.000000</td>\n",
       "      <td>11.00000</td>\n",
       "      <td>37.000000</td>\n",
       "      <td>0.0</td>\n",
       "      <td>23.000000</td>\n",
       "      <td>7.000000</td>\n",
       "      <td>12.000000</td>\n",
       "      <td>42.022780</td>\n",
       "      <td>0.000000</td>\n",
       "    </tr>\n",
       "  </tbody>\n",
       "</table>\n",
       "</div>"
      ],
      "text/plain": [
       "       POSTED_SPEED_LIMIT   LANE_CNT     STREET_NO  BEAT_OF_OCCURRENCE  \\\n",
       "count        92092.000000  12.000000  92092.000000        92092.000000   \n",
       "mean            28.532793   2.250000   3860.405985         1216.832732   \n",
       "std              5.761715   0.965307   2905.455298          697.276831   \n",
       "min              0.000000   1.000000      0.000000          111.000000   \n",
       "25%             30.000000   2.000000   1401.000000          633.000000   \n",
       "50%             30.000000   2.000000   3407.000000         1121.000000   \n",
       "75%             30.000000   2.250000   5749.000000         1731.000000   \n",
       "max             70.000000   4.000000  13799.000000         6100.000000   \n",
       "\n",
       "         NUM_UNITS  INJURIES_TOTAL  INJURIES_FATAL  INJURIES_INCAPACITATING  \\\n",
       "count  92092.00000    91858.000000    91858.000000             91858.000000   \n",
       "mean       2.04831        0.215060        0.001698                 0.024407   \n",
       "std        0.50948        0.600362        0.044480                 0.182377   \n",
       "min        1.00000        0.000000        0.000000                 0.000000   \n",
       "25%        2.00000        0.000000        0.000000                 0.000000   \n",
       "50%        2.00000        0.000000        0.000000                 0.000000   \n",
       "75%        2.00000        0.000000        0.000000                 0.000000   \n",
       "max       15.00000       19.000000        3.000000                 6.000000   \n",
       "\n",
       "       INJURIES_NON_INCAPACITATING  INJURIES_REPORTED_NOT_EVIDENT  \\\n",
       "count                 91858.000000                    91858.00000   \n",
       "mean                      0.124714                        0.06424   \n",
       "std                       0.458035                        0.32037   \n",
       "min                       0.000000                        0.00000   \n",
       "25%                       0.000000                        0.00000   \n",
       "50%                       0.000000                        0.00000   \n",
       "75%                       0.000000                        0.00000   \n",
       "max                      18.000000                       11.00000   \n",
       "\n",
       "       INJURIES_NO_INDICATION  INJURIES_UNKNOWN    CRASH_HOUR  \\\n",
       "count            91858.000000           91858.0  92092.000000   \n",
       "mean                 1.949563               0.0     13.411730   \n",
       "std                  1.123697               0.0      5.635321   \n",
       "min                  0.000000               0.0      0.000000   \n",
       "25%                  1.000000               0.0     10.000000   \n",
       "50%                  2.000000               0.0     14.000000   \n",
       "75%                  2.000000               0.0     17.000000   \n",
       "max                 37.000000               0.0     23.000000   \n",
       "\n",
       "       CRASH_DAY_OF_WEEK   CRASH_MONTH      LATITUDE     LONGITUDE  \n",
       "count       92092.000000  92092.000000  91504.000000  91504.000000  \n",
       "mean            4.150513      6.533076     41.847012    -87.675642  \n",
       "std             1.992724      3.469571      0.290151      0.582834  \n",
       "min             1.000000      1.000000      0.000000    -87.934763  \n",
       "25%             2.000000      3.000000     41.773154    -87.723524  \n",
       "50%             4.000000      7.000000     41.865686    -87.676296  \n",
       "75%             6.000000      9.000000     41.917273    -87.633251  \n",
       "max             7.000000     12.000000     42.022780      0.000000  "
      ]
     },
     "execution_count": 37,
     "metadata": {},
     "output_type": "execute_result"
    }
   ],
   "source": [
    "df.describe()"
   ]
  },
  {
   "cell_type": "markdown",
   "id": "elect-finding",
   "metadata": {},
   "source": [
    "## DATA SCRUBBING"
   ]
  },
  {
   "cell_type": "markdown",
   "id": "clear-newman",
   "metadata": {},
   "source": [
    "prima di inziare ad esplorare i dati dobbiamo individuare le variable da escludere in particolare quelli con i dati mancanti e quelli che hanno poca rilevanza per il nostro modello.\n"
   ]
  },
  {
   "cell_type": "code",
   "execution_count": 38,
   "id": "alive-trace",
   "metadata": {
    "execution": {
     "iopub.execute_input": "2021-04-13T20:07:00.187241Z",
     "iopub.status.busy": "2021-04-13T20:07:00.186584Z",
     "iopub.status.idle": "2021-04-13T20:07:00.194006Z",
     "shell.execute_reply": "2021-04-13T20:07:00.192444Z",
     "shell.execute_reply.started": "2021-04-13T20:07:00.187173Z"
    },
    "tags": []
   },
   "outputs": [],
   "source": [
    "dfi = Dframe(df)"
   ]
  },
  {
   "cell_type": "code",
   "execution_count": 39,
   "id": "secret-prisoner",
   "metadata": {
    "execution": {
     "iopub.execute_input": "2021-04-13T20:07:00.596302Z",
     "iopub.status.busy": "2021-04-13T20:07:00.595773Z",
     "iopub.status.idle": "2021-04-13T20:07:00.894783Z",
     "shell.execute_reply": "2021-04-13T20:07:00.894405Z",
     "shell.execute_reply.started": "2021-04-13T20:07:00.596252Z"
    },
    "tags": []
   },
   "outputs": [
    {
     "name": "stdout",
     "output_type": "stream",
     "text": [
      "Data Entries                       92092\n",
      "Data Columns                       49\n",
      "DataFrame items                    4,512,508\n",
      "DataFrame Null                     948953  Null values\n",
      "DataFrame contain                  21.03% Null Values \n",
      "\n",
      " #   Column                        Null Count &  Percent   Dtype\n",
      "---  ------                        ---------------------   -------\n",
      "0    CRASH_RECORD_ID               0                   0.00    % object\n",
      "1    RD_NO                         0                   0.00    % object\n",
      "2    CRASH_DATE_EST_I              85,157              92.47   % object\n",
      "3    CRASH_DATE                    0                   0.00    % object\n",
      "4    POSTED_SPEED_LIMIT            0                   0.00    % int64\n",
      "5    TRAFFIC_CONTROL_DEVICE        0                   0.00    % object\n",
      "6    DEVICE_CONDITION              0                   0.00    % object\n",
      "7    WEATHER_CONDITION             0                   0.00    % object\n",
      "8    LIGHTING_CONDITION            0                   0.00    % object\n",
      "9    FIRST_CRASH_TYPE              0                   0.00    % object\n",
      "10   TRAFFICWAY_TYPE               0                   0.00    % object\n",
      "11   LANE_CNT                      92,080              99.99   % float64\n",
      "12   ALIGNMENT                     0                   0.00    % object\n",
      "13   ROADWAY_SURFACE_COND          0                   0.00    % object\n",
      "14   ROAD_DEFECT                   0                   0.00    % object\n",
      "15   REPORT_TYPE                   2,623               2.85    % object\n",
      "16   CRASH_TYPE                    0                   0.00    % object\n",
      "17   INTERSECTION_RELATED_I        69,300              75.25   % object\n",
      "18   NOT_RIGHT_OF_WAY_I            87,489              95.00   % object\n",
      "19   HIT_AND_RUN_I                 60,165              65.33   % object\n",
      "20   DAMAGE                        0                   0.00    % object\n",
      "21   DATE_POLICE_NOTIFIED          0                   0.00    % object\n",
      "22   PRIM_CONTRIBUTORY_CAUSE       0                   0.00    % object\n",
      "23   SEC_CONTRIBUTORY_CAUSE        0                   0.00    % object\n",
      "24   STREET_NO                     0                   0.00    % int64\n",
      "25   STREET_DIRECTION              0                   0.00    % object\n",
      "26   STREET_NAME                   0                   0.00    % object\n",
      "27   BEAT_OF_OCCURRENCE            0                   0.00    % float64\n",
      "28   PHOTOS_TAKEN_I                90,961              98.77   % object\n",
      "29   STATEMENTS_TAKEN_I            90,310              98.06   % object\n",
      "30   DOORING_I                     91,834              99.72   % object\n",
      "31   WORK_ZONE_I                   91,662              99.53   % object\n",
      "32   WORK_ZONE_TYPE                91,760              99.64   % object\n",
      "33   WORKERS_PRESENT_I             91,975              99.87   % object\n",
      "34   NUM_UNITS                     0                   0.00    % int64\n",
      "35   MOST_SEVERE_INJURY            235                 0.26    % object\n",
      "36   INJURIES_TOTAL                234                 0.25    % float64\n",
      "37   INJURIES_FATAL                234                 0.25    % float64\n",
      "38   INJURIES_INCAPACITATING       234                 0.25    % float64\n",
      "39   INJURIES_NON_INCAPACITATING   234                 0.25    % float64\n",
      "40   INJURIES_REPORTED_NOT_EVIDENT 234                 0.25    % float64\n",
      "41   INJURIES_NO_INDICATION        234                 0.25    % float64\n",
      "42   INJURIES_UNKNOWN              234                 0.25    % float64\n",
      "43   CRASH_HOUR                    0                   0.00    % int64\n",
      "44   CRASH_DAY_OF_WEEK             0                   0.00    % int64\n",
      "45   CRASH_MONTH                   0                   0.00    % int64\n",
      "46   LATITUDE                      588                 0.64    % float64\n",
      "47   LONGITUDE                     588                 0.64    % float64\n",
      "48   LOCATION                      588                 0.64    % object\n"
     ]
    }
   ],
   "source": [
    "dfi.df_info()"
   ]
  },
  {
   "cell_type": "code",
   "execution_count": 42,
   "id": "raised-bottle",
   "metadata": {
    "execution": {
     "iopub.execute_input": "2021-04-13T20:07:37.789986Z",
     "iopub.status.busy": "2021-04-13T20:07:37.789486Z",
     "iopub.status.idle": "2021-04-13T20:07:37.797384Z",
     "shell.execute_reply": "2021-04-13T20:07:37.795926Z",
     "shell.execute_reply.started": "2021-04-13T20:07:37.789936Z"
    },
    "tags": []
   },
   "outputs": [],
   "source": [
    "to_drop_cols    = set()\n",
    "excluded_cols   = set()\n",
    "category_cols   = set()\n",
    "encoding_cols   = set()\n",
    "features_cols   = set()\n",
    "statistic_cols  = set()"
   ]
  },
  {
   "cell_type": "code",
   "execution_count": 43,
   "id": "thousand-questionnaire",
   "metadata": {
    "execution": {
     "iopub.execute_input": "2021-04-13T20:07:38.322527Z",
     "iopub.status.busy": "2021-04-13T20:07:38.321906Z",
     "iopub.status.idle": "2021-04-13T20:07:38.330464Z",
     "shell.execute_reply": "2021-04-13T20:07:38.328988Z",
     "shell.execute_reply.started": "2021-04-13T20:07:38.322460Z"
    },
    "tags": []
   },
   "outputs": [],
   "source": [
    "excluded_cols.update([\n",
    "    'Unnamed: 0','Unnamed: 0.1','CRASH_RECORD_ID','RD_NO','CRASH_DATE_EST_I','LANE_CNT',\n",
    "    'REPORT_TYPE','DAMAGE','PHOTOS_TAKEN_I','STATEMENTS_TAKEN_I','LOCATION',\n",
    "    'WORK_ZONE_TYPE', 'BEAT_OF_OCCURRENCE', 'DATE_POLICE_NOTIFIED', 'CRASH_TYPE', 'SEC_CONTRIBUTORY_CAUSE'])\n",
    "# df.drop(labels=cols_to_drop, axis=1, inplace=True)"
   ]
  },
  {
   "cell_type": "code",
   "execution_count": 44,
   "id": "domestic-trout",
   "metadata": {
    "execution": {
     "iopub.execute_input": "2021-04-13T20:07:43.376802Z",
     "iopub.status.busy": "2021-04-13T20:07:43.376119Z",
     "iopub.status.idle": "2021-04-13T20:07:43.429879Z",
     "shell.execute_reply": "2021-04-13T20:07:43.429128Z",
     "shell.execute_reply.started": "2021-04-13T20:07:43.376737Z"
    },
    "tags": []
   },
   "outputs": [],
   "source": [
    "TransformerDate = DateTransformer('CRASH_DATE')\n",
    "df.loc[:,'CRASH_DATE'] =  TransformerDate.fit_transform(df)"
   ]
  },
  {
   "cell_type": "code",
   "execution_count": 45,
   "id": "confirmed-asthma",
   "metadata": {
    "execution": {
     "iopub.execute_input": "2021-04-13T20:07:43.885670Z",
     "iopub.status.busy": "2021-04-13T20:07:43.885308Z",
     "iopub.status.idle": "2021-04-13T20:07:44.304400Z",
     "shell.execute_reply": "2021-04-13T20:07:44.303818Z",
     "shell.execute_reply.started": "2021-04-13T20:07:43.885637Z"
    },
    "tags": []
   },
   "outputs": [],
   "source": [
    "ImputerCat_with_Unknown  = SimpleImputer(missing_values=np.nan, strategy='constant', fill_value='N')\n",
    "df.loc[:,dfi.NaN_object_colmns] = ImputerCat_with_Unknown.fit_transform(df.loc[:,dfi.NaN_object_colmns] )"
   ]
  },
  {
   "cell_type": "code",
   "execution_count": 46,
   "id": "clinical-tablet",
   "metadata": {
    "execution": {
     "iopub.execute_input": "2021-04-13T20:07:44.308766Z",
     "iopub.status.busy": "2021-04-13T20:07:44.308614Z",
     "iopub.status.idle": "2021-04-13T20:07:44.441139Z",
     "shell.execute_reply": "2021-04-13T20:07:44.440702Z",
     "shell.execute_reply.started": "2021-04-13T20:07:44.308753Z"
    },
    "tags": []
   },
   "outputs": [],
   "source": [
    "ImputerMostFrequent = SimpleImputer(missing_values=np.NaN, strategy='most_frequent')\n",
    "df.loc[:,dfi.NaN_float_columns] = ImputerMostFrequent.fit_transform(df.loc[:,dfi.NaN_float_columns])"
   ]
  },
  {
   "cell_type": "markdown",
   "id": "spatial-astronomy",
   "metadata": {},
   "source": [
    "## FEATURES ENGINEERING"
   ]
  },
  {
   "cell_type": "markdown",
   "id": "possible-iceland",
   "metadata": {},
   "source": [
    "#### POSTED_SPEED_LIMIT\n",
    "\n",
    "Acceleration is a major cause of car accidents, which is why we consider it a very important factor for our model.\n",
    "\n",
    "unfortunately the information provided in the dataset relating to the variable \"POSTED_SPEED_LIMIT\" is somewhat confused and anomalous for this reason we refer to the official Illinois statute section Vehicle Code no. (625 ILCS 5 /) as a reliable source to sort our data as appropriately as possible.\n",
    "\n",
    "    70 mph - Rural interstates and tollways.\n",
    "    65 mph - Highways with four lanes.\n",
    "    55 mph - Other highways and rural areas.\n",
    "    45 mph - Urban freeways and interstates through downtown Chicago.\n",
    "    30 mph - Urban Districts - City/Town Areas.\n",
    "    20 mph - School Zones (on school days between 7 a.m. and 4 p.m.\n",
    "    15 mph - Urban Alleys.\n",
    "\n",
    "For more info: [Illinois Compiled Statutes](https://www.ilga.gov/legislation/ilcs/ilcs4.asp?DocName=062500050HCh%2E+11+Art%2E+IX&ActID=1815&ChapterID=49&SeqStart=122500000&SeqEnd=123600000)"
   ]
  },
  {
   "cell_type": "code",
   "execution_count": 47,
   "id": "hundred-three",
   "metadata": {
    "execution": {
     "iopub.execute_input": "2021-04-13T20:07:46.817667Z",
     "iopub.status.busy": "2021-04-13T20:07:46.817276Z",
     "iopub.status.idle": "2021-04-13T20:07:46.828485Z",
     "shell.execute_reply": "2021-04-13T20:07:46.827198Z",
     "shell.execute_reply.started": "2021-04-13T20:07:46.817634Z"
    },
    "tags": []
   },
   "outputs": [
    {
     "data": {
      "text/plain": [
       "array([30, 20, 10, 15, 25, 35, 55, 45,  5, 50,  0, 40, 39, 65,  1, 34,  3,\n",
       "       12, 60,  9, 26, 33, 49, 70, 11, 36, 32, 24,  2, 14, 31, 29])"
      ]
     },
     "execution_count": 47,
     "metadata": {},
     "output_type": "execute_result"
    }
   ],
   "source": [
    "df.POSTED_SPEED_LIMIT.unique()"
   ]
  },
  {
   "cell_type": "code",
   "execution_count": 48,
   "id": "parliamentary-barrel",
   "metadata": {
    "execution": {
     "iopub.execute_input": "2021-04-13T20:07:47.195762Z",
     "iopub.status.busy": "2021-04-13T20:07:47.195157Z",
     "iopub.status.idle": "2021-04-13T20:07:47.542040Z",
     "shell.execute_reply": "2021-04-13T20:07:47.541644Z",
     "shell.execute_reply.started": "2021-04-13T20:07:47.195696Z"
    },
    "tags": []
   },
   "outputs": [],
   "source": [
    "TransformSpeed = SpeedTransformer('POSTED_SPEED_LIMIT')\n",
    "df.loc[:,'POSTED_SPEED_LIMIT'] = TransformSpeed.fit_transform(df)"
   ]
  },
  {
   "cell_type": "code",
   "execution_count": 49,
   "id": "amended-whale",
   "metadata": {
    "execution": {
     "iopub.execute_input": "2021-04-13T20:07:47.628898Z",
     "iopub.status.busy": "2021-04-13T20:07:47.628660Z",
     "iopub.status.idle": "2021-04-13T20:07:47.633821Z",
     "shell.execute_reply": "2021-04-13T20:07:47.633346Z",
     "shell.execute_reply.started": "2021-04-13T20:07:47.628875Z"
    },
    "tags": []
   },
   "outputs": [
    {
     "data": {
      "text/plain": [
       "array([30, 20, 15, 45, 55, 65, 70])"
      ]
     },
     "execution_count": 49,
     "metadata": {},
     "output_type": "execute_result"
    }
   ],
   "source": [
    "df.POSTED_SPEED_LIMIT.unique()"
   ]
  },
  {
   "cell_type": "markdown",
   "id": "similar-valley",
   "metadata": {},
   "source": [
    "## PRIM CONTRIBUTORY CAUSE"
   ]
  },
  {
   "cell_type": "code",
   "execution_count": 50,
   "id": "fossil-islam",
   "metadata": {
    "execution": {
     "iopub.execute_input": "2021-04-13T20:07:50.265321Z",
     "iopub.status.busy": "2021-04-13T20:07:50.264675Z",
     "iopub.status.idle": "2021-04-13T20:07:50.289464Z",
     "shell.execute_reply": "2021-04-13T20:07:50.288911Z",
     "shell.execute_reply.started": "2021-04-13T20:07:50.265254Z"
    }
   },
   "outputs": [
    {
     "data": {
      "text/plain": [
       "array(['FAILING TO YIELD RIGHT-OF-WAY', 'UNABLE TO DETERMINE',\n",
       "       'OPERATING VEHICLE IN ERRATIC, RECKLESS, CARELESS, NEGLIGENT OR AGGRESSIVE MANNER',\n",
       "       'IMPROPER BACKING', 'IMPROPER OVERTAKING/PASSING',\n",
       "       'IMPROPER LANE USAGE', 'DISREGARDING TRAFFIC SIGNALS',\n",
       "       'NOT APPLICABLE', 'IMPROPER TURNING/NO SIGNAL',\n",
       "       'FOLLOWING TOO CLOSELY', 'DRIVING SKILLS/KNOWLEDGE/EXPERIENCE',\n",
       "       'ROAD CONSTRUCTION/MAINTENANCE', 'WEATHER',\n",
       "       'PHYSICAL CONDITION OF DRIVER',\n",
       "       'FAILING TO REDUCE SPEED TO AVOID CRASH',\n",
       "       'EVASIVE ACTION DUE TO ANIMAL, OBJECT, NONMOTORIST',\n",
       "       'HAD BEEN DRINKING (USE WHEN ARREST IS NOT MADE)',\n",
       "       'DISTRACTION - FROM INSIDE VEHICLE',\n",
       "       'DRIVING ON WRONG SIDE/WRONG WAY',\n",
       "       'VISION OBSCURED (SIGNS, TREE LIMBS, BUILDINGS, ETC.)',\n",
       "       'EQUIPMENT - VEHICLE CONDITION', 'DISREGARDING STOP SIGN',\n",
       "       'TEXTING', 'DISTRACTION - FROM OUTSIDE VEHICLE',\n",
       "       'DISREGARDING YIELD SIGN', 'CELL PHONE USE OTHER THAN TEXTING',\n",
       "       'UNDER THE INFLUENCE OF ALCOHOL/DRUGS (USE WHEN ARREST IS EFFECTED)',\n",
       "       'TURNING RIGHT ON RED', 'DISREGARDING ROAD MARKINGS',\n",
       "       'DISREGARDING OTHER TRAFFIC SIGNS', 'ANIMAL',\n",
       "       'RELATED TO BUS STOP', 'ROAD ENGINEERING/SURFACE/MARKING DEFECTS',\n",
       "       'OBSTRUCTED CROSSWALKS',\n",
       "       'DISTRACTION - OTHER ELECTRONIC DEVICE (NAVIGATION DEVICE, DVD PLAYER, ETC.)',\n",
       "       'PASSING STOPPED SCHOOL BUS',\n",
       "       'BICYCLE ADVANCING LEGALLY ON RED LIGHT',\n",
       "       'MOTORCYCLE ADVANCING LEGALLY ON RED LIGHT'], dtype=object)"
      ]
     },
     "execution_count": 50,
     "metadata": {},
     "output_type": "execute_result"
    }
   ],
   "source": [
    "df.PRIM_CONTRIBUTORY_CAUSE.unique()"
   ]
  },
  {
   "cell_type": "code",
   "execution_count": 51,
   "id": "referenced-yeast",
   "metadata": {
    "execution": {
     "iopub.execute_input": "2021-04-13T20:07:52.514884Z",
     "iopub.status.busy": "2021-04-13T20:07:52.514239Z",
     "iopub.status.idle": "2021-04-13T20:07:52.596883Z",
     "shell.execute_reply": "2021-04-13T20:07:52.596431Z",
     "shell.execute_reply.started": "2021-04-13T20:07:52.514816Z"
    }
   },
   "outputs": [],
   "source": [
    "df.PRIM_CONTRIBUTORY_CAUSE = df.PRIM_CONTRIBUTORY_CAUSE.apply(y_classes)"
   ]
  },
  {
   "cell_type": "code",
   "execution_count": 52,
   "id": "adaptive-inquiry",
   "metadata": {
    "execution": {
     "iopub.execute_input": "2021-04-13T20:07:52.875974Z",
     "iopub.status.busy": "2021-04-13T20:07:52.875333Z",
     "iopub.status.idle": "2021-04-13T20:07:52.899307Z",
     "shell.execute_reply": "2021-04-13T20:07:52.898856Z",
     "shell.execute_reply.started": "2021-04-13T20:07:52.875904Z"
    }
   },
   "outputs": [
    {
     "data": {
      "text/plain": [
       "array(['IMPROPER_MANEUVER', 'UNABLE TO DETERMINE', 'DISREGARDING',\n",
       "       'NOT APPLICABLE', 'DRIVING_SKILLS/KNOWLEDGE/EXPERIENCE',\n",
       "       'ROAD_CONDITION', 'WEATHER', 'PHYSICAL CONDITION OF DRIVER',\n",
       "       'ANIMAL', 'ALCOHOL_DRUGS', 'DISTRACTION',\n",
       "       'EQUIPMENT - VEHICLE CONDITION', 'RELATED TO BUS STOP'],\n",
       "      dtype=object)"
      ]
     },
     "execution_count": 52,
     "metadata": {},
     "output_type": "execute_result"
    }
   ],
   "source": [
    "df.PRIM_CONTRIBUTORY_CAUSE.unique()"
   ]
  },
  {
   "cell_type": "code",
   "execution_count": 53,
   "id": "incorporated-heater",
   "metadata": {
    "execution": {
     "iopub.execute_input": "2021-04-13T20:07:53.498865Z",
     "iopub.status.busy": "2021-04-13T20:07:53.498378Z",
     "iopub.status.idle": "2021-04-13T20:07:53.693637Z",
     "shell.execute_reply": "2021-04-13T20:07:53.693271Z",
     "shell.execute_reply.started": "2021-04-13T20:07:53.498828Z"
    }
   },
   "outputs": [
    {
     "name": "stdout",
     "output_type": "stream",
     "text": [
      "<class 'pandas.core.frame.DataFrame'>\n",
      "RangeIndex: 92092 entries, 0 to 92091\n",
      "Data columns (total 35 columns):\n",
      " #   Column                         Non-Null Count  Dtype         \n",
      "---  ------                         --------------  -----         \n",
      " 0   ALIGNMENT                      92092 non-null  object        \n",
      " 1   CRASH_DATE                     92092 non-null  datetime64[ns]\n",
      " 2   CRASH_DAY_OF_WEEK              92092 non-null  int64         \n",
      " 3   CRASH_HOUR                     92092 non-null  int64         \n",
      " 4   CRASH_MONTH                    92092 non-null  int64         \n",
      " 5   DEVICE_CONDITION               92092 non-null  object        \n",
      " 6   DOORING_I                      92092 non-null  object        \n",
      " 7   FIRST_CRASH_TYPE               92092 non-null  object        \n",
      " 8   HIT_AND_RUN_I                  92092 non-null  object        \n",
      " 9   INJURIES_FATAL                 92092 non-null  float64       \n",
      " 10  INJURIES_INCAPACITATING        92092 non-null  float64       \n",
      " 11  INJURIES_NON_INCAPACITATING    92092 non-null  float64       \n",
      " 12  INJURIES_NO_INDICATION         92092 non-null  float64       \n",
      " 13  INJURIES_REPORTED_NOT_EVIDENT  92092 non-null  float64       \n",
      " 14  INJURIES_TOTAL                 92092 non-null  float64       \n",
      " 15  INJURIES_UNKNOWN               92092 non-null  float64       \n",
      " 16  INTERSECTION_RELATED_I         92092 non-null  object        \n",
      " 17  LATITUDE                       92092 non-null  float64       \n",
      " 18  LIGHTING_CONDITION             92092 non-null  object        \n",
      " 19  LONGITUDE                      92092 non-null  float64       \n",
      " 20  MOST_SEVERE_INJURY             92092 non-null  object        \n",
      " 21  NOT_RIGHT_OF_WAY_I             92092 non-null  object        \n",
      " 22  NUM_UNITS                      92092 non-null  int64         \n",
      " 23  POSTED_SPEED_LIMIT             92092 non-null  int64         \n",
      " 24  PRIM_CONTRIBUTORY_CAUSE        92092 non-null  object        \n",
      " 25  ROADWAY_SURFACE_COND           92092 non-null  object        \n",
      " 26  ROAD_DEFECT                    92092 non-null  object        \n",
      " 27  STREET_DIRECTION               92092 non-null  object        \n",
      " 28  STREET_NAME                    92092 non-null  object        \n",
      " 29  STREET_NO                      92092 non-null  int64         \n",
      " 30  TRAFFICWAY_TYPE                92092 non-null  object        \n",
      " 31  TRAFFIC_CONTROL_DEVICE         92092 non-null  object        \n",
      " 32  WEATHER_CONDITION              92092 non-null  object        \n",
      " 33  WORKERS_PRESENT_I              92092 non-null  object        \n",
      " 34  WORK_ZONE_I                    92092 non-null  object        \n",
      "dtypes: datetime64[ns](1), float64(9), int64(6), object(19)\n",
      "memory usage: 24.6+ MB\n"
     ]
    }
   ],
   "source": [
    "df[sorted(set(df.columns)-excluded_cols)].info()"
   ]
  },
  {
   "cell_type": "code",
   "execution_count": 54,
   "id": "handled-store",
   "metadata": {
    "execution": {
     "iopub.execute_input": "2021-04-13T20:07:56.130382Z",
     "iopub.status.busy": "2021-04-13T20:07:56.129771Z",
     "iopub.status.idle": "2021-04-13T20:07:56.138743Z",
     "shell.execute_reply": "2021-04-13T20:07:56.137263Z",
     "shell.execute_reply.started": "2021-04-13T20:07:56.130315Z"
    }
   },
   "outputs": [],
   "source": [
    "statistic_cols.update(['CRASH_DATE','CRASH_DAY_OF_WEEK','CRASH_HOUR','CRASH_MONTH', 'DOORING_I',\n",
    "                       'HIT_AND_RUN_I','INJURIES_FATAL','INJURIES_INCAPACITATING',\n",
    "                       'INJURIES_NON_INCAPACITATING','INJURIES_NO_INDICATION','INJURIES_REPORTED_NOT_EVIDENT',\n",
    "                       'INJURIES_TOTAL','INJURIES_UNKNOWN','LATITUDE','LONGITUDE','MOST_SEVERE_INJURY',\n",
    "                       'NUM_UNITS','STREET_DIRECTION','STREET_NAME','STREET_NO'])"
   ]
  },
  {
   "cell_type": "code",
   "execution_count": 55,
   "id": "funky-account",
   "metadata": {
    "execution": {
     "iopub.execute_input": "2021-04-13T20:08:05.352507Z",
     "iopub.status.busy": "2021-04-13T20:08:05.352152Z",
     "iopub.status.idle": "2021-04-13T20:08:05.356661Z",
     "shell.execute_reply": "2021-04-13T20:08:05.355687Z",
     "shell.execute_reply.started": "2021-04-13T20:08:05.352474Z"
    }
   },
   "outputs": [],
   "source": [
    "features_cols.update(set(df.columns)-excluded_cols.union(statistic_cols))"
   ]
  },
  {
   "cell_type": "code",
   "execution_count": 56,
   "id": "facial-wesley",
   "metadata": {
    "execution": {
     "iopub.execute_input": "2021-04-13T20:08:06.998923Z",
     "iopub.status.busy": "2021-04-13T20:08:06.998547Z",
     "iopub.status.idle": "2021-04-13T20:08:07.085034Z",
     "shell.execute_reply": "2021-04-13T20:08:07.084698Z",
     "shell.execute_reply.started": "2021-04-13T20:08:06.998889Z"
    }
   },
   "outputs": [
    {
     "name": "stdout",
     "output_type": "stream",
     "text": [
      "<class 'pandas.core.frame.DataFrame'>\n",
      "RangeIndex: 92092 entries, 0 to 92091\n",
      "Data columns (total 15 columns):\n",
      " #   Column                   Non-Null Count  Dtype \n",
      "---  ------                   --------------  ----- \n",
      " 0   ALIGNMENT                92092 non-null  object\n",
      " 1   DEVICE_CONDITION         92092 non-null  object\n",
      " 2   FIRST_CRASH_TYPE         92092 non-null  object\n",
      " 3   INTERSECTION_RELATED_I   92092 non-null  object\n",
      " 4   LIGHTING_CONDITION       92092 non-null  object\n",
      " 5   NOT_RIGHT_OF_WAY_I       92092 non-null  object\n",
      " 6   POSTED_SPEED_LIMIT       92092 non-null  int64 \n",
      " 7   PRIM_CONTRIBUTORY_CAUSE  92092 non-null  object\n",
      " 8   ROADWAY_SURFACE_COND     92092 non-null  object\n",
      " 9   ROAD_DEFECT              92092 non-null  object\n",
      " 10  TRAFFICWAY_TYPE          92092 non-null  object\n",
      " 11  TRAFFIC_CONTROL_DEVICE   92092 non-null  object\n",
      " 12  WEATHER_CONDITION        92092 non-null  object\n",
      " 13  WORKERS_PRESENT_I        92092 non-null  object\n",
      " 14  WORK_ZONE_I              92092 non-null  object\n",
      "dtypes: int64(1), object(14)\n",
      "memory usage: 10.5+ MB\n"
     ]
    }
   ],
   "source": [
    "df[sorted(features_cols)].info()"
   ]
  },
  {
   "cell_type": "markdown",
   "id": "silent-tokyo",
   "metadata": {},
   "source": [
    "## EXPLORATORY DATA ANALYSIS\n"
   ]
  },
  {
   "cell_type": "code",
   "execution_count": 57,
   "id": "dynamic-director",
   "metadata": {
    "execution": {
     "iopub.execute_input": "2021-04-13T20:08:11.052806Z",
     "iopub.status.busy": "2021-04-13T20:08:11.052459Z",
     "iopub.status.idle": "2021-04-13T20:08:11.056092Z",
     "shell.execute_reply": "2021-04-13T20:08:11.055238Z",
     "shell.execute_reply.started": "2021-04-13T20:08:11.052772Z"
    }
   },
   "outputs": [],
   "source": [
    "# speed_groupby=df.groupby('POSTED_SPEED_LIMIT', as_index=False).agg({\n",
    "#     'HIT_AND_RUN_I': 'describe',\n",
    "#     'DOORING_I': 'describe',\n",
    "#     'NOT_RIGHT_OF_WAY_I': 'describe'})\n",
    "# speed_groupby"
   ]
  },
  {
   "cell_type": "code",
   "execution_count": 58,
   "id": "occasional-headset",
   "metadata": {
    "execution": {
     "iopub.execute_input": "2021-04-13T20:08:11.292325Z",
     "iopub.status.busy": "2021-04-13T20:08:11.291702Z",
     "iopub.status.idle": "2021-04-13T20:08:11.297758Z",
     "shell.execute_reply": "2021-04-13T20:08:11.296519Z",
     "shell.execute_reply.started": "2021-04-13T20:08:11.292258Z"
    }
   },
   "outputs": [],
   "source": [
    "# speed_hit_and_run = df.groupby('TRAFFICWAY_TYPE', as_index=False).agg({\n",
    "#     'POSTED_SPEED_LIMIT': 'describe'})\n",
    "# speed_hit_and_run.columns = [speed_hit_and_run.columns.to_list()[0][0]]+\\\n",
    "# ['_'.join(x) for x in speed_hit_and_run.columns[1:]]\n",
    "# speed_hit_and_run"
   ]
  },
  {
   "cell_type": "markdown",
   "id": "selected-investigation",
   "metadata": {},
   "source": [
    "## CRASH TYPE"
   ]
  },
  {
   "cell_type": "code",
   "execution_count": 59,
   "id": "finished-employment",
   "metadata": {
    "execution": {
     "iopub.execute_input": "2021-04-13T20:08:13.332199Z",
     "iopub.status.busy": "2021-04-13T20:08:13.331529Z",
     "iopub.status.idle": "2021-04-13T20:08:13.490104Z",
     "shell.execute_reply": "2021-04-13T20:08:13.489748Z",
     "shell.execute_reply.started": "2021-04-13T20:08:13.332132Z"
    }
   },
   "outputs": [
    {
     "data": {
      "image/png": "[encoded data removed]",
      "text/plain": [
       "<Figure size 576x360 with 1 Axes>"
      ]
     },
     "metadata": {
      "needs_background": "light"
     },
     "output_type": "display_data"
    },
    {
     "data": {
      "text/plain": [
       "<Figure size 432x288 with 0 Axes>"
      ]
     },
     "metadata": {},
     "output_type": "display_data"
    }
   ],
   "source": [
    "fig, ax = plt.subplots(figsize=(8,5))\n",
    "sns_crach_type = sns.countplot(x=df.CRASH_TYPE, ax=ax)\n",
    "ax.set_title(\"Type of first collision in crash\", fontsize=15, weight='bold', ha='center', va='bottom')\n",
    "ax.set_xlabel('Crash Type')\n",
    "ax.set_ylabel('Count')\n",
    "plt.show()\n",
    "plt.savefig('./img/crach_type.png')"
   ]
  },
  {
   "cell_type": "markdown",
   "id": "honest-acting",
   "metadata": {},
   "source": [
    "## ESTIMATED DAMAGE"
   ]
  },
  {
   "cell_type": "code",
   "execution_count": 60,
   "id": "protected-yugoslavia",
   "metadata": {
    "execution": {
     "iopub.execute_input": "2021-04-13T20:08:15.368825Z",
     "iopub.status.busy": "2021-04-13T20:08:15.368436Z",
     "iopub.status.idle": "2021-04-13T20:08:15.635742Z",
     "shell.execute_reply": "2021-04-13T20:08:15.635382Z",
     "shell.execute_reply.started": "2021-04-13T20:08:15.368791Z"
    }
   },
   "outputs": [
    {
     "data": {
      "image/png": "[encoded data removed]",
      "text/plain": [
       "<Figure size 576x360 with 1 Axes>"
      ]
     },
     "metadata": {
      "needs_background": "light"
     },
     "output_type": "display_data"
    },
    {
     "data": {
      "text/plain": [
       "<Figure size 432x288 with 0 Axes>"
      ]
     },
     "metadata": {},
     "output_type": "display_data"
    }
   ],
   "source": [
    "fig, ax = plt.subplots(figsize=(8,5))\n",
    "sns_crach_type = sns.countplot(x=df.DAMAGE, ax=ax)\n",
    "ax.set_title(\"Observation of Estimated Damage\", fontsize=15, weight='bold', ha='center', va='bottom')\n",
    "ax.set_xlabel('Damage')\n",
    "ax.set_ylabel('Count')\n",
    "plt.show()\n",
    "plt.savefig('./img/damage.png')"
   ]
  },
  {
   "cell_type": "markdown",
   "id": "automated-occupation",
   "metadata": {},
   "source": [
    "## MOST SEVERE INGURY"
   ]
  },
  {
   "cell_type": "code",
   "execution_count": 61,
   "id": "bizarre-walker",
   "metadata": {
    "execution": {
     "iopub.execute_input": "2021-04-13T20:08:17.416991Z",
     "iopub.status.busy": "2021-04-13T20:08:17.416306Z",
     "iopub.status.idle": "2021-04-13T20:08:17.572131Z",
     "shell.execute_reply": "2021-04-13T20:08:17.571813Z",
     "shell.execute_reply.started": "2021-04-13T20:08:17.416923Z"
    }
   },
   "outputs": [
    {
     "data": {
      "image/png": "[encoded data removed]",
      "text/plain": [
       "<Figure size 576x360 with 1 Axes>"
      ]
     },
     "metadata": {
      "needs_background": "light"
     },
     "output_type": "display_data"
    },
    {
     "data": {
      "text/plain": [
       "<Figure size 432x288 with 0 Axes>"
      ]
     },
     "metadata": {},
     "output_type": "display_data"
    }
   ],
   "source": [
    "fig, ax = plt.subplots(figsize=(8,5))\n",
    "sns_crach_type = sns.countplot(x=df.MOST_SEVERE_INJURY, ax=ax)\n",
    "ax.set_title(\"Most severe injury sustained by any person\",\n",
    "             fontsize=15, weight='bold', ha='center', va='bottom')\n",
    "ax.set_xlabel('Most Severe Injury')\n",
    "ax.set_ylabel('Count')\n",
    "plt.xticks(rotation=45)\n",
    "plt.show()\n",
    "plt.savefig('./img/Most_Severe_Injury.png')"
   ]
  },
  {
   "cell_type": "markdown",
   "id": "impossible-patrol",
   "metadata": {},
   "source": [
    "## WEATHER CONDITION"
   ]
  },
  {
   "cell_type": "code",
   "execution_count": 62,
   "id": "white-support",
   "metadata": {
    "execution": {
     "iopub.execute_input": "2021-04-13T20:08:18.531362Z",
     "iopub.status.busy": "2021-04-13T20:08:18.530732Z",
     "iopub.status.idle": "2021-04-13T20:08:18.743693Z",
     "shell.execute_reply": "2021-04-13T20:08:18.743340Z",
     "shell.execute_reply.started": "2021-04-13T20:08:18.531296Z"
    }
   },
   "outputs": [
    {
     "data": {
      "image/png": "[encoded data removed]",
      "text/plain": [
       "<Figure size 576x360 with 1 Axes>"
      ]
     },
     "metadata": {
      "needs_background": "light"
     },
     "output_type": "display_data"
    },
    {
     "data": {
      "text/plain": [
       "<Figure size 432x288 with 0 Axes>"
      ]
     },
     "metadata": {},
     "output_type": "display_data"
    }
   ],
   "source": [
    "fig, ax = plt.subplots(figsize=(8,5))\n",
    "sns_crach_type = sns.countplot(y=df.WEATHER_CONDITION, data=df, ax=ax)\n",
    "ax.set_title(\"Weather condition at time of crash\", fontsize=15, weight='bold', ha='center', va='bottom')\n",
    "ax.set_xlabel('Weather condition')\n",
    "ax.set_ylabel('Count')\n",
    "plt.show()\n",
    "plt.savefig('./img/Weathercondition.png')"
   ]
  },
  {
   "cell_type": "markdown",
   "id": "imposed-signal",
   "metadata": {},
   "source": [
    "## ROAD SURFACE CONDITION"
   ]
  },
  {
   "cell_type": "code",
   "execution_count": 63,
   "id": "express-monday",
   "metadata": {
    "execution": {
     "iopub.execute_input": "2021-04-13T20:08:19.142605Z",
     "iopub.status.busy": "2021-04-13T20:08:19.142184Z",
     "iopub.status.idle": "2021-04-13T20:08:19.295208Z",
     "shell.execute_reply": "2021-04-13T20:08:19.294867Z",
     "shell.execute_reply.started": "2021-04-13T20:08:19.142570Z"
    }
   },
   "outputs": [
    {
     "data": {
      "image/png": "[encoded data removed]",
      "text/plain": [
       "<Figure size 576x360 with 1 Axes>"
      ]
     },
     "metadata": {
      "needs_background": "light"
     },
     "output_type": "display_data"
    },
    {
     "data": {
      "text/plain": [
       "<Figure size 432x288 with 0 Axes>"
      ]
     },
     "metadata": {},
     "output_type": "display_data"
    }
   ],
   "source": [
    "fig, ax = plt.subplots(figsize=(8,5))\n",
    "sns_crach_type = sns.countplot(x=df.ROADWAY_SURFACE_COND, ax=ax)\n",
    "ax.set_title(\"Road surface condition\", fontsize=15, weight='bold', ha='center', va='bottom')\n",
    "ax.set_xlabel('Road surface condition\"')\n",
    "ax.set_ylabel('Count')\n",
    "plt.xticks(rotation=45)\n",
    "plt.show()\n",
    "plt.savefig('./img/road_surface_condition.png')"
   ]
  },
  {
   "cell_type": "markdown",
   "id": "missing-train",
   "metadata": {},
   "source": [
    "<H1>Posted Speed Limit Analysis<H/>"
   ]
  },
  {
   "cell_type": "code",
   "execution_count": 64,
   "id": "optimum-treasury",
   "metadata": {
    "execution": {
     "iopub.execute_input": "2021-04-13T20:08:19.610124Z",
     "iopub.status.busy": "2021-04-13T20:08:19.609637Z",
     "iopub.status.idle": "2021-04-13T20:08:19.750799Z",
     "shell.execute_reply": "2021-04-13T20:08:19.750451Z",
     "shell.execute_reply.started": "2021-04-13T20:08:19.610082Z"
    }
   },
   "outputs": [
    {
     "data": {
      "image/png": "[encoded data removed]",
      "text/plain": [
       "<Figure size 576x360 with 1 Axes>"
      ]
     },
     "metadata": {
      "needs_background": "light"
     },
     "output_type": "display_data"
    },
    {
     "data": {
      "text/plain": [
       "<Figure size 432x288 with 0 Axes>"
      ]
     },
     "metadata": {},
     "output_type": "display_data"
    }
   ],
   "source": [
    "speed_hit_and_run = df.groupby('POSTED_SPEED_LIMIT', as_index=False).agg({'HIT_AND_RUN_I': 'describe'})\n",
    "speed_hit_and_run.columns = [speed_hit_and_run.columns.to_list()[0][0]]+\\\n",
    "                            ['_'.join(x) for x in speed_hit_and_run.columns[1:]]\n",
    "\n",
    "fig, ax = plt.subplots(figsize=(8,5))\n",
    "sns.barplot(x='POSTED_SPEED_LIMIT', y='HIT_AND_RUN_I_count', data=speed_hit_and_run, orient='v', ax=ax)\n",
    "ax.set_title(\"Most frequent craches caused by Speed Limit\", fontsize=15, weight='bold', ha='center', va='bottom')\n",
    "ax.set_xlabel('Posted Speed Limit')\n",
    "ax.set_ylabel('HIT AND RUN: Most Frequent')\n",
    "plt.show()\n",
    "plt.savefig('./img/speed_hit_and_run.png')"
   ]
  },
  {
   "cell_type": "markdown",
   "id": "funky-stamp",
   "metadata": {},
   "source": [
    "## Speed Limit by Number of units-related"
   ]
  },
  {
   "cell_type": "code",
   "execution_count": 65,
   "id": "referenced-jurisdiction",
   "metadata": {
    "execution": {
     "iopub.execute_input": "2021-04-13T20:08:20.117048Z",
     "iopub.status.busy": "2021-04-13T20:08:20.116657Z",
     "iopub.status.idle": "2021-04-13T20:08:20.250102Z",
     "shell.execute_reply": "2021-04-13T20:08:20.249736Z",
     "shell.execute_reply.started": "2021-04-13T20:08:20.117014Z"
    }
   },
   "outputs": [
    {
     "data": {
      "image/png": "[encoded data removed]",
      "text/plain": [
       "<Figure size 576x360 with 1 Axes>"
      ]
     },
     "metadata": {
      "needs_background": "light"
     },
     "output_type": "display_data"
    },
    {
     "data": {
      "text/plain": [
       "<Figure size 432x288 with 0 Axes>"
      ]
     },
     "metadata": {},
     "output_type": "display_data"
    }
   ],
   "source": [
    "speed_unit = df.groupby('POSTED_SPEED_LIMIT', as_index=False).agg({'NUM_UNITS': 'sum'})\n",
    "\n",
    "fig, ax = plt.subplots(figsize=(8,5))\n",
    "sns_speed_unit=sns.barplot(x='POSTED_SPEED_LIMIT', y='NUM_UNITS', data=speed_unit, ax=ax)\n",
    "for index, row in speed_unit.iterrows():\n",
    "    sns_speed_unit.text(x=row.name,\n",
    "                        y=row.NUM_UNITS,\n",
    "                        s=round(row.NUM_UNITS),\n",
    "                        color='black', va='bottom',  ha=\"center\", fontsize=10)\n",
    "ax.set_title(\"Number of units involved in the crash\", fontsize=15, weight='bold', ha='center', va='bottom')\n",
    "ax.set_xlabel('Posted Speed Limit')\n",
    "ax.set_ylabel('Number of Units')\n",
    "plt.show()\n",
    "plt.savefig('./img/speed_unit.png')"
   ]
  },
  {
   "cell_type": "markdown",
   "id": "vanilla-bulletin",
   "metadata": {},
   "source": [
    "## INJURIES ANALYSIS"
   ]
  },
  {
   "cell_type": "markdown",
   "id": "optical-distribution",
   "metadata": {},
   "source": [
    "## Number of injuries by Speed Limit-related"
   ]
  },
  {
   "cell_type": "code",
   "execution_count": 66,
   "id": "alpine-future",
   "metadata": {
    "execution": {
     "iopub.execute_input": "2021-04-13T20:08:22.471698Z",
     "iopub.status.busy": "2021-04-13T20:08:22.471079Z",
     "iopub.status.idle": "2021-04-13T20:08:22.608163Z",
     "shell.execute_reply": "2021-04-13T20:08:22.607781Z",
     "shell.execute_reply.started": "2021-04-13T20:08:22.471631Z"
    }
   },
   "outputs": [
    {
     "data": {
      "image/png": "[encoded data removed]",
      "text/plain": [
       "<Figure size 576x360 with 1 Axes>"
      ]
     },
     "metadata": {
      "needs_background": "light"
     },
     "output_type": "display_data"
    },
    {
     "data": {
      "text/plain": [
       "<Figure size 432x288 with 0 Axes>"
      ]
     },
     "metadata": {},
     "output_type": "display_data"
    }
   ],
   "source": [
    "speed_injuries = df.groupby('POSTED_SPEED_LIMIT', as_index=False).agg({'INJURIES_TOTAL': 'sum'})\n",
    "\n",
    "fig, ax = plt.subplots(figsize=(8,5))\n",
    "sns_speed_injured=sns.barplot(x='POSTED_SPEED_LIMIT', y='INJURIES_TOTAL', data=speed_injuries, ax=ax)\n",
    "for index, row in speed_injuries.iterrows():\n",
    "    sns_speed_injured.text(x=row.name,\n",
    "                           y=row.INJURIES_TOTAL,\n",
    "                           s=round(row.INJURIES_TOTAL),\n",
    "                           color='black', va='bottom',  ha=\"center\", fontsize=10)\n",
    "ax.set_title(\"Number of injuries vs Speed Limit\", fontsize=15, weight='bold', ha='center', va='bottom')\n",
    "ax.set_xlabel('Posted Speed Limit')\n",
    "ax.set_ylabel('Total Injuries')\n",
    "plt.show()\n",
    "plt.show()\n",
    "plt.savefig('./img/speed_injures.png')"
   ]
  },
  {
   "cell_type": "markdown",
   "id": "dramatic-engine",
   "metadata": {},
   "source": [
    "## Number of injuries by Month-related"
   ]
  },
  {
   "cell_type": "code",
   "execution_count": 67,
   "id": "bronze-brunei",
   "metadata": {
    "execution": {
     "iopub.execute_input": "2021-04-13T20:08:25.485694Z",
     "iopub.status.busy": "2021-04-13T20:08:25.485072Z",
     "iopub.status.idle": "2021-04-13T20:08:25.647731Z",
     "shell.execute_reply": "2021-04-13T20:08:25.647358Z",
     "shell.execute_reply.started": "2021-04-13T20:08:25.485628Z"
    }
   },
   "outputs": [
    {
     "data": {
      "image/png": "[encoded data removed]",
      "text/plain": [
       "<Figure size 576x360 with 1 Axes>"
      ]
     },
     "metadata": {
      "needs_background": "light"
     },
     "output_type": "display_data"
    },
    {
     "data": {
      "text/plain": [
       "<Figure size 432x288 with 0 Axes>"
      ]
     },
     "metadata": {},
     "output_type": "display_data"
    }
   ],
   "source": [
    "injuries_month = df.groupby('CRASH_MONTH', as_index=False).agg({'INJURIES_TOTAL': 'sum'})\n",
    "\n",
    "fig, ax = plt.subplots(figsize=(8,5))\n",
    "sns_injuries_month=sns.barplot(x='CRASH_MONTH', y='INJURIES_TOTAL', data=injuries_month, ax=ax)\n",
    "for index, row in injuries_month.iterrows():\n",
    "    sns_injuries_month.text(x=row.name,\n",
    "                            y=row.INJURIES_TOTAL,\n",
    "                            s=round(row.INJURIES_TOTAL),\n",
    "                            color='black', va='bottom',  ha=\"center\", fontsize=10)\n",
    "ax.set_title(\"The month component of CRASH_DATE\", fontsize=15, weight='bold', ha='center', va='bottom')\n",
    "ax.set_xlabel('Month')\n",
    "ax.set_ylabel('Total Injuries')\n",
    "plt.show()\n",
    "plt.savefig('./img/injuries_month.png')"
   ]
  },
  {
   "cell_type": "markdown",
   "id": "cheap-radar",
   "metadata": {},
   "source": [
    "##  Number of injuries by Day of Week-related"
   ]
  },
  {
   "cell_type": "code",
   "execution_count": 68,
   "id": "beginning-handle",
   "metadata": {
    "execution": {
     "iopub.execute_input": "2021-04-13T20:08:28.045308Z",
     "iopub.status.busy": "2021-04-13T20:08:28.044661Z",
     "iopub.status.idle": "2021-04-13T20:08:28.176259Z",
     "shell.execute_reply": "2021-04-13T20:08:28.175915Z",
     "shell.execute_reply.started": "2021-04-13T20:08:28.045242Z"
    }
   },
   "outputs": [
    {
     "data": {
      "image/png": "[encoded data removed]",
      "text/plain": [
       "<Figure size 576x360 with 1 Axes>"
      ]
     },
     "metadata": {
      "needs_background": "light"
     },
     "output_type": "display_data"
    },
    {
     "data": {
      "text/plain": [
       "<Figure size 432x288 with 0 Axes>"
      ]
     },
     "metadata": {},
     "output_type": "display_data"
    }
   ],
   "source": [
    "injuries_week = df.groupby('CRASH_DAY_OF_WEEK', as_index=False).agg({'INJURIES_TOTAL': 'sum'})\n",
    "\n",
    "fig, ax = plt.subplots(figsize=(8,5))\n",
    "sns_injuries_week=sns.barplot(x='CRASH_DAY_OF_WEEK', y='INJURIES_TOTAL', data=injuries_week, ax=ax)\n",
    "for index, row in injuries_week.iterrows():\n",
    "    sns_injuries_week.text(x=row.name,\n",
    "                           y=row.INJURIES_TOTAL,\n",
    "                           s=round(row.INJURIES_TOTAL),\n",
    "                           color='black', va='bottom',  ha=\"center\", fontsize=10)\n",
    "ax.set_title(\"The day of the week component of CRASH_DATE\", fontsize=15, weight='bold', ha='center', va='bottom')\n",
    "ax.set_xlabel('Week')\n",
    "ax.set_ylabel('Total Injuries')\n",
    "plt.show()\n",
    "plt.savefig('./img/injuries_week.png')"
   ]
  },
  {
   "cell_type": "markdown",
   "id": "compliant-suicide",
   "metadata": {},
   "source": [
    "##  Number of injuries by Hour-related"
   ]
  },
  {
   "cell_type": "code",
   "execution_count": 69,
   "id": "instructional-sessions",
   "metadata": {
    "execution": {
     "iopub.execute_input": "2021-04-13T20:08:30.394996Z",
     "iopub.status.busy": "2021-04-13T20:08:30.394350Z",
     "iopub.status.idle": "2021-04-13T20:08:30.658738Z",
     "shell.execute_reply": "2021-04-13T20:08:30.658419Z",
     "shell.execute_reply.started": "2021-04-13T20:08:30.394929Z"
    }
   },
   "outputs": [
    {
     "data": {
      "image/png": "[encoded data removed]",
      "text/plain": [
       "<Figure size 576x360 with 1 Axes>"
      ]
     },
     "metadata": {
      "needs_background": "light"
     },
     "output_type": "display_data"
    },
    {
     "data": {
      "text/plain": [
       "<Figure size 432x288 with 0 Axes>"
      ]
     },
     "metadata": {},
     "output_type": "display_data"
    }
   ],
   "source": [
    "injuries_hour = df.groupby('CRASH_HOUR', as_index=False).agg({'INJURIES_TOTAL': 'sum'})\n",
    "\n",
    "fig, ax = plt.subplots(figsize=(8,5))\n",
    "sns_injuries_hour=sns.barplot(x='CRASH_HOUR', y='INJURIES_TOTAL', data=injuries_hour, ax=ax)\n",
    "\n",
    "for index, row in injuries_hour.iterrows():\n",
    "    sns_injuries_hour.text(x=row.name,\n",
    "                           y=row.INJURIES_TOTAL,\n",
    "                           s=round(row.INJURIES_TOTAL),\n",
    "                           color='black', va='bottom',  ha=\"center\", fontsize=10)\n",
    "ax.set_title(\"The hour of the day component of CRASH_DATE\", fontsize=15, weight='bold', ha='center', va='bottom')\n",
    "ax.set_xlabel('Hour')\n",
    "ax.set_ylabel('Total Injuries')\n",
    "plt.show()\n",
    "plt.savefig('./img/injuries_hour.png')"
   ]
  },
  {
   "cell_type": "markdown",
   "id": "harmful-theorem",
   "metadata": {},
   "source": [
    "## Number of injuries by Roadway Condition-related"
   ]
  },
  {
   "cell_type": "code",
   "execution_count": 70,
   "id": "danish-subscriber",
   "metadata": {
    "execution": {
     "iopub.execute_input": "2021-04-13T20:08:32.343968Z",
     "iopub.status.busy": "2021-04-13T20:08:32.343600Z",
     "iopub.status.idle": "2021-04-13T20:08:32.579084Z",
     "shell.execute_reply": "2021-04-13T20:08:32.578745Z",
     "shell.execute_reply.started": "2021-04-13T20:08:32.343933Z"
    }
   },
   "outputs": [
    {
     "data": {
      "image/png": "[encoded data removed]",
      "text/plain": [
       "<Figure size 576x360 with 1 Axes>"
      ]
     },
     "metadata": {
      "needs_background": "light"
     },
     "output_type": "display_data"
    },
    {
     "data": {
      "text/plain": [
       "<Figure size 432x288 with 0 Axes>"
      ]
     },
     "metadata": {},
     "output_type": "display_data"
    }
   ],
   "source": [
    "injuries_road = df.groupby('ROADWAY_SURFACE_COND', as_index=False).agg({'INJURIES_TOTAL': 'sum'})\n",
    "\n",
    "fig, ax = plt.subplots(figsize=(8,5))\n",
    "sns_injuries_road=sns.barplot(x='ROADWAY_SURFACE_COND', y='INJURIES_TOTAL', data=injuries_road, ax=ax)\n",
    "\n",
    "for index, row in injuries_road.iterrows():\n",
    "    sns_injuries_road.text(x=row.name,\n",
    "                           y=row.INJURIES_TOTAL,\n",
    "                           s=round(row.INJURIES_TOTAL),\n",
    "                           color='black', va='bottom', ha=\"center\", fontsize=10)\n",
    "    sns.barplot(x='ROADWAY_SURFACE_COND', y='INJURIES_TOTAL', data=injuries_road, ax=ax)\n",
    "plt.xticks(rotation=45)\n",
    "ax.set_title(\"Road surface condition\", fontsize=15, weight='bold', ha='center', va='bottom')\n",
    "ax.set_xlabel('Road condition')\n",
    "ax.set_ylabel('Total Injuries')\n",
    "plt.show()\n",
    "plt.savefig('./img/Road_surface_condition.png')"
   ]
  },
  {
   "cell_type": "markdown",
   "id": "selective-gasoline",
   "metadata": {
    "tags": []
   },
   "source": [
    "## PREPROCESSING"
   ]
  },
  {
   "cell_type": "code",
   "execution_count": 71,
   "id": "scenic-fraud",
   "metadata": {
    "execution": {
     "iopub.execute_input": "2021-04-13T20:08:34.996866Z",
     "iopub.status.busy": "2021-04-13T20:08:34.996200Z",
     "iopub.status.idle": "2021-04-13T20:08:35.025592Z",
     "shell.execute_reply": "2021-04-13T20:08:35.025083Z",
     "shell.execute_reply.started": "2021-04-13T20:08:34.996812Z"
    }
   },
   "outputs": [],
   "source": [
    "df_features = df[sorted(features_cols)].copy()"
   ]
  },
  {
   "cell_type": "code",
   "execution_count": 72,
   "id": "settled-click",
   "metadata": {
    "execution": {
     "iopub.execute_input": "2021-04-13T20:08:37.345671Z",
     "iopub.status.busy": "2021-04-13T20:08:37.345326Z",
     "iopub.status.idle": "2021-04-13T20:08:37.349374Z",
     "shell.execute_reply": "2021-04-13T20:08:37.348501Z",
     "shell.execute_reply.started": "2021-04-13T20:08:37.345638Z"
    }
   },
   "outputs": [],
   "source": [
    "df_features_info = Dframe(df_features)"
   ]
  },
  {
   "cell_type": "code",
   "execution_count": 73,
   "id": "brave-greece",
   "metadata": {
    "execution": {
     "iopub.execute_input": "2021-04-13T20:08:38.442912Z",
     "iopub.status.busy": "2021-04-13T20:08:38.442267Z",
     "iopub.status.idle": "2021-04-13T20:08:38.514925Z",
     "shell.execute_reply": "2021-04-13T20:08:38.514041Z",
     "shell.execute_reply.started": "2021-04-13T20:08:38.442846Z"
    }
   },
   "outputs": [
    {
     "name": "stdout",
     "output_type": "stream",
     "text": [
      "<class 'pandas.core.frame.DataFrame'>\n",
      "RangeIndex: 92092 entries, 0 to 92091\n",
      "Data columns (total 15 columns):\n",
      " #   Column                   Non-Null Count  Dtype \n",
      "---  ------                   --------------  ----- \n",
      " 0   ALIGNMENT                92092 non-null  object\n",
      " 1   DEVICE_CONDITION         92092 non-null  object\n",
      " 2   FIRST_CRASH_TYPE         92092 non-null  object\n",
      " 3   INTERSECTION_RELATED_I   92092 non-null  object\n",
      " 4   LIGHTING_CONDITION       92092 non-null  object\n",
      " 5   NOT_RIGHT_OF_WAY_I       92092 non-null  object\n",
      " 6   POSTED_SPEED_LIMIT       92092 non-null  int64 \n",
      " 7   PRIM_CONTRIBUTORY_CAUSE  92092 non-null  object\n",
      " 8   ROADWAY_SURFACE_COND     92092 non-null  object\n",
      " 9   ROAD_DEFECT              92092 non-null  object\n",
      " 10  TRAFFICWAY_TYPE          92092 non-null  object\n",
      " 11  TRAFFIC_CONTROL_DEVICE   92092 non-null  object\n",
      " 12  WEATHER_CONDITION        92092 non-null  object\n",
      " 13  WORKERS_PRESENT_I        92092 non-null  object\n",
      " 14  WORK_ZONE_I              92092 non-null  object\n",
      "dtypes: int64(1), object(14)\n",
      "memory usage: 10.5+ MB\n"
     ]
    }
   ],
   "source": [
    "df_features.info()"
   ]
  },
  {
   "cell_type": "code",
   "execution_count": 74,
   "id": "touched-nickname",
   "metadata": {
    "execution": {
     "iopub.execute_input": "2021-04-13T20:08:42.660615Z",
     "iopub.status.busy": "2021-04-13T20:08:42.660010Z",
     "iopub.status.idle": "2021-04-13T20:08:42.667677Z",
     "shell.execute_reply": "2021-04-13T20:08:42.666468Z",
     "shell.execute_reply.started": "2021-04-13T20:08:42.660549Z"
    }
   },
   "outputs": [],
   "source": [
    "category_cols.update(('TRAFFIC_CONTROL_DEVICE', 'DEVICE_CONDITION', 'WEATHER_CONDITION', 'LIGHTING_CONDITION',\n",
    "                    'FIRST_CRASH_TYPE', 'TRAFFICWAY_TYPE', 'ALIGNMENT', 'ROADWAY_SURFACE_COND', 'ROAD_DEFECT',\n",
    "                     'INTERSECTION_RELATED_I', 'NOT_RIGHT_OF_WAY_I','WORK_ZONE_I', 'WORKERS_PRESENT_I'))"
   ]
  },
  {
   "cell_type": "markdown",
   "id": "heavy-parliament",
   "metadata": {},
   "source": [
    "## Features Transformation using OneHotEncoder"
   ]
  },
  {
   "cell_type": "code",
   "execution_count": 75,
   "id": "union-omaha",
   "metadata": {
    "execution": {
     "iopub.execute_input": "2021-04-13T20:08:53.187600Z",
     "iopub.status.busy": "2021-04-13T20:08:53.187004Z",
     "iopub.status.idle": "2021-04-13T20:08:53.489937Z",
     "shell.execute_reply": "2021-04-13T20:08:53.489612Z",
     "shell.execute_reply.started": "2021-04-13T20:08:53.187535Z"
    }
   },
   "outputs": [],
   "source": [
    "ohe_features = OneHotEncoder(handle_unknown='ignore', sparse=False)\n",
    "ohe_features.fit(df_features[category_cols])\n",
    "\n",
    "df_features_ohe = pd.concat([df_features.drop(labels=category_cols, axis=1),\n",
    "                             pd.DataFrame(ohe_features.transform(df_features[category_cols]),\n",
    "                                          columns=ohe_features.get_feature_names(list(category_cols)))],\n",
    "                            axis=1)\n",
    "df_features_ohe.drop(labels=['PRIM_CONTRIBUTORY_CAUSE'], axis=1, inplace=True)"
   ]
  },
  {
   "cell_type": "markdown",
   "id": "offensive-manner",
   "metadata": {},
   "source": [
    "## Target Transformation using OneHotEncoder"
   ]
  },
  {
   "cell_type": "code",
   "execution_count": 76,
   "id": "received-reach",
   "metadata": {
    "execution": {
     "iopub.execute_input": "2021-04-13T20:08:55.422930Z",
     "iopub.status.busy": "2021-04-13T20:08:55.422366Z",
     "iopub.status.idle": "2021-04-13T20:08:55.467056Z",
     "shell.execute_reply": "2021-04-13T20:08:55.466403Z",
     "shell.execute_reply.started": "2021-04-13T20:08:55.422865Z"
    }
   },
   "outputs": [],
   "source": [
    "ohe_target     = OneHotEncoder(handle_unknown='ignore', sparse=False)\n",
    "df_target_ohe  = pd.DataFrame(ohe_target.fit_transform(df_features.PRIM_CONTRIBUTORY_CAUSE.values.reshape(-1,1)),\n",
    "                         columns=ohe_target.categories_)"
   ]
  },
  {
   "cell_type": "markdown",
   "id": "informational-capitol",
   "metadata": {},
   "source": [
    "## MODELING"
   ]
  },
  {
   "cell_type": "markdown",
   "id": "anonymous-zealand",
   "metadata": {},
   "source": [
    "it's broad clear we're dealing with a multiclass & multioutput imbalanced dataset, this presents a different challenge than a binary classification problem.\n",
    "fortunaly mostly 99% of classes are categorical except for POSTED_SPEED_LIMIT wich is the only numeric class"
   ]
  },
  {
   "cell_type": "code",
   "execution_count": 169,
   "id": "deluxe-letters",
   "metadata": {
    "execution": {
     "iopub.execute_input": "2021-04-13T20:54:24.209892Z",
     "iopub.status.busy": "2021-04-13T20:54:24.209488Z",
     "iopub.status.idle": "2021-04-13T20:54:24.377433Z",
     "shell.execute_reply": "2021-04-13T20:54:24.377125Z",
     "shell.execute_reply.started": "2021-04-13T20:54:24.209858Z"
    }
   },
   "outputs": [
    {
     "data": {
      "image/png": "[encoded data removed]",
      "text/plain": [
       "<Figure size 576x360 with 1 Axes>"
      ]
     },
     "metadata": {
      "needs_background": "light"
     },
     "output_type": "display_data"
    }
   ],
   "source": [
    "fig, ax = plt.subplots(figsize=(8,5))\n",
    "\n",
    "g = sns.barplot(x=df_features.PRIM_CONTRIBUTORY_CAUSE.value_counts(normalize=True).index,\n",
    "                y=df_features.PRIM_CONTRIBUTORY_CAUSE.value_counts(normalize=True),data=df_features)\n",
    "\n",
    "plt.xticks(rotation=90)\n",
    "ax.set_title(\"Class Proportion Rappresentation\", fontsize=15, weight='bold', ha='center', va='bottom')\n",
    "ax.set_xlabel('Class Name')\n",
    "ax.set_ylabel('Proportion')\n",
    "plt.show()"
   ]
  },
  {
   "cell_type": "code",
   "execution_count": 152,
   "id": "devoted-pierre",
   "metadata": {
    "execution": {
     "iopub.execute_input": "2021-04-13T20:44:31.208130Z",
     "iopub.status.busy": "2021-04-13T20:44:31.207474Z",
     "iopub.status.idle": "2021-04-13T20:44:31.214518Z",
     "shell.execute_reply": "2021-04-13T20:44:31.213665Z",
     "shell.execute_reply.started": "2021-04-13T20:44:31.208059Z"
    },
    "tags": []
   },
   "outputs": [],
   "source": [
    "X = df_features_ohe\n",
    "y = df_target_ohe.loc[:,'IMPROPER_MANEUVER']"
   ]
  },
  {
   "cell_type": "code",
   "execution_count": 151,
   "id": "advisory-ensemble",
   "metadata": {
    "execution": {
     "iopub.execute_input": "2021-04-13T20:44:15.054467Z",
     "iopub.status.busy": "2021-04-13T20:44:15.053795Z",
     "iopub.status.idle": "2021-04-13T20:44:15.133427Z",
     "shell.execute_reply": "2021-04-13T20:44:15.133102Z",
     "shell.execute_reply.started": "2021-04-13T20:44:15.054399Z"
    },
    "tags": []
   },
   "outputs": [
    {
     "data": {
      "text/plain": [
       "((64464, 111), (27628, 111), (64464,), (27628,))"
      ]
     },
     "execution_count": 151,
     "metadata": {},
     "output_type": "execute_result"
    }
   ],
   "source": [
    "x_train, x_test, y_train, y_test = train_test_split(X, y,test_size=.3, random_state=264, stratify=y)\n",
    "x_train.shape, x_test.shape, y_train.shape, y_test.shape"
   ]
  },
  {
   "cell_type": "markdown",
   "id": "caroline-notebook",
   "metadata": {},
   "source": [
    "## Decision Tree"
   ]
  },
  {
   "cell_type": "code",
   "execution_count": 83,
   "id": "human-aggregate",
   "metadata": {
    "execution": {
     "iopub.execute_input": "2021-04-13T20:12:03.997937Z",
     "iopub.status.busy": "2021-04-13T20:12:03.997530Z",
     "iopub.status.idle": "2021-04-13T20:12:04.032712Z",
     "shell.execute_reply": "2021-04-13T20:12:04.032183Z",
     "shell.execute_reply.started": "2021-04-13T20:12:03.997898Z"
    },
    "tags": []
   },
   "outputs": [],
   "source": [
    "class_weight_dct = dict()\n",
    "class_weight_dct = dict(\n",
    "    zip(\n",
    "        np.unique(y),\n",
    "        compute_class_weight(class_weight=class_weight_dct, classes=np.unique(y), y=np.ravel(np.array(y)))\n",
    "    ))"
   ]
  },
  {
   "cell_type": "code",
   "execution_count": 146,
   "id": "executive-madison",
   "metadata": {
    "execution": {
     "iopub.execute_input": "2021-04-13T20:42:26.184121Z",
     "iopub.status.busy": "2021-04-13T20:42:26.183647Z",
     "iopub.status.idle": "2021-04-13T20:42:26.188348Z",
     "shell.execute_reply": "2021-04-13T20:42:26.187437Z",
     "shell.execute_reply.started": "2021-04-13T20:42:26.184083Z"
    },
    "tags": []
   },
   "outputs": [],
   "source": [
    "dc_param={\n",
    "    'criterion': 'entropy',\n",
    "    'class_weight': 'balanced',\n",
    "    'random_state': 264\n",
    "}"
   ]
  },
  {
   "cell_type": "code",
   "execution_count": 147,
   "id": "southeast-hybrid",
   "metadata": {
    "execution": {
     "iopub.execute_input": "2021-04-13T20:42:26.708724Z",
     "iopub.status.busy": "2021-04-13T20:42:26.708080Z",
     "iopub.status.idle": "2021-04-13T20:42:26.715232Z",
     "shell.execute_reply": "2021-04-13T20:42:26.713709Z",
     "shell.execute_reply.started": "2021-04-13T20:42:26.708655Z"
    },
    "tags": []
   },
   "outputs": [],
   "source": [
    "cls_tree = DecisionTreeClassifier(**dc_param)"
   ]
  },
  {
   "cell_type": "code",
   "execution_count": 148,
   "id": "skilled-morgan",
   "metadata": {
    "execution": {
     "iopub.execute_input": "2021-04-13T20:42:27.045521Z",
     "iopub.status.busy": "2021-04-13T20:42:27.045178Z",
     "iopub.status.idle": "2021-04-13T20:42:27.715853Z",
     "shell.execute_reply": "2021-04-13T20:42:27.715425Z",
     "shell.execute_reply.started": "2021-04-13T20:42:27.045489Z"
    },
    "tags": []
   },
   "outputs": [],
   "source": [
    "model1 = cls_tree.fit(x_train, y_train)\n",
    "model1_y_train_pred = model1.predict(x_train)"
   ]
  },
  {
   "cell_type": "code",
   "execution_count": 149,
   "id": "lesser-magazine",
   "metadata": {
    "execution": {
     "iopub.execute_input": "2021-04-13T20:42:27.717068Z",
     "iopub.status.busy": "2021-04-13T20:42:27.716925Z",
     "iopub.status.idle": "2021-04-13T20:42:27.852304Z",
     "shell.execute_reply": "2021-04-13T20:42:27.851922Z",
     "shell.execute_reply.started": "2021-04-13T20:42:27.717052Z"
    },
    "tags": []
   },
   "outputs": [
    {
     "name": "stdout",
     "output_type": "stream",
     "text": [
      "              precision    recall  f1-score   support\n",
      "\n",
      "         0.0       0.85      0.70      0.77     38141\n",
      "         1.0       0.65      0.83      0.73     26323\n",
      "\n",
      "    accuracy                           0.75     64464\n",
      "   macro avg       0.75      0.76      0.75     64464\n",
      "weighted avg       0.77      0.75      0.75     64464\n",
      "\n"
     ]
    }
   ],
   "source": [
    "print(classification_report(y_train, model1_y_train_pred))"
   ]
  },
  {
   "cell_type": "markdown",
   "id": "missing-verification",
   "metadata": {},
   "source": [
    "## Random Forest"
   ]
  },
  {
   "cell_type": "code",
   "execution_count": 91,
   "id": "musical-sugar",
   "metadata": {
    "execution": {
     "iopub.execute_input": "2021-04-13T20:14:24.580025Z",
     "iopub.status.busy": "2021-04-13T20:14:24.579324Z",
     "iopub.status.idle": "2021-04-13T20:14:24.587195Z",
     "shell.execute_reply": "2021-04-13T20:14:24.586140Z",
     "shell.execute_reply.started": "2021-04-13T20:14:24.579949Z"
    },
    "tags": []
   },
   "outputs": [],
   "source": [
    "cls_rf = RandomForestClassifier(class_weight='balanced', random_state=264)"
   ]
  },
  {
   "cell_type": "code",
   "execution_count": 92,
   "id": "natural-probe",
   "metadata": {
    "execution": {
     "iopub.execute_input": "2021-04-13T20:14:24.966542Z",
     "iopub.status.busy": "2021-04-13T20:14:24.966114Z",
     "iopub.status.idle": "2021-04-13T20:14:32.232638Z",
     "shell.execute_reply": "2021-04-13T20:14:32.232225Z",
     "shell.execute_reply.started": "2021-04-13T20:14:24.966507Z"
    },
    "tags": []
   },
   "outputs": [],
   "source": [
    "model2 = cls_rf.fit(x_train, np.ravel(np.array(y_train)))"
   ]
  },
  {
   "cell_type": "code",
   "execution_count": 93,
   "id": "technological-serve",
   "metadata": {
    "execution": {
     "iopub.execute_input": "2021-04-13T20:14:32.233540Z",
     "iopub.status.busy": "2021-04-13T20:14:32.233431Z",
     "iopub.status.idle": "2021-04-13T20:14:33.468649Z",
     "shell.execute_reply": "2021-04-13T20:14:33.468249Z",
     "shell.execute_reply.started": "2021-04-13T20:14:32.233527Z"
    },
    "tags": []
   },
   "outputs": [],
   "source": [
    "model2_y_train_pred = cls_rf.predict(x_train)"
   ]
  },
  {
   "cell_type": "code",
   "execution_count": 94,
   "id": "mineral-lover",
   "metadata": {
    "execution": {
     "iopub.execute_input": "2021-04-13T20:14:33.469669Z",
     "iopub.status.busy": "2021-04-13T20:14:33.469568Z",
     "iopub.status.idle": "2021-04-13T20:14:33.483990Z",
     "shell.execute_reply": "2021-04-13T20:14:33.483583Z",
     "shell.execute_reply.started": "2021-04-13T20:14:33.469657Z"
    },
    "tags": []
   },
   "outputs": [
    {
     "name": "stdout",
     "output_type": "stream",
     "text": [
      "ROC_AUC Test: 0.7623054832175009\n"
     ]
    }
   ],
   "source": [
    "print(f'ROC_AUC Test: {roc_auc_score(y_train, model1_y_train_pred)}')"
   ]
  },
  {
   "cell_type": "code",
   "execution_count": 693,
   "id": "accepting-aviation",
   "metadata": {
    "execution": {
     "iopub.execute_input": "2021-04-13T18:04:52.966951Z",
     "iopub.status.busy": "2021-04-13T18:04:52.966864Z",
     "iopub.status.idle": "2021-04-13T18:04:52.969303Z",
     "shell.execute_reply": "2021-04-13T18:04:52.968664Z",
     "shell.execute_reply.started": "2021-04-13T18:04:52.966940Z"
    }
   },
   "outputs": [
    {
     "name": "stdout",
     "output_type": "stream",
     "text": [
      "time: 109 µs\n"
     ]
    }
   ],
   "source": [
    "# [(est.get_depth(), est.tree_.max_depth, est.max_depth) for est in cls_rf.estimators_]"
   ]
  },
  {
   "cell_type": "markdown",
   "id": "personal-lighting",
   "metadata": {},
   "source": [
    "## RandomForestClassifier: Hyperparameters with GridSearchCV"
   ]
  },
  {
   "cell_type": "code",
   "execution_count": 128,
   "id": "varying-gibson",
   "metadata": {
    "execution": {
     "iopub.execute_input": "2021-04-13T20:37:18.049350Z",
     "iopub.status.busy": "2021-04-13T20:37:18.048748Z",
     "iopub.status.idle": "2021-04-13T20:37:18.058333Z",
     "shell.execute_reply": "2021-04-13T20:37:18.056951Z",
     "shell.execute_reply.started": "2021-04-13T20:37:18.049284Z"
    },
    "tags": []
   },
   "outputs": [],
   "source": [
    "rfc_param = {\n",
    "    'n_estimators': [100, 300, 500],\n",
    "    'criterion': ['gini', 'entropy'],\n",
    "    'max_depth': [25, 50, 75, 100],\n",
    "    'max_features': ['auto', 'sqrt', 'log2'],\n",
    "    'bootstrap': [True],\n",
    "    'oob_score': [True],\n",
    "    'n_jobs': [4],\n",
    "    'class_weight': ['balanced'],\n",
    "    'max_samples': [500],\n",
    "    'random_state': [264]\n",
    "}"
   ]
  },
  {
   "cell_type": "code",
   "execution_count": 699,
   "id": "serious-ancient",
   "metadata": {
    "execution": {
     "iopub.execute_input": "2021-04-13T18:09:04.402703Z",
     "iopub.status.busy": "2021-04-13T18:09:04.402067Z",
     "iopub.status.idle": "2021-04-13T18:09:04.410069Z",
     "shell.execute_reply": "2021-04-13T18:09:04.408747Z",
     "shell.execute_reply.started": "2021-04-13T18:09:04.402638Z"
    },
    "tags": []
   },
   "outputs": [
    {
     "name": "stdout",
     "output_type": "stream",
     "text": [
      "time: 877 µs\n"
     ]
    }
   ],
   "source": [
    "grid_search = GridSearchCV(cls_rf, param_grid=rfc_param, scoring='roc_auc', n_jobs=4, cv=2)"
   ]
  },
  {
   "cell_type": "code",
   "execution_count": 700,
   "id": "martial-turner",
   "metadata": {
    "execution": {
     "iopub.execute_input": "2021-04-13T18:09:07.102754Z",
     "iopub.status.busy": "2021-04-13T18:09:07.102048Z",
     "iopub.status.idle": "2021-04-13T19:06:32.859815Z",
     "shell.execute_reply": "2021-04-13T19:06:32.859391Z",
     "shell.execute_reply.started": "2021-04-13T18:09:07.102680Z"
    },
    "tags": []
   },
   "outputs": [
    {
     "data": {
      "text/plain": [
       "GridSearchCV(cv=2,\n",
       "             estimator=RandomForestClassifier(class_weight='balanced',\n",
       "                                              random_state=264),\n",
       "             n_jobs=4,\n",
       "             param_grid={'bootstrap': [True],\n",
       "                         'class_weight': [{0.0: 0.8450668036998972,\n",
       "                                           1.0: 1.2244973938942665},\n",
       "                                          'balanced'],\n",
       "                         'criterion': ['gini', 'entropy'],\n",
       "                         'max_depth': [10, 25, 35, 65],\n",
       "                         'max_features': ['auto', 'sqrt', 'log2'],\n",
       "                         'max_samples': [500],\n",
       "                         'min_samples_leaf': [2, 4, 6, 10],\n",
       "                         'min_samples_split': [2, 4, 6, 10],\n",
       "                         'n_estimators': [75, 100, 200, 400], 'n_jobs': [4],\n",
       "                         'oob_score': [True], 'random_state': [264]},\n",
       "             scoring='roc_auc')"
      ]
     },
     "execution_count": 700,
     "metadata": {},
     "output_type": "execute_result"
    },
    {
     "name": "stdout",
     "output_type": "stream",
     "text": [
      "time: 57min 25s\n"
     ]
    }
   ],
   "source": [
    "grid_search.fit(x_train, np.ravel(np.array(y_train)))"
   ]
  },
  {
   "cell_type": "code",
   "execution_count": 701,
   "id": "reserved-humidity",
   "metadata": {
    "execution": {
     "iopub.execute_input": "2021-04-13T19:12:18.749924Z",
     "iopub.status.busy": "2021-04-13T19:12:18.749355Z",
     "iopub.status.idle": "2021-04-13T19:12:18.762183Z",
     "shell.execute_reply": "2021-04-13T19:12:18.761302Z",
     "shell.execute_reply.started": "2021-04-13T19:12:18.749867Z"
    }
   },
   "outputs": [
    {
     "data": {
      "text/plain": [
       "{'bootstrap': True,\n",
       " 'class_weight': 'balanced',\n",
       " 'criterion': 'entropy',\n",
       " 'max_depth': 35,\n",
       " 'max_features': 'auto',\n",
       " 'max_samples': 500,\n",
       " 'min_samples_leaf': 2,\n",
       " 'min_samples_split': 10,\n",
       " 'n_estimators': 400,\n",
       " 'n_jobs': 4,\n",
       " 'oob_score': True,\n",
       " 'random_state': 264}"
      ]
     },
     "execution_count": 701,
     "metadata": {},
     "output_type": "execute_result"
    },
    {
     "name": "stdout",
     "output_type": "stream",
     "text": [
      "time: 5.34 ms\n"
     ]
    }
   ],
   "source": [
    "rf_best_params=grid_search.best_params_;rf_best_params"
   ]
  },
  {
   "cell_type": "code",
   "execution_count": 702,
   "id": "continental-monster",
   "metadata": {
    "execution": {
     "iopub.execute_input": "2021-04-13T19:12:27.321154Z",
     "iopub.status.busy": "2021-04-13T19:12:27.320768Z",
     "iopub.status.idle": "2021-04-13T19:12:27.326548Z",
     "shell.execute_reply": "2021-04-13T19:12:27.325546Z",
     "shell.execute_reply.started": "2021-04-13T19:12:27.321120Z"
    },
    "tags": []
   },
   "outputs": [
    {
     "name": "stdout",
     "output_type": "stream",
     "text": [
      "Best Score           0.6965075388087427\n",
      "time: 1.08 ms\n"
     ]
    }
   ],
   "source": [
    "print(f\"{'Best Score':20} {grid_search.best_score_}\")"
   ]
  },
  {
   "cell_type": "code",
   "execution_count": 96,
   "id": "tight-profit",
   "metadata": {
    "execution": {
     "iopub.execute_input": "2021-04-13T20:15:32.515893Z",
     "iopub.status.busy": "2021-04-13T20:15:32.515557Z",
     "iopub.status.idle": "2021-04-13T20:15:32.522839Z",
     "shell.execute_reply": "2021-04-13T20:15:32.521382Z",
     "shell.execute_reply.started": "2021-04-13T20:15:32.515861Z"
    }
   },
   "outputs": [],
   "source": [
    "rf_best_params = {'bootstrap': True,\n",
    " 'class_weight': 'balanced',\n",
    " 'criterion': 'entropy',\n",
    " 'max_depth': 35,\n",
    " 'max_features': 'auto',\n",
    " 'max_samples': 500,\n",
    " 'min_samples_leaf': 2,\n",
    " 'min_samples_split': 10,\n",
    " 'n_estimators': 400,\n",
    " 'n_jobs': 4,\n",
    " 'oob_score': True,\n",
    " 'random_state': 264}"
   ]
  },
  {
   "cell_type": "code",
   "execution_count": 108,
   "id": "impossible-vietnam",
   "metadata": {
    "execution": {
     "iopub.execute_input": "2021-04-13T20:23:47.968548Z",
     "iopub.status.busy": "2021-04-13T20:23:47.968186Z",
     "iopub.status.idle": "2021-04-13T20:23:47.973508Z",
     "shell.execute_reply": "2021-04-13T20:23:47.972336Z",
     "shell.execute_reply.started": "2021-04-13T20:23:47.968513Z"
    },
    "tags": []
   },
   "outputs": [],
   "source": [
    "cls_rf = RandomForestClassifier(**rf_best_params)"
   ]
  },
  {
   "cell_type": "code",
   "execution_count": 162,
   "id": "acceptable-sympathy",
   "metadata": {
    "execution": {
     "iopub.execute_input": "2021-04-13T20:52:51.450547Z",
     "iopub.status.busy": "2021-04-13T20:52:51.449832Z",
     "iopub.status.idle": "2021-04-13T20:52:57.003414Z",
     "shell.execute_reply": "2021-04-13T20:52:57.003035Z",
     "shell.execute_reply.started": "2021-04-13T20:52:51.450471Z"
    },
    "tags": []
   },
   "outputs": [],
   "source": [
    "model3_train = cls_rf.fit(x_train, np.ravel(np.array(y_train)))"
   ]
  },
  {
   "cell_type": "code",
   "execution_count": 163,
   "id": "honey-burning",
   "metadata": {
    "execution": {
     "iopub.execute_input": "2021-04-13T20:53:01.636800Z",
     "iopub.status.busy": "2021-04-13T20:53:01.636169Z",
     "iopub.status.idle": "2021-04-13T20:53:02.140838Z",
     "shell.execute_reply": "2021-04-13T20:53:02.140448Z",
     "shell.execute_reply.started": "2021-04-13T20:53:01.636733Z"
    },
    "tags": []
   },
   "outputs": [],
   "source": [
    "model3_y_train_pred = cls_rf.predict(x_train)"
   ]
  },
  {
   "cell_type": "code",
   "execution_count": 164,
   "id": "elect-status",
   "metadata": {
    "execution": {
     "iopub.execute_input": "2021-04-13T20:53:39.108934Z",
     "iopub.status.busy": "2021-04-13T20:53:39.108352Z",
     "iopub.status.idle": "2021-04-13T20:53:41.864079Z",
     "shell.execute_reply": "2021-04-13T20:53:41.863724Z",
     "shell.execute_reply.started": "2021-04-13T20:53:39.108868Z"
    },
    "tags": []
   },
   "outputs": [],
   "source": [
    "model3_test = cls_rf.fit(x_test, np.ravel(np.array(y_test)))"
   ]
  },
  {
   "cell_type": "code",
   "execution_count": 165,
   "id": "occasional-denial",
   "metadata": {
    "execution": {
     "iopub.execute_input": "2021-04-13T20:53:43.160081Z",
     "iopub.status.busy": "2021-04-13T20:53:43.159446Z",
     "iopub.status.idle": "2021-04-13T20:53:43.412331Z",
     "shell.execute_reply": "2021-04-13T20:53:43.411936Z",
     "shell.execute_reply.started": "2021-04-13T20:53:43.160013Z"
    }
   },
   "outputs": [],
   "source": [
    "model3_y_test_pred = cls_rf.predict(x_test)"
   ]
  },
  {
   "cell_type": "code",
   "execution_count": 166,
   "id": "liquid-character",
   "metadata": {
    "execution": {
     "iopub.execute_input": "2021-04-13T20:53:47.760263Z",
     "iopub.status.busy": "2021-04-13T20:53:47.759627Z",
     "iopub.status.idle": "2021-04-13T20:53:47.790783Z",
     "shell.execute_reply": "2021-04-13T20:53:47.790243Z",
     "shell.execute_reply.started": "2021-04-13T20:53:47.760223Z"
    },
    "tags": []
   },
   "outputs": [
    {
     "name": "stdout",
     "output_type": "stream",
     "text": [
      "ROC_AUC Test: 0.6629386111588662\n"
     ]
    }
   ],
   "source": [
    "print(f'ROC_AUC Test: {roc_auc_score(y_train, model3_y_train_pred)}')"
   ]
  },
  {
   "cell_type": "code",
   "execution_count": 167,
   "id": "artificial-dollar",
   "metadata": {
    "execution": {
     "iopub.execute_input": "2021-04-13T20:53:57.433011Z",
     "iopub.status.busy": "2021-04-13T20:53:57.432423Z",
     "iopub.status.idle": "2021-04-13T20:53:57.455535Z",
     "shell.execute_reply": "2021-04-13T20:53:57.454483Z",
     "shell.execute_reply.started": "2021-04-13T20:53:57.432945Z"
    }
   },
   "outputs": [
    {
     "name": "stdout",
     "output_type": "stream",
     "text": [
      "ROC_AUC Test: 0.6569795179837556\n"
     ]
    }
   ],
   "source": [
    "print(f'ROC_AUC Test: {roc_auc_score(y_test, model3_y_test_pred)}')"
   ]
  },
  {
   "cell_type": "code",
   "execution_count": 168,
   "id": "differential-restaurant",
   "metadata": {
    "execution": {
     "iopub.execute_input": "2021-04-13T20:54:12.266204Z",
     "iopub.status.busy": "2021-04-13T20:54:12.265587Z",
     "iopub.status.idle": "2021-04-13T20:54:12.351273Z",
     "shell.execute_reply": "2021-04-13T20:54:12.350817Z",
     "shell.execute_reply.started": "2021-04-13T20:54:12.266139Z"
    },
    "tags": []
   },
   "outputs": [
    {
     "name": "stdout",
     "output_type": "stream",
     "text": [
      "              precision    recall  f1-score   support\n",
      "\n",
      "         0.0       0.75      0.60      0.67     16347\n",
      "         1.0       0.55      0.71      0.62     11281\n",
      "\n",
      "    accuracy                           0.65     27628\n",
      "   macro avg       0.65      0.66      0.65     27628\n",
      "weighted avg       0.67      0.65      0.65     27628\n",
      "\n"
     ]
    }
   ],
   "source": [
    "print(classification_report(y_test, model3_y_test_pred))"
   ]
  },
  {
   "cell_type": "code",
   "execution_count": 124,
   "id": "opened-demand",
   "metadata": {
    "execution": {
     "iopub.execute_input": "2021-04-13T20:27:22.291316Z",
     "iopub.status.busy": "2021-04-13T20:27:22.290728Z",
     "iopub.status.idle": "2021-04-13T20:27:23.605834Z",
     "shell.execute_reply": "2021-04-13T20:27:23.605528Z",
     "shell.execute_reply.started": "2021-04-13T20:27:22.291252Z"
    },
    "tags": []
   },
   "outputs": [
    {
     "data": {
      "image/png": "[encoded data removed]",
      "text/plain": [
       "<Figure size 1080x2160 with 1 Axes>"
      ]
     },
     "metadata": {
      "needs_background": "light"
     },
     "output_type": "display_data"
    }
   ],
   "source": [
    "model2_df = pd.DataFrame({'features': x_train.columns,\n",
    "                          'Ranking':cls_rf.feature_importances_})\n",
    "                        \n",
    "model2_df = model2_df[(model2_df.Ranking > 0)].sort_values(by='Ranking', ascending=False)\n",
    "\n",
    "fig, ax = plt.subplots(figsize=(15,30))\n",
    "g = sns.barplot(x='Ranking', y='features', data=model2_df)\n",
    "plt.xticks(rotation=90)\n",
    "ax.set_title(\"Random Forest Features Importance\", fontsize=15, weight='bold', ha='center', va='bottom')\n",
    "ax.set_xlabel('Features')\n",
    "ax.set_ylabel('Ranking')\n",
    "plt.show()"
   ]
  },
  {
   "cell_type": "code",
   "execution_count": null,
   "id": "nonprofit-subscription",
   "metadata": {},
   "outputs": [],
   "source": []
  },
  {
   "cell_type": "code",
   "execution_count": null,
   "id": "desirable-portsmouth",
   "metadata": {},
   "outputs": [],
   "source": []
  },
  {
   "cell_type": "code",
   "execution_count": null,
   "id": "likely-touch",
   "metadata": {},
   "outputs": [],
   "source": []
  },
  {
   "cell_type": "code",
   "execution_count": null,
   "id": "fleet-subsection",
   "metadata": {},
   "outputs": [],
   "source": []
  },
  {
   "cell_type": "code",
   "execution_count": null,
   "id": "flying-county",
   "metadata": {},
   "outputs": [],
   "source": []
  },
  {
   "cell_type": "code",
   "execution_count": 173,
   "id": "toxic-count",
   "metadata": {
    "execution": {
     "iopub.execute_input": "2021-04-13T22:04:39.655227Z",
     "iopub.status.busy": "2021-04-13T22:04:39.654881Z",
     "iopub.status.idle": "2021-04-13T22:04:39.668496Z",
     "shell.execute_reply": "2021-04-13T22:04:39.667002Z",
     "shell.execute_reply.started": "2021-04-13T22:04:39.655194Z"
    },
    "tags": []
   },
   "outputs": [],
   "source": [
    "sampler = SMOTEN(random_state=264, n_jobs=4)"
   ]
  },
  {
   "cell_type": "code",
   "execution_count": null,
   "id": "artistic-evans",
   "metadata": {
    "execution": {
     "iopub.execute_input": "2021-04-13T22:04:42.770335Z",
     "iopub.status.busy": "2021-04-13T22:04:42.769749Z"
    },
    "tags": []
   },
   "outputs": [],
   "source": [
    "X_res, y_res = sampler.fit_resample(x_train[x_train.columns.difference(['POSTED_SPEED_LIMIT'])], y_train)"
   ]
  },
  {
   "cell_type": "code",
   "execution_count": 269,
   "id": "running-alliance",
   "metadata": {},
   "outputs": [],
   "source": [
    "rf = RandomForestClassifier(**rf_best_params)"
   ]
  },
  {
   "cell_type": "code",
   "execution_count": 270,
   "id": "connected-lancaster",
   "metadata": {},
   "outputs": [],
   "source": [
    "m4 = rf.fit(X_res, np.ravel(np.array(y_res)))"
   ]
  },
  {
   "cell_type": "code",
   "execution_count": 273,
   "id": "revised-diary",
   "metadata": {},
   "outputs": [],
   "source": [
    "m4_y_train_pred = cls_rf.predict(X_res)"
   ]
  },
  {
   "cell_type": "code",
   "execution_count": 279,
   "id": "aging-bridge",
   "metadata": {},
   "outputs": [
    {
     "name": "stdout",
     "output_type": "stream",
     "text": [
      "ROC_AUC Test: 0.7501769749088908\n"
     ]
    }
   ],
   "source": [
    "print(f'ROC_AUC Test: {roc_auc_score(y_res, m4_y_train_pred)}')"
   ]
  },
  {
   "cell_type": "code",
   "execution_count": null,
   "id": "graphic-association",
   "metadata": {},
   "outputs": [],
   "source": []
  },
  {
   "cell_type": "code",
   "execution_count": null,
   "id": "expired-southwest",
   "metadata": {},
   "outputs": [],
   "source": []
  },
  {
   "cell_type": "code",
   "execution_count": null,
   "id": "loose-round",
   "metadata": {},
   "outputs": [],
   "source": []
  },
  {
   "cell_type": "code",
   "execution_count": null,
   "id": "chinese-fruit",
   "metadata": {},
   "outputs": [],
   "source": []
  },
  {
   "cell_type": "code",
   "execution_count": null,
   "id": "consistent-worker",
   "metadata": {},
   "outputs": [],
   "source": []
  },
  {
   "cell_type": "code",
   "execution_count": null,
   "id": "prescription-intermediate",
   "metadata": {},
   "outputs": [],
   "source": []
  },
  {
   "cell_type": "code",
   "execution_count": null,
   "id": "important-representative",
   "metadata": {},
   "outputs": [],
   "source": []
  },
  {
   "cell_type": "code",
   "execution_count": null,
   "id": "chinese-driver",
   "metadata": {},
   "outputs": [],
   "source": []
  },
  {
   "cell_type": "code",
   "execution_count": null,
   "id": "committed-personality",
   "metadata": {},
   "outputs": [],
   "source": []
  },
  {
   "cell_type": "code",
   "execution_count": null,
   "id": "sealed-newspaper",
   "metadata": {},
   "outputs": [],
   "source": []
  },
  {
   "cell_type": "code",
   "execution_count": null,
   "id": "expressed-flour",
   "metadata": {},
   "outputs": [],
   "source": [
    "print('a')"
   ]
  },
  {
   "cell_type": "code",
   "execution_count": null,
   "id": "intermediate-patient",
   "metadata": {},
   "outputs": [],
   "source": []
  },
  {
   "cell_type": "markdown",
   "id": "burning-gibson",
   "metadata": {},
   "source": [
    "## Interpreting Data"
   ]
  },
  {
   "cell_type": "code",
   "execution_count": null,
   "id": "clear-might",
   "metadata": {},
   "outputs": [],
   "source": []
  },
  {
   "cell_type": "code",
   "execution_count": null,
   "id": "every-collect",
   "metadata": {},
   "outputs": [],
   "source": []
  },
  {
   "cell_type": "code",
   "execution_count": null,
   "id": "physical-desperate",
   "metadata": {},
   "outputs": [],
   "source": []
  }
 ],
 "metadata": {
  "kernelspec": {
   "display_name": "Python 3",
   "language": "python",
   "name": "python3"
  },
  "language_info": {
   "codemirror_mode": {
    "name": "ipython",
    "version": 3
   },
   "file_extension": ".py",
   "mimetype": "text/x-python",
   "name": "python",
   "nbconvert_exporter": "python",
   "pygments_lexer": "ipython3",
   "version": "3.8.8"
  }
 },
 "nbformat": 4,
 "nbformat_minor": 5
}
